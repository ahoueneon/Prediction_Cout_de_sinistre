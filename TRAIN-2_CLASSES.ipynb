{
 "cells": [
  {
   "cell_type": "code",
   "execution_count": null,
   "id": "bbb96655-96ef-4aae-90e0-e00c259e549c",
   "metadata": {},
   "outputs": [],
   "source": [
    "# !pip install pycaret \\\n",
    "#  torch \\\n",
    "#  torchvision \\\n",
    "#  transformers \\\n",
    "#  xgboost \\\n",
    "#  catboost \\\n",
    "#  seaborn "
   ]
  },
  {
   "cell_type": "code",
   "execution_count": 2,
   "id": "2c6a6bca-cc07-4b6e-83c8-2298823b6d22",
   "metadata": {},
   "outputs": [],
   "source": [
    "import pandas as pd \n",
    "pd.set_option('display.max_columns', None)  \n",
    "import matplotlib.pyplot as plt \n",
    "from PIL import Image, ImageFile, UnidentifiedImageError\n",
    "import os\n",
    "import pycaret \n",
    "ImageFile.LOAD_TRUNCATED_IMAGES = True \n",
    "import torch \n",
    "import torch.nn as nn\n",
    "import torch.optim as optim\n",
    "import torch.backends.cudnn as cudnn\n",
    "import torchvision \n",
    "from torchvision import datasets, models, transforms \n",
    "from tempfile import TemporaryDirectory \n",
    "from torch.utils.data import DataLoader \n",
    "from torch.utils.data import Dataset\n",
    "from torchvision.models import resnet18, resnet50, VGG19_Weights\n",
    "import warnings\n",
    "warnings.filterwarnings(\"ignore\")  \n",
    "import numpy as np\n",
    "from sklearn.ensemble import RandomForestClassifier\n",
    "\n",
    "# from sklearn.model_selection import train_test_split\n",
    "# import mlflow                                   \n",
    "# import mlflow.pytorch\n",
    "# Ignorer tous les avertissements\n",
    "# from torchmetrics.classification import Accuracy\n",
    "# from efficientnet_pytorch import EfficientNet\n",
    "# import numpy as np \n",
    "# import seaborn as sns\n",
    "# from sklearn.metrics import accuracy_score, precision_score, recall_score, f1_score\n",
    "# import pretrainedmodels "
   ]
  },
  {
   "cell_type": "code",
   "execution_count": null,
   "id": "d9b67016-1df6-461c-93ef-9be1c9439944",
   "metadata": {},
   "outputs": [],
   "source": []
  },
  {
   "cell_type": "code",
   "execution_count": 3,
   "id": "437ebb92-cbb2-4663-b4a3-46ec7fcb6ff6",
   "metadata": {},
   "outputs": [
    {
     "name": "stdout",
     "output_type": "stream",
     "text": [
      "34\n"
     ]
    }
   ],
   "source": [
    "n_files = 34 # Remplace ceci par le nombre exact de fichiers CSV que tu as\n",
    "\n",
    "# Crée une liste des chemins des fichiers CSV\n",
    "file_paths = [f'/opt/spark-apps/programs/Gohou/Data/Tabes/New_trans/df{i}.csv' for i in range(n_files)]\n",
    "\n",
    "# Lire les fichiers CSV et stocker les DataFrames dans une liste\n",
    "list_df = [pd.read_csv(file_path) for file_path in file_paths] \n",
    "print(len(list_df))\n",
    "df_final = pd.concat(list_df, ignore_index=True) "
   ]
  },
  {
   "cell_type": "code",
   "execution_count": 4,
   "id": "dea997ff-2451-40d8-bfe1-f379c07cc657",
   "metadata": {},
   "outputs": [],
   "source": [
    "df = df_final.copy()\n",
    "df.dropna(inplace=True)\n",
    "df.reset_index(drop=True, inplace=True)"
   ]
  },
  {
   "cell_type": "code",
   "execution_count": 5,
   "id": "17219b9f-2774-4084-a1b8-ce54ac44bb9d",
   "metadata": {},
   "outputs": [
    {
     "data": {
      "text/plain": [
       "cluster\n",
       "0    3408\n",
       "1    1770\n",
       "2     835\n",
       "3     484\n",
       "Name: count, dtype: int64"
      ]
     },
     "execution_count": 5,
     "metadata": {},
     "output_type": "execute_result"
    }
   ],
   "source": [
    "df[\"cluster\"].value_counts() "
   ]
  },
  {
   "cell_type": "code",
   "execution_count": 6,
   "id": "03da2e1a-105f-4f43-ace7-d135c95b75f0",
   "metadata": {},
   "outputs": [],
   "source": [
    "condition = {0:\"0\", 1:\"1\",2:\"1\",3:\"1\",}\n",
    "condition2 = {\"0\":0, \"1\":1}\n",
    "df[\"cluster\"] = df[\"cluster\"].map(condition)\n",
    "df[\"cluster\"] = df[\"cluster\"].map(condition2)"
   ]
  },
  {
   "cell_type": "code",
   "execution_count": 7,
   "id": "fd608f33-6595-457e-8c2a-aa7a5295d408",
   "metadata": {},
   "outputs": [
    {
     "data": {
      "text/plain": [
       "cluster\n",
       "0    3408\n",
       "1    3089\n",
       "Name: count, dtype: int64"
      ]
     },
     "execution_count": 7,
     "metadata": {},
     "output_type": "execute_result"
    }
   ],
   "source": [
    "df[\"cluster\"].value_counts() "
   ]
  },
  {
   "cell_type": "code",
   "execution_count": 8,
   "id": "87b1ead5-4128-4033-ae49-4f8f01af436b",
   "metadata": {},
   "outputs": [],
   "source": [
    "import pickle\n",
    "from sklearn.decomposition import PCA\n",
    "from sklearn.preprocessing import StandardScaler\n",
    "\n",
    "X = df.drop(columns = [f'feature_{i}' for i in range(2433, 3201)], axis=1)\n",
    "X = X.drop(columns=['Unnamed: 0', 'id', 'CODEINTE_NUMEPOLI_CODERISQ', 'COUTS_SINISTRES', 'cluster'], axis =1)  # Variables indépendantes\n",
    "\n",
    "\n",
    "# Charger le modèle PCA\n",
    "with open('/opt/spark-apps/programs/Gohou/Data/Tabes/New_trans/ACP_SUP_2_CLASSES.pkl', 'rb') as acp:\n",
    "    pca = pickle.load(acp)\n",
    "\n",
    "# Charger le scaler\n",
    "with open('/opt/spark-apps/programs/Gohou/Data/Tabes/New_trans/scaler_SUP_2_CLASSES', 'rb') as scale:\n",
    "    scaler = pickle.load(scale)\n",
    "\n",
    "\n",
    "# Exemple de transformation avec le PCA et le scaler\n",
    "X_pca = pca.transform(scaler.transform(X))"
   ]
  },
  {
   "cell_type": "code",
   "execution_count": null,
   "id": "838f1cb7-26b5-4c97-b6fe-7163861381a8",
   "metadata": {},
   "outputs": [],
   "source": []
  },
  {
   "cell_type": "code",
   "execution_count": 9,
   "id": "28b840a9-562d-449c-9b83-82160157eeff",
   "metadata": {},
   "outputs": [],
   "source": [
    "# # %%cudf.pandas.profile\n",
    "# from sklearn.decomposition import PCA\n",
    "# from sklearn.preprocessing import StandardScaler\n",
    "\n",
    "# X = df.drop(columns = [f'feature_{i}' for i in range(2433, 3201)], axis=1)\n",
    "# X = X.drop(columns=['Unnamed: 0', 'id', 'CODEINTE_NUMEPOLI_CODERISQ', 'COUTS_SINISTRES', 'cluster'], axis =1)  # Variables indépendantes\n",
    "\n",
    "# # Étape 1 : Normalisation des données\n",
    "# scaler = StandardScaler() \n",
    "# X_scaled = scaler.fit_transform(X)  # Normaliser tes données (X est ton jeu de données)\n",
    "\n",
    "# # Étape 2 : Application de l'ACP\n",
    "# pca = PCA(n_components = 0.8)  # Conserver 95% de la variance expliquée\n",
    "# X_pca = pca.fit_transform(X_scaled) \n",
    "\n",
    "# # Afficher la variance expliquée par chaque composante principale\n",
    "# print(\"Variance expliquée par chaque composante principale : \", sum(pca.explained_variance_ratio_))\n",
    "# print(\"Nombre de composantes principales sélectionnées : \", pca.n_components_)  "
   ]
  },
  {
   "cell_type": "code",
   "execution_count": 10,
   "id": "a9b4e62d-91c2-4280-8af0-7ee267c7f6ad",
   "metadata": {},
   "outputs": [],
   "source": [
    "# import pickle\n",
    "\n",
    "# # Enregistrer le modèle\n",
    "# with open('/opt/spark-apps/programs/Gohou/Data/Tabes/New_trans/ACP_SUP_2_CLASSES.pkl', 'wb') as acp:\n",
    "#     pickle.dump(pca, acp)  \n",
    "\n",
    "# with open('/opt/spark-apps/programs/Gohou/Data/Tabes/New_trans/scaler_SUP_2_CLASSES', 'wb') as scale:\n",
    "#     pickle.dump(scaler, scale)  "
   ]
  },
  {
   "cell_type": "code",
   "execution_count": 11,
   "id": "f248cf38-8d8b-4bb0-822d-ef9f9e17e527",
   "metadata": {},
   "outputs": [
    {
     "data": {
      "text/plain": [
       "(6497, 763)"
      ]
     },
     "execution_count": 11,
     "metadata": {},
     "output_type": "execute_result"
    }
   ],
   "source": [
    "X_pca_df = pd.DataFrame(X_pca, columns=[f\"PC{i+1}\" for i in range(X_pca.shape[1])])\n",
    "df1 = pd.concat([X_pca_df, df[['id', 'CODEINTE_NUMEPOLI_CODERISQ', 'COUTS_SINISTRES', 'cluster']]], axis=1) \n",
    "df1.shape"
   ]
  },
  {
   "cell_type": "code",
   "execution_count": 12,
   "id": "ab8c4f13-a633-4dd3-9935-4ba5df698a0c",
   "metadata": {},
   "outputs": [
    {
     "data": {
      "text/plain": [
       "cluster\n",
       "0    3408\n",
       "1    3089\n",
       "Name: count, dtype: int64"
      ]
     },
     "execution_count": 12,
     "metadata": {},
     "output_type": "execute_result"
    }
   ],
   "source": [
    "df['cluster'].value_counts()"
   ]
  },
  {
   "cell_type": "code",
   "execution_count": 13,
   "id": "cd64fabf-e0e7-45e2-b90b-b5b69a6fd314",
   "metadata": {},
   "outputs": [],
   "source": [
    "df1.to_csv('/opt/spark-apps/programs/Gohou/Data/Tabes/New_trans/Final_2_CLASSES.csv') "
   ]
  },
  {
   "cell_type": "code",
   "execution_count": 13,
   "id": "043c69e8-a6a1-49cd-887b-650e0ed8c583",
   "metadata": {},
   "outputs": [],
   "source": [
    "# df = pd.read_csv('/opt/spark-apps/programs/Gohou/Data/Tabes/New_trans/.csv') "
   ]
  },
  {
   "cell_type": "code",
   "execution_count": null,
   "id": "4cdc26a9-b844-4c9b-bb8c-7dadb0787dc0",
   "metadata": {},
   "outputs": [],
   "source": []
  },
  {
   "cell_type": "code",
   "execution_count": 14,
   "id": "e4c9eb45-2102-46b1-a327-2280368fec89",
   "metadata": {},
   "outputs": [],
   "source": [
    "from imblearn.under_sampling import RandomUnderSampler\n",
    "from sklearn.model_selection import train_test_split\n",
    "from sklearn.ensemble import RandomForestClassifier\n",
    "from sklearn.metrics import classification_report"
   ]
  },
  {
   "cell_type": "code",
   "execution_count": 15,
   "id": "1959c5a8-d386-4250-adf8-8902fcc5adb1",
   "metadata": {},
   "outputs": [
    {
     "name": "stdout",
     "output_type": "stream",
     "text": [
      "Distribution des classes avant suréchantillonnage : Counter({0: 2556, 1: 2316})\n"
     ]
    }
   ],
   "source": [
    "df = df1.copy()\n",
    "from imblearn.over_sampling import SMOTE\n",
    "from collections import Counter\n",
    "X = df.drop(columns='cluster')  # Variables indépendantes\n",
    "y = df['cluster'] \n",
    "\n",
    "# # Séparation des données en ensembles d'entraînement et de test\n",
    "X_train1, X_test1, y_train, y_test = train_test_split(X, y, test_size=0.25, random_state=42,stratify=y)\n",
    "X_train, X_test = X_train1.drop(columns=['id', 'CODEINTE_NUMEPOLI_CODERISQ', 'COUTS_SINISTRES']),  X_test1.drop(columns=['id', 'CODEINTE_NUMEPOLI_CODERISQ', 'COUTS_SINISTRES'])\n",
    "\n",
    "# # Application de SMOTE pour suréchantillonner la classe minoritaire\n",
    "# smote = SMOTE(random_state=42)\n",
    "# X_train_resampled, y_train_resampled = smote.fit_resample(X_train, y_train)\n",
    "\n",
    "# # Vérifier la distribution des classes après suréchantillonnage\n",
    "print(\"Distribution des classes avant suréchantillonnage :\", Counter(y_train))\n",
    "# print(\"Distribution des classes après suréchantillonnage :\", Counter(y_train_resampled)) "
   ]
  },
  {
   "cell_type": "code",
   "execution_count": 16,
   "id": "d308a6f1-07ad-4ee4-8446-b227bc71e53c",
   "metadata": {},
   "outputs": [],
   "source": [
    "import time\n",
    "import xgboost as xgb\n",
    "from sklearn.svm import SVC\n",
    "from lightgbm import LGBMClassifier\n",
    "from catboost import CatBoostClassifier\n",
    "from sklearn.neighbors import KNeighborsClassifier\n",
    "from sklearn.tree import DecisionTreeClassifier, DecisionTreeRegressor\n",
    "from sklearn.ensemble import RandomForestClassifier, GradientBoostingClassifier, AdaBoostClassifier, BaggingClassifier\n",
    "from sklearn.metrics import classification_report, accuracy_score, confusion_matrix, f1_score\n",
    "from sklearn.model_selection import cross_val_score, KFold,cross_val_predict, train_test_split,GridSearchCV\n",
    "from sklearn.linear_model import LinearRegression,LogisticRegression,ElasticNet, Ridge, Lasso\n",
    "from sklearn.discriminant_analysis import LinearDiscriminantAnalysis, QuadraticDiscriminantAnalysis"
   ]
  },
  {
   "cell_type": "code",
   "execution_count": 17,
   "id": "88f09afe-c995-43f0-840b-71ef011b593e",
   "metadata": {},
   "outputs": [],
   "source": [
    "a = int(np.sqrt(len(X_train.columns))) \n",
    "dico = {\n",
    "    'logistic': LogisticRegression(),\n",
    "    'elastic': LogisticRegression(penalty=\"elasticnet\", solver=\"saga\"),  #met beaucoup de temps \n",
    "    'ridge': LogisticRegression(penalty=\"l2\"),\n",
    "    'lasso': LogisticRegression(penalty=\"l1\"),\n",
    "    'Arbre': DecisionTreeClassifier(),\n",
    "    'Random': RandomForestClassifier(), \n",
    "    'xgb': xgb.XGBClassifier(),\n",
    "    'knn': KNeighborsClassifier(),\n",
    "    'Gradient_boosting': GradientBoostingClassifier(),\n",
    "    'adaboost_classifier': AdaBoostClassifier(),\n",
    "    'Bagging': BaggingClassifier(DecisionTreeClassifier(max_depth=7)), \n",
    "    'SVM': SVC(),\n",
    "    'LDA': LinearDiscriminantAnalysis(),\n",
    "    'QDA': QuadraticDiscriminantAnalysis(),\n",
    "    'lightgbm': LGBMClassifier(),  # Ajout de LightGBM\n",
    "    'catboost': CatBoostClassifier(verbose=0)  # Ajout de CatBoost\n",
    "}\n",
    "\n",
    "param = [ \n",
    "    {\"C\": [0.1], \"max_iter\": [10000]},\n",
    "    {\"C\": [0.1], \"l1_ratio\": [0.1, 0.5, 0.7], \"max_iter\": [10000]},\n",
    "    {\"C\": [0.1], \"solver\": [\"sag\", \"lbfgs\", \"liblinear\"], \"max_iter\": [10000]}, # C grand surapprentissage \n",
    "    {\"C\": [0.1], \"solver\": [\"liblinear\"], \"max_iter\": [10000]},\n",
    "    {\"max_depth\": [10], \"min_samples_split\": [10], \"min_samples_leaf\": [5]},\n",
    "    {\"n_estimators\": [100], \"min_samples_leaf\": [5], \"max_features\": [0.6], \"max_depth\": [10]},\n",
    "    {'colsample_bytree': [0.6], \"n_estimators\": [100], \"max_depth\": [2, 3], \"objective\":['binary:logistic'], \"subsample\": [0.7]}, \n",
    "    {'n_neighbors': [10, 15], \"algorithm\": [\"auto\",\"ball_tree\"]}, # k petit surapprentissage \n",
    "    {\"n_estimators\": [100], \"max_depth\": [3], \"learning_rate\": [0.1], \"min_samples_split\": [10], \"min_samples_leaf\": [7], \"subsample\": [0.6]},\n",
    "    {\"n_estimators\": [100], \"learning_rate\": [0.1], \"algorithm\": [\"SAMME\", \"SAMME.R\"]}, #learning_rate petit => sous (0.01) mais fusionner avec beaucpoup d'arbre, grand => surapp, apprend rapidment et mieux avec moins d'arbre \n",
    "    {\"n_estimators\": [100], \"max_features\": [0.6], \"max_samples\":[0.6]},\n",
    "    {\"kernel\": ['linear', 'rbf'], \"C\": [0.5], \"gamma\": [\"scale\", \"auto\"]}, #C grand => surapprentisage\n",
    "    {\"solver\": [\"eigen\", \"lsqr\"], \"shrinkage\": [\"auto\"]}, \n",
    "    {\"reg_param\": [1], \"tol\": [0.05]},\n",
    "    {\"n_estimators\": [100], \"learning_rate\": [0.1], \"max_depth\": [3], \"num_leaves\": [10, 15], \"colsample_bytree\": [0.6], \"force_row_wise\": [True], 'verbose': [-1], \"min_child_samples\": [10]},\n",
    "    {\"iterations\": [100], \"depth\": [3], \"learning_rate\": [0.1], \"l2_leaf_reg\": [3]} \n",
    "] "
   ]
  },
  {
   "cell_type": "code",
   "execution_count": 18,
   "id": "60ecdd98-ece6-4fd1-8d85-2d5f5e82c5a5",
   "metadata": {},
   "outputs": [],
   "source": [
    "# a = int(np.sqrt(len(X_train.columns))) \n",
    "# dico = {\n",
    "#     'logistic': LogisticRegression(),\n",
    "#     'elastic': LogisticRegression(penalty=\"elasticnet\", solver=\"saga\"),  #met beaucoup de temps \n",
    "#     'ridge': LogisticRegression(penalty=\"l2\"),\n",
    "#     'lasso': LogisticRegression(penalty=\"l1\"),\n",
    "#     'Arbre': DecisionTreeClassifier(),\n",
    "#     'Random': RandomForestClassifier(), \n",
    "#     'xgb': xgb.XGBClassifier(),\n",
    "#     'knn': KNeighborsClassifier(),\n",
    "#     'Gradient_boosting': GradientBoostingClassifier(),\n",
    "#     'adaboost_classifier': AdaBoostClassifier(),\n",
    "#     'Bagging': BaggingClassifier(DecisionTreeClassifier(max_depth=7)), \n",
    "#     'SVM': SVC(),\n",
    "#     'LDA': LinearDiscriminantAnalysis(),\n",
    "#     'QDA': QuadraticDiscriminantAnalysis(),\n",
    "#     'lightgbm': LGBMClassifier(),  # Ajout de LightGBM\n",
    "#     'catboost': CatBoostClassifier(verbose=0)  # Ajout de CatBoost\n",
    "# }\n",
    "\n",
    "# param = [ \n",
    "#     {\"C\": [0.1], \"max_iter\": [10000]},\n",
    "#     {\"C\": [0.1], \"l1_ratio\": [0.1, 0.5, 0.7], \"max_iter\": [10000]},\n",
    "#     {\"C\": [0.1], \"solver\": [\"sag\", \"lbfgs\", \"liblinear\"], \"max_iter\": [10000]}, # C grand surapprentissage \n",
    "#     {\"C\": [0.1], \"solver\": [\"liblinear\"], \"max_iter\": [10000]},\n",
    "#     {\"max_depth\": [10], \"min_samples_split\": [10], \"min_samples_leaf\": [5]},\n",
    "#     {\"n_estimators\": [300], \"min_samples_leaf\": [5], \"max_features\": [0.6], \"max_depth\": [12]},\n",
    "#     {'colsample_bytree': [0.6], \"n_estimators\": [100], \"max_depth\": [2, 3], \"objective\":['binary:logistic'], \"subsample\": [0.7]}, \n",
    "#     {'n_neighbors': [10, 15], \"algorithm\": [\"auto\",\"ball_tree\"]}, # k petit surapprentissage \n",
    "#     {\"n_estimators\": [300], \"max_depth\": [3], \"learning_rate\": [0.1], \"min_samples_split\": [10], \"min_samples_leaf\": [7], \"subsample\": [0.6]},\n",
    "#     {\"n_estimators\": [300], \"learning_rate\": [0.1], \"algorithm\": [\"SAMME\", \"SAMME.R\"]}, #learning_rate petit => sous (0.01) mais fusionner avec beaucpoup d'arbre, grand => surapp, apprend rapidment et mieux avec moins d'arbre \n",
    "#     {\"n_estimators\": [100], \"max_features\": [0.6], \"max_samples\":[0.6]},\n",
    "#     {\"kernel\": ['linear', 'rbf'], \"C\": [0.1], \"gamma\": [\"scale\", \"auto\"]}, #C grand => surapprentisage\n",
    "#     {\"solver\": [\"eigen\", \"lsqr\"], \"shrinkage\": [\"auto\"]}, \n",
    "#     {\"reg_param\": [1], \"tol\": [ 0.05]},\n",
    "#     {\"n_estimators\": [300], \"learning_rate\": [0.1], \"max_depth\": [3], \"num_leaves\": [10, 15], \"colsample_bytree\": [0.6], \"force_row_wise\": [True], 'verbose': [-1], \"min_child_samples\": [10]},\n",
    "#     {\"iterations\": [300], \"depth\": [3], \"learning_rate\": [0.1], \"l2_leaf_reg\": [3]} \n",
    "# ] "
   ]
  },
  {
   "cell_type": "code",
   "execution_count": null,
   "id": "a9007180-a5e3-4280-908a-e76783e19677",
   "metadata": {},
   "outputs": [],
   "source": []
  },
  {
   "cell_type": "code",
   "execution_count": 19,
   "id": "6dc4d799-fbc9-4957-abba-017009f69cd9",
   "metadata": {},
   "outputs": [],
   "source": [
    "def train_model(nom_model, dico, param, X_train, y_train, kf, out):\n",
    "    model = dico[nom_model]\n",
    "    model_cv = GridSearchCV(model, param_grid=param, cv=kf, scoring=\"accuracy\", error_score=\"raise\")  # Utiliser \"f1\" au lieu de \"f1_score\"\n",
    "    temps_debut = time.time() \n",
    "    model_cv.fit(X_train, y_train) \n",
    "    temps_fin = time.time()\n",
    "    # temps_execution = temps_fin - temps_debut\n",
    "    out[nom_model]={\"best_model\":model_cv.best_estimator_,\"meilleurs_parametres\":model_cv.best_params_, \"Accuracy\": model_cv.best_score_,\"temps\":[time.ctime(temps_debut), time.ctime(temps_fin)]}\n",
    "    print(f'-----------------  Entrainement de {nom_model} est terminé  -----------------') "
   ]
  },
  {
   "cell_type": "code",
   "execution_count": 20,
   "id": "9b8d5f52-ef15-4565-8b51-a764668ec09d",
   "metadata": {},
   "outputs": [],
   "source": [
    "# %%cudf.pandas.profile\n",
    "import threading\n",
    "kf = KFold(n_splits=5, shuffle=True, random_state=42)\n",
    "out = {}\n",
    "threads = []\n",
    "\n",
    "# Launch a thread for each model in the dictionary\n",
    "for i, nom_model in enumerate(dico):\n",
    "    param_v = param[i]\n",
    "    thread = threading.Thread(target=train_model, args=(nom_model, dico, param_v, X_train, y_train, kf, out))\n",
    "    threads.append(thread)\n",
    "    thread.start() "
   ]
  },
  {
   "cell_type": "code",
   "execution_count": null,
   "id": "feb3450a-2c41-489e-bae1-ee04f3883683",
   "metadata": {},
   "outputs": [],
   "source": [
    "out_1  = pd.DataFrame.from_dict(out, orient='index')\n",
    "out_1  \n",
    "# out_1.loc[['lasso','knn'],:].head() "
   ]
  },
  {
   "cell_type": "code",
   "execution_count": null,
   "id": "2b62ab79-ad1c-418f-9f8a-06bce9edf2cc",
   "metadata": {},
   "outputs": [],
   "source": [
    "# out_1.loc['Random','best_model']"
   ]
  },
  {
   "cell_type": "code",
   "execution_count": null,
   "id": "64af62d4-98b3-4664-a874-07164e47e039",
   "metadata": {},
   "outputs": [],
   "source": [
    "# Pour s'assurer que tous les threads individuelles soient terminés avant que le thread principal prenne le relai. \n",
    "# On en pas besoin si on sait à quel moment tous nos threads vont tous se stopper \n",
    "\n",
    "for thread in threads:\n",
    "    thread.join() \n",
    "print(out) "
   ]
  },
  {
   "cell_type": "markdown",
   "id": "ce334976-6f1f-4cde-8d3c-7019dda512d3",
   "metadata": {},
   "source": [
    "### CHOIX DU MEILLEUR MODELE "
   ]
  },
  {
   "cell_type": "code",
   "execution_count": null,
   "id": "a92037ed-8aba-4b6a-8a71-b4ffcaa47dff",
   "metadata": {},
   "outputs": [],
   "source": [
    "def train_best(out, result, position): \n",
    "    kf = KFold(n_splits=10, shuffle=True, random_state=42) \n",
    "    model = list(out.values())[position][\"best_model\"] \n",
    "    nom = list(out.keys())[position]  \n",
    "    predictions = cross_val_predict(model, X_train, y_train, cv = kf)\n",
    "    result[nom] = {\"Modele\":model, \"Accuracy_Score\": accuracy_score(y_train, predictions)} \n",
    "    print(f'----------------- Entrainement de {nom} est terminé --------------------') "
   ]
  },
  {
   "cell_type": "code",
   "execution_count": null,
   "id": "a852dcb4-0c31-4ff5-b39c-5273e7908090",
   "metadata": {},
   "outputs": [],
   "source": []
  },
  {
   "cell_type": "code",
   "execution_count": null,
   "id": "9633c935-e3a0-4e64-9422-4dff3112a7f0",
   "metadata": {},
   "outputs": [],
   "source": [
    "result = {}\n",
    "threads_best = [] \n",
    "\n",
    "# Launch a thread for each model in the dictionary\n",
    "for i, nom_model in enumerate(out):\n",
    "    position = i\n",
    "    thread1 = threading.Thread(target=train_best, args=(out, result, position))\n",
    "    threads_best.append(thread1)\n",
    "    thread1.start()  "
   ]
  },
  {
   "cell_type": "code",
   "execution_count": null,
   "id": "02493a13-198b-400e-a248-2696bb2bc0a3",
   "metadata": {},
   "outputs": [],
   "source": []
  },
  {
   "cell_type": "code",
   "execution_count": 63,
   "id": "41cd51b9-f849-4fbd-805d-f81fe62082d0",
   "metadata": {},
   "outputs": [
    {
     "data": {
      "text/html": [
       "<div>\n",
       "<style scoped>\n",
       "    .dataframe tbody tr th:only-of-type {\n",
       "        vertical-align: middle;\n",
       "    }\n",
       "\n",
       "    .dataframe tbody tr th {\n",
       "        vertical-align: top;\n",
       "    }\n",
       "\n",
       "    .dataframe thead th {\n",
       "        text-align: right;\n",
       "    }\n",
       "</style>\n",
       "<table border=\"1\" class=\"dataframe\">\n",
       "  <thead>\n",
       "    <tr style=\"text-align: right;\">\n",
       "      <th></th>\n",
       "    </tr>\n",
       "  </thead>\n",
       "  <tbody>\n",
       "  </tbody>\n",
       "</table>\n",
       "</div>"
      ],
      "text/plain": [
       "Empty DataFrame\n",
       "Columns: []\n",
       "Index: []"
      ]
     },
     "execution_count": 63,
     "metadata": {},
     "output_type": "execute_result"
    }
   ],
   "source": [
    "df_result = pd.DataFrame.from_dict(result, orient='index') \n",
    "df_result "
   ]
  },
  {
   "cell_type": "code",
   "execution_count": 71,
   "id": "01fe318c-f8be-43f1-a877-321846b93d5b",
   "metadata": {},
   "outputs": [
    {
     "name": "stdout",
     "output_type": "stream",
     "text": [
      "0.6215384615384615\n",
      "0.9975369458128078\n"
     ]
    }
   ],
   "source": [
    "y_pred = out_1.loc[\"Random\",\"best_model\"].predict(X_test)\n",
    "f1_test = f1_score(y_test, y_pred, average='weighted')\n",
    "acc_test = accuracy_score(y_test, y_pred)\n",
    "print(acc_test) \n",
    "# X_train_resampled, y_train_resampled\n",
    "y_pred1 = out_1.loc[\"Random\",\"best_model\"].predict(X_train)\n",
    "f1_test = f1_score(y_train, y_pred1, average='weighted')\n",
    "acc_test = accuracy_score(y_train, y_pred1)\n",
    "print(acc_test) "
   ]
  },
  {
   "cell_type": "code",
   "execution_count": 45,
   "id": "ff18db00-9e2c-4cb8-9698-529e2b905d85",
   "metadata": {},
   "outputs": [
    {
     "name": "stdout",
     "output_type": "stream",
     "text": [
      "              precision    recall  f1-score   support\n",
      "\n",
      "           0       0.65      0.65      0.65       852\n",
      "           1       0.61      0.62      0.62       773\n",
      "\n",
      "    accuracy                           0.63      1625\n",
      "   macro avg       0.63      0.63      0.63      1625\n",
      "weighted avg       0.63      0.63      0.63      1625\n",
      "\n"
     ]
    },
    {
     "data": {
      "image/png": "[encoded data removed]",
      "text/plain": [
       "<Figure size 800x600 with 1 Axes>"
      ]
     },
     "metadata": {},
     "output_type": "display_data"
    }
   ],
   "source": [
    "import seaborn as sns \n",
    "print(classification_report(y_test, y_pred)) \n",
    "cm = confusion_matrix(y_test, y_pred)\n",
    "# print(classification_report(y_train_resampled, y_pred1)) \n",
    "# cm = confusion_matrix(y_train_resampled, y_pred1)\n",
    "cm_percent = cm.astype('float') / cm.sum(axis=1)[:, np.newaxis] * 100  # Convertir en pourcentages\n",
    "# Affichage de la matrice de confusion avec les pourcentages\n",
    "plt.figure(figsize=(8, 6))\n",
    "sns.heatmap(cm_percent, annot=True, fmt=\".2f\", cmap=\"Blues\", cbar=False)\n",
    "plt.xlabel('Predicted Label')\n",
    "plt.ylabel('True Label')\n",
    "plt.title('Confusion Matrix (in %)')\n",
    "plt.show() "
   ]
  },
  {
   "cell_type": "code",
   "execution_count": 246,
   "id": "8a701f16-9c53-4004-8607-d01c94ce522d",
   "metadata": {},
   "outputs": [],
   "source": [
    "out_1.loc[\"Bagging\",\"meilleurs_parametres\"]\n",
    "with open('/opt/spark-apps/programs/Gohou/Data/Tabes/New_trans/Bagging.pkl', 'wb') as bagging:\n",
    "    pickle.dump(out_1.loc[\"Bagging\",\"best_model\"], bagging)"
   ]
  },
  {
   "cell_type": "code",
   "execution_count": 247,
   "id": "7788fc0d-2b6e-4590-b88f-c35c7140e232",
   "metadata": {},
   "outputs": [
    {
     "data": {
      "text/plain": [
       "array([2, 3, 2, ..., 0, 0, 0])"
      ]
     },
     "execution_count": 247,
     "metadata": {},
     "output_type": "execute_result"
    }
   ],
   "source": [
    "y_pred"
   ]
  },
  {
   "cell_type": "code",
   "execution_count": 26,
   "id": "f11410c5-0ef2-498e-991f-1bc0af4c4cf9",
   "metadata": {},
   "outputs": [
    {
     "data": {
      "text/html": [
       "<div>\n",
       "<style scoped>\n",
       "    .dataframe tbody tr th:only-of-type {\n",
       "        vertical-align: middle;\n",
       "    }\n",
       "\n",
       "    .dataframe tbody tr th {\n",
       "        vertical-align: top;\n",
       "    }\n",
       "\n",
       "    .dataframe thead th {\n",
       "        text-align: right;\n",
       "    }\n",
       "</style>\n",
       "<table border=\"1\" class=\"dataframe\">\n",
       "  <thead>\n",
       "    <tr style=\"text-align: right;\">\n",
       "      <th></th>\n",
       "      <th>id</th>\n",
       "      <th>CODEINTE_NUMEPOLI_CODERISQ</th>\n",
       "      <th>COUTS_SINISTRES</th>\n",
       "      <th>y_test</th>\n",
       "      <th>y_pred</th>\n",
       "    </tr>\n",
       "  </thead>\n",
       "  <tbody>\n",
       "    <tr>\n",
       "      <th>4524</th>\n",
       "      <td>10330</td>\n",
       "      <td>2521 4010003368 1</td>\n",
       "      <td>276230.0</td>\n",
       "      <td>0</td>\n",
       "      <td>0</td>\n",
       "    </tr>\n",
       "    <tr>\n",
       "      <th>5295</th>\n",
       "      <td>10652</td>\n",
       "      <td>2519 4010001622 1</td>\n",
       "      <td>281141.0</td>\n",
       "      <td>0</td>\n",
       "      <td>0</td>\n",
       "    </tr>\n",
       "    <tr>\n",
       "      <th>3161</th>\n",
       "      <td>5069</td>\n",
       "      <td>4600 4000000005 1</td>\n",
       "      <td>250000.0</td>\n",
       "      <td>0</td>\n",
       "      <td>0</td>\n",
       "    </tr>\n",
       "    <tr>\n",
       "      <th>5522</th>\n",
       "      <td>11211</td>\n",
       "      <td>2560 4000000025 24</td>\n",
       "      <td>125000.0</td>\n",
       "      <td>0</td>\n",
       "      <td>1</td>\n",
       "    </tr>\n",
       "    <tr>\n",
       "      <th>5225</th>\n",
       "      <td>9845</td>\n",
       "      <td>2566 4020000019 1</td>\n",
       "      <td>185000.0</td>\n",
       "      <td>0</td>\n",
       "      <td>0</td>\n",
       "    </tr>\n",
       "  </tbody>\n",
       "</table>\n",
       "</div>"
      ],
      "text/plain": [
       "         id CODEINTE_NUMEPOLI_CODERISQ  COUTS_SINISTRES  y_test  y_pred\n",
       "4524  10330          2521 4010003368 1         276230.0       0       0\n",
       "5295  10652          2519 4010001622 1         281141.0       0       0\n",
       "3161   5069          4600 4000000005 1         250000.0       0       0\n",
       "5522  11211         2560 4000000025 24         125000.0       0       1\n",
       "5225   9845          2566 4020000019 1         185000.0       0       0"
      ]
     },
     "execution_count": 26,
     "metadata": {},
     "output_type": "execute_result"
    }
   ],
   "source": [
    "y_pred_series = pd.Series(y_pred, index= X_test1.index, name='y_pred')\n",
    "y_test_series = pd.Series(y_test, index=X_test1.index, name='y_test')\n",
    "a = pd.concat([X_test1[['id','CODEINTE_NUMEPOLI_CODERISQ','COUTS_SINISTRES']], y_test_series, y_pred_series], axis=1)\n",
    "a.tail() "
   ]
  },
  {
   "cell_type": "code",
   "execution_count": 27,
   "id": "6c2a0691-0238-425c-8e9c-94b7521017dc",
   "metadata": {},
   "outputs": [
    {
     "name": "stdout",
     "output_type": "stream",
     "text": [
      "0.636150234741784\n"
     ]
    }
   ],
   "source": [
    "zero = a[a['y_test']==0]\n",
    "liste = [1 if pred == lab else 0 for (pred, lab) in zip(list(zero['y_pred']),list(zero['y_test']))]\n",
    "perf = sum(liste)/len(liste)\n",
    "print(perf)"
   ]
  },
  {
   "cell_type": "code",
   "execution_count": 28,
   "id": "45155525-4d3d-443b-8d19-1626b193bf0c",
   "metadata": {},
   "outputs": [
    {
     "name": "stdout",
     "output_type": "stream",
     "text": [
      "Précision: -------------- 0.6561743341404358\n",
      "Recall: ------------- 0.636150234741784\n",
      "F1_score: ----------- 0.6460071513706793\n"
     ]
    }
   ],
   "source": [
    "TP_zero = len(a[(a['y_test']==0) & (a['y_pred']==0)])\n",
    "FP_zero = len(a[(a['y_pred']==0) & (a['y_test'] != 0)])\n",
    "FN_zero = len(a[(a['y_pred'] != 0) & (a['y_test'] == 0)])\n",
    "precision = TP_zero / (TP_zero + FP_zero) \n",
    "recall = TP_zero / (TP_zero + FN_zero) \n",
    "F1_score = 2*(precision*recall)/(precision+recall)\n",
    "print(f'Précision: -------------- {precision}') \n",
    "print(f'Recall: ------------- {recall}')\n",
    "print(f'F1_score: ----------- {F1_score}') "
   ]
  },
  {
   "cell_type": "code",
   "execution_count": 236,
   "id": "0bcdc33a-553b-40ad-8959-39ba4f8af27e",
   "metadata": {},
   "outputs": [],
   "source": [
    "# a['y_pred'].value_counts() "
   ]
  },
  {
   "cell_type": "code",
   "execution_count": 237,
   "id": "455b5b31-8d46-4af6-a796-4ef5523d0220",
   "metadata": {},
   "outputs": [],
   "source": [
    "b = pd.DataFrame({'True_label': y_test}, index=X_test.index)\n",
    "c = pd.DataFrame({'Predict_label': list(y_pred)}, index=X_test.index)\n",
    "d = pd.concat([X_test1[[\"id\",\"CODEINTE_NUMEPOLI_CODERISQ\",\"COUTS_SINISTRES\"]], b, c], axis=1)"
   ]
  },
  {
   "cell_type": "code",
   "execution_count": 238,
   "id": "846445db-a1fd-4784-b247-0a8f702c7449",
   "metadata": {},
   "outputs": [
    {
     "data": {
      "text/html": [
       "<div>\n",
       "<style scoped>\n",
       "    .dataframe tbody tr th:only-of-type {\n",
       "        vertical-align: middle;\n",
       "    }\n",
       "\n",
       "    .dataframe tbody tr th {\n",
       "        vertical-align: top;\n",
       "    }\n",
       "\n",
       "    .dataframe thead th {\n",
       "        text-align: right;\n",
       "    }\n",
       "</style>\n",
       "<table border=\"1\" class=\"dataframe\">\n",
       "  <thead>\n",
       "    <tr style=\"text-align: right;\">\n",
       "      <th></th>\n",
       "      <th>id</th>\n",
       "      <th>CODEINTE_NUMEPOLI_CODERISQ</th>\n",
       "      <th>COUTS_SINISTRES</th>\n",
       "      <th>True_label</th>\n",
       "      <th>Predict_label</th>\n",
       "    </tr>\n",
       "  </thead>\n",
       "  <tbody>\n",
       "    <tr>\n",
       "      <th>3192</th>\n",
       "      <td>4083</td>\n",
       "      <td>2512 4010003785 1</td>\n",
       "      <td>216530.0</td>\n",
       "      <td>0</td>\n",
       "      <td>0</td>\n",
       "    </tr>\n",
       "    <tr>\n",
       "      <th>2377</th>\n",
       "      <td>4569</td>\n",
       "      <td>2545 4010002802 1</td>\n",
       "      <td>196403.0</td>\n",
       "      <td>0</td>\n",
       "      <td>0</td>\n",
       "    </tr>\n",
       "    <tr>\n",
       "      <th>5124</th>\n",
       "      <td>10461</td>\n",
       "      <td>4578 4000000044 24</td>\n",
       "      <td>125000.0</td>\n",
       "      <td>0</td>\n",
       "      <td>0</td>\n",
       "    </tr>\n",
       "    <tr>\n",
       "      <th>2242</th>\n",
       "      <td>392</td>\n",
       "      <td>4612 4010000046 1</td>\n",
       "      <td>87500.0</td>\n",
       "      <td>0</td>\n",
       "      <td>0</td>\n",
       "    </tr>\n",
       "    <tr>\n",
       "      <th>6384</th>\n",
       "      <td>13486</td>\n",
       "      <td>3918 4000000014 167</td>\n",
       "      <td>125000.0</td>\n",
       "      <td>0</td>\n",
       "      <td>0</td>\n",
       "    </tr>\n",
       "  </tbody>\n",
       "</table>\n",
       "</div>"
      ],
      "text/plain": [
       "         id CODEINTE_NUMEPOLI_CODERISQ  COUTS_SINISTRES  True_label  \\\n",
       "3192   4083          2512 4010003785 1         216530.0           0   \n",
       "2377   4569          2545 4010002802 1         196403.0           0   \n",
       "5124  10461         4578 4000000044 24         125000.0           0   \n",
       "2242    392          4612 4010000046 1          87500.0           0   \n",
       "6384  13486        3918 4000000014 167         125000.0           0   \n",
       "\n",
       "      Predict_label  \n",
       "3192              0  \n",
       "2377              0  \n",
       "5124              0  \n",
       "2242              0  \n",
       "6384              0  "
      ]
     },
     "execution_count": 238,
     "metadata": {},
     "output_type": "execute_result"
    }
   ],
   "source": [
    "d.tail() "
   ]
  },
  {
   "cell_type": "code",
   "execution_count": 239,
   "id": "a4fe3bb5-76bf-4586-8383-15fd628f866e",
   "metadata": {},
   "outputs": [],
   "source": [
    "df = d.copy() \n",
    "df = df.reset_index(drop=True)\n",
    "df['Borne_inf'] = 500\n",
    "df['Borne_sup'] = 333903\n",
    "df['Moyenne'] = (500 + 333903)/2\n",
    "for i in range(len(df)):\n",
    "    if df.loc[i,'Predict_label'] == 1:\n",
    "        df.loc[i, 'Borne_inf'] = 334000  \n",
    "        df.loc[i, 'Moyenne'] = (334000 + 725650)/2\n",
    "        df.loc[i, 'Borne_sup'] = 725650\n",
    "    if df.loc[i,'Predict_label'] == 2:\n",
    "        df.loc[i, 'Borne_inf'] = 726000\n",
    "        df.loc[i, 'Moyenne'] = (726000 + 1236650)/2\n",
    "        df.loc[i, 'Borne_sup'] = 1236650\n",
    "    if df.loc[i,'Predict_label'] == 3:\n",
    "        df.loc[i, 'Borne_inf'] = 1236650\n",
    "        df.loc[i, 'Moyenne'] = (1236650 + 1883000)/2\n",
    "        df.loc[i, 'Borne_sup'] = 1883000 \n",
    "\n",
    "new_row = {col: '' for col in df.columns.difference(['Borne_inf', 'Borne_sup', 'Moyenne'])}\n",
    "new_row['Borne_inf'] = df['Borne_inf'].sum()\n",
    "new_row['Borne_sup'] = df['Borne_sup'].sum()\n",
    "new_row['Moyenne'] = df['Moyenne'].sum()\n",
    "new_row['COUTS_SINISTRES'] = df['COUTS_SINISTRES'].sum()\n",
    "\n",
    "# # Ajouter la nouvelle ligne au DataFrame\n",
    "df.loc['Total'] = new_row"
   ]
  },
  {
   "cell_type": "code",
   "execution_count": 240,
   "id": "09479482-1958-4488-9d93-595a362d6107",
   "metadata": {},
   "outputs": [
    {
     "data": {
      "text/html": [
       "<div>\n",
       "<style scoped>\n",
       "    .dataframe tbody tr th:only-of-type {\n",
       "        vertical-align: middle;\n",
       "    }\n",
       "\n",
       "    .dataframe tbody tr th {\n",
       "        vertical-align: top;\n",
       "    }\n",
       "\n",
       "    .dataframe thead th {\n",
       "        text-align: right;\n",
       "    }\n",
       "</style>\n",
       "<table border=\"1\" class=\"dataframe\">\n",
       "  <thead>\n",
       "    <tr style=\"text-align: right;\">\n",
       "      <th></th>\n",
       "      <th>id</th>\n",
       "      <th>CODEINTE_NUMEPOLI_CODERISQ</th>\n",
       "      <th>COUTS_SINISTRES</th>\n",
       "      <th>True_label</th>\n",
       "      <th>Predict_label</th>\n",
       "      <th>Borne_inf</th>\n",
       "      <th>Borne_sup</th>\n",
       "      <th>Moyenne</th>\n",
       "    </tr>\n",
       "  </thead>\n",
       "  <tbody>\n",
       "    <tr>\n",
       "      <th>1621</th>\n",
       "      <td>4569</td>\n",
       "      <td>2545 4010002802 1</td>\n",
       "      <td>196403.0</td>\n",
       "      <td>0</td>\n",
       "      <td>0</td>\n",
       "      <td>500</td>\n",
       "      <td>333903</td>\n",
       "      <td>167201.5</td>\n",
       "    </tr>\n",
       "    <tr>\n",
       "      <th>1622</th>\n",
       "      <td>10461</td>\n",
       "      <td>4578 4000000044 24</td>\n",
       "      <td>125000.0</td>\n",
       "      <td>0</td>\n",
       "      <td>0</td>\n",
       "      <td>500</td>\n",
       "      <td>333903</td>\n",
       "      <td>167201.5</td>\n",
       "    </tr>\n",
       "    <tr>\n",
       "      <th>1623</th>\n",
       "      <td>392</td>\n",
       "      <td>4612 4010000046 1</td>\n",
       "      <td>87500.0</td>\n",
       "      <td>0</td>\n",
       "      <td>0</td>\n",
       "      <td>500</td>\n",
       "      <td>333903</td>\n",
       "      <td>167201.5</td>\n",
       "    </tr>\n",
       "    <tr>\n",
       "      <th>1624</th>\n",
       "      <td>13486</td>\n",
       "      <td>3918 4000000014 167</td>\n",
       "      <td>125000.0</td>\n",
       "      <td>0</td>\n",
       "      <td>0</td>\n",
       "      <td>500</td>\n",
       "      <td>333903</td>\n",
       "      <td>167201.5</td>\n",
       "    </tr>\n",
       "    <tr>\n",
       "      <th>Total</th>\n",
       "      <td></td>\n",
       "      <td></td>\n",
       "      <td>748324334.0</td>\n",
       "      <td></td>\n",
       "      <td></td>\n",
       "      <td>182824450</td>\n",
       "      <td>760990376</td>\n",
       "      <td>471907413.0</td>\n",
       "    </tr>\n",
       "  </tbody>\n",
       "</table>\n",
       "</div>"
      ],
      "text/plain": [
       "          id CODEINTE_NUMEPOLI_CODERISQ  COUTS_SINISTRES True_label  \\\n",
       "1621    4569          2545 4010002802 1         196403.0          0   \n",
       "1622   10461         4578 4000000044 24         125000.0          0   \n",
       "1623     392          4612 4010000046 1          87500.0          0   \n",
       "1624   13486        3918 4000000014 167         125000.0          0   \n",
       "Total                                        748324334.0              \n",
       "\n",
       "      Predict_label  Borne_inf  Borne_sup      Moyenne  \n",
       "1621              0        500     333903     167201.5  \n",
       "1622              0        500     333903     167201.5  \n",
       "1623              0        500     333903     167201.5  \n",
       "1624              0        500     333903     167201.5  \n",
       "Total                182824450  760990376  471907413.0  "
      ]
     },
     "execution_count": 240,
     "metadata": {},
     "output_type": "execute_result"
    }
   ],
   "source": [
    "df.tail()"
   ]
  },
  {
   "cell_type": "code",
   "execution_count": 241,
   "id": "45c46643-f405-4eee-a13a-e03f5a3f3a39",
   "metadata": {},
   "outputs": [],
   "source": [
    "df.to_csv('/opt/spark-apps/programs/Gohou/Data/Tabes/New_trans/pred.csv')"
   ]
  },
  {
   "cell_type": "code",
   "execution_count": 242,
   "id": "52d7c2a2-76b4-41ca-b7ce-88cc2f088310",
   "metadata": {},
   "outputs": [],
   "source": [
    "a = df[df['Predict_label']==0] "
   ]
  },
  {
   "cell_type": "code",
   "execution_count": 243,
   "id": "9ca522a8-cce8-4391-8967-f6e328ed57b7",
   "metadata": {},
   "outputs": [
    {
     "name": "stdout",
     "output_type": "stream",
     "text": [
      "506942622.0\n",
      "596000\n",
      "398012376\n",
      "199304188.0\n",
      "0.7851231258278377\n"
     ]
    }
   ],
   "source": [
    "print(a['COUTS_SINISTRES'].sum())\n",
    "print(a['Borne_inf'].sum())\n",
    "print(a['Borne_sup'].sum())\n",
    "print(a['Moyenne'].sum())\n",
    "\n",
    "print(a['Borne_sup'].sum() / a['COUTS_SINISTRES'].sum())\n",
    "# print(a['Moyenne'].sum()*0.75)"
   ]
  },
  {
   "cell_type": "code",
   "execution_count": 206,
   "id": "33d113d3-46f7-44f4-9a72-0fcb5a29d329",
   "metadata": {},
   "outputs": [
    {
     "data": {
      "text/plain": [
       "array([0, 2, 1, 3, ''], dtype=object)"
      ]
     },
     "execution_count": 206,
     "metadata": {},
     "output_type": "execute_result"
    }
   ],
   "source": [
    "df['True_label'].unique()"
   ]
  },
  {
   "cell_type": "code",
   "execution_count": 221,
   "id": "eb0ee1e0-a60e-4be3-8ce3-df8bbe10547e",
   "metadata": {},
   "outputs": [
    {
     "data": {
      "text/plain": [
       "True_label\n",
       "0    852\n",
       "1    443\n",
       "2    209\n",
       "3    121\n",
       "       1\n",
       "Name: count, dtype: int64"
      ]
     },
     "execution_count": 221,
     "metadata": {},
     "output_type": "execute_result"
    }
   ],
   "source": [
    "df['True_label'].value_counts()"
   ]
  },
  {
   "cell_type": "code",
   "execution_count": 223,
   "id": "a4b49b9b-4480-4fb9-81bc-9b37722065d5",
   "metadata": {},
   "outputs": [
    {
     "name": "stdout",
     "output_type": "stream",
     "text": [
      "93378321.0\n",
      "101834031.0\n",
      "75828606.0\n",
      "59536989.0\n",
      "330577947.0\n",
      "426500\n",
      "284819259\n",
      "142622879.5\n"
     ]
    }
   ],
   "source": [
    "print(a[a['True_label']==0][\"COUTS_SINISTRES\"].sum())\n",
    "print(a[a['True_label']==1][\"COUTS_SINISTRES\"].sum())\n",
    "print(a[a['True_label']==2][\"COUTS_SINISTRES\"].sum())\n",
    "print(a[a['True_label']==3][\"COUTS_SINISTRES\"].sum())\n",
    "\n",
    "\n",
    "\n",
    "print(a['COUTS_SINISTRES'].sum())\n",
    "print(a['Borne_inf'].sum())\n",
    "print(a['Borne_sup'].sum())\n",
    "print(a['Moyenne'].sum())\n"
   ]
  },
  {
   "cell_type": "code",
   "execution_count": 260,
   "id": "1f54326c-e6ed-4170-96ee-40eefa296e9d",
   "metadata": {},
   "outputs": [],
   "source": [
    "importances = out_1.loc['Random','best_model'].feature_importances_\n",
    "indices = np.argsort(importances)[::-1]  # Trier par importance décroissante\n",
    "top_features = indices[:10]"
   ]
  },
  {
   "cell_type": "code",
   "execution_count": 261,
   "id": "42d8591b-9142-4b9a-8eac-b1b3e6655f7f",
   "metadata": {},
   "outputs": [
    {
     "data": {
      "text/plain": [
       "array([  0,   1, 190,  47,   6,  11,   2, 580, 478, 599])"
      ]
     },
     "execution_count": 261,
     "metadata": {},
     "output_type": "execute_result"
    }
   ],
   "source": [
    "top_features"
   ]
  },
  {
   "cell_type": "code",
   "execution_count": null,
   "id": "a4d471a3-7dbe-447c-b562-98cfed690a91",
   "metadata": {},
   "outputs": [],
   "source": []
  },
  {
   "cell_type": "code",
   "execution_count": null,
   "id": "e94fca5e-7df5-4c92-934b-71f38526caae",
   "metadata": {},
   "outputs": [],
   "source": []
  }
 ],
 "metadata": {
  "kernelspec": {
   "display_name": "Python 3 (ipykernel)",
   "language": "python",
   "name": "python3"
  },
  "language_info": {
   "codemirror_mode": {
    "name": "ipython",
    "version": 3
   },
   "file_extension": ".py",
   "mimetype": "text/x-python",
   "name": "python",
   "nbconvert_exporter": "python",
   "pygments_lexer": "ipython3",
   "version": "3.9.18"
  }
 },
 "nbformat": 4,
 "nbformat_minor": 5
}
