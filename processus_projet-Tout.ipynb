{
 "cells": [
  {
   "cell_type": "markdown",
   "id": "2be1536a-a195-4568-aede-f5ccbc192c86",
   "metadata": {},
   "source": [
    "### CHARGEMENT DES PACKAGES NECESSAIRES AU PROJET"
   ]
  },
  {
   "cell_type": "code",
   "execution_count": 12,
   "id": "b8c39f91-431f-4f03-a9a6-4aac65336f23",
   "metadata": {},
   "outputs": [],
   "source": [
    "import pandas as pd \n",
    "pd.set_option('display.max_columns', None)  \n",
    "import matplotlib.pyplot as plt \n",
    "from PIL import Image, ImageFile, UnidentifiedImageError\n",
    "import os\n",
    "import pycaret \n",
    "ImageFile.LOAD_TRUNCATED_IMAGES = True \n",
    "import torch \n",
    "import torch.nn as nn\n",
    "import torch.optim as optim\n",
    "import torch.backends.cudnn as cudnn\n",
    "import torchvision \n",
    "from torchvision import datasets, models, transforms \n",
    "from tempfile import TemporaryDirectory \n",
    "from torch.utils.data import DataLoader \n",
    "from torch.utils.data import Dataset\n",
    "from torchvision.models import resnet18, resnet50, VGG19_Weights\n",
    "import warnings\n",
    "warnings.filterwarnings(\"ignore\")  \n",
    "\n",
    "# from sklearn.model_selection import train_test_split\n",
    "# import mlflow                                   \n",
    "# import mlflow.pytorch\n",
    "# Ignorer tous les avertissements\n",
    "# from torchmetrics.classification import Accuracy\n",
    "# from efficientnet_pytorch import EfficientNet\n",
    "# import numpy as np \n",
    "# import seaborn as sns\n",
    "# from sklearn.metrics import accuracy_score, precision_score, recall_score, f1_score\n",
    "# import pretrainedmodels "
   ]
  },
  {
   "cell_type": "code",
   "execution_count": 13,
   "id": "45138a57-f961-4050-b5de-1aa22b677ea3",
   "metadata": {},
   "outputs": [],
   "source": [
    "# Pour voir l'utilisation de la memoire \n",
    "import psutil\n",
    "import os\n",
    "\n",
    "def get_memory_usage():\n",
    "    process = psutil.Process(os.getpid())\n",
    "    memory_info = process.memory_info()\n",
    "    return memory_info.rss  # Mémoire utilisée en bytes "
   ]
  },
  {
   "cell_type": "code",
   "execution_count": 14,
   "id": "92997e12-ce0c-4210-a439-db11a85d62a0",
   "metadata": {},
   "outputs": [],
   "source": [
    "# !pip install torch torchvision torchaudio "
   ]
  },
  {
   "cell_type": "markdown",
   "id": "52e68fae-4938-4128-abe0-53653d236203",
   "metadata": {},
   "source": [
    "### CHARGEMENT DES DONNEES "
   ]
  },
  {
   "cell_type": "code",
   "execution_count": 15,
   "id": "b56d4ab6-3ed1-490e-9647-2cd1faaf9580",
   "metadata": {},
   "outputs": [
    {
     "name": "stdout",
     "output_type": "stream",
     "text": [
      "Memory usage before: 1783.21 MB\n",
      "Memory usage after: 1938.22 MB\n"
     ]
    }
   ],
   "source": [
    "print(f\"Memory usage before: {get_memory_usage() / (1024 * 1024):.2f} MB\")\n",
    "\n",
    "charge_sinistre1 = pd.read_csv(\"/opt/spark-apps/programs/Gohou/Data/Tabes/CHARGE_SINISTRE.csv\") \n",
    "disaster_declaration = pd.read_csv(\"/opt/spark-apps/programs/Gohou/Data/Tabes/ssysappsm_disaster_declaration.csv\")\n",
    "disaster_declaration2 = disaster_declaration[['id','hkeymodif','disaster_place','material_damage','circonstance_detail','file_uploaded_photo_1', 'file_uploaded_photo_2','file_uploaded_photo_3','file_uploaded_photo_4','file_uploaded_photo_5','file_uploaded_photo_6','disaster_number_milliard_added']] \n",
    "last_risq1 = pd.read_csv(\"/opt/spark-apps/programs/Gohou/Data/Tabes/LAST_RISQ.csv\") \n",
    "\n",
    "print(f\"Memory usage after: {get_memory_usage() / (1024 * 1024):.2f} MB\") "
   ]
  },
  {
   "cell_type": "code",
   "execution_count": null,
   "id": "b5b63a80-88d1-4ca6-89b5-caefc627ce40",
   "metadata": {},
   "outputs": [],
   "source": []
  },
  {
   "cell_type": "code",
   "execution_count": 16,
   "id": "7ca8f12f-3ec6-4853-b36b-bd5e1b56acb7",
   "metadata": {},
   "outputs": [],
   "source": [
    "# charge_sinistre1[(charge_sinistre1['COUTS_SINISTRES']!=0) & (charge_sinistre1['RECENC_ANT']!=0) & (charge_sinistre1['CODEGARA']=='TCM')]"
   ]
  },
  {
   "cell_type": "code",
   "execution_count": 17,
   "id": "d81deb9d-ecc0-41ef-a8ff-c1e3786f0969",
   "metadata": {},
   "outputs": [],
   "source": [
    "charge_sinistre0 = charge_sinistre1[(charge_sinistre1['CODEGARA'].isin(['TCM','TCL','TC','TCP'])) & (~charge_sinistre1['ANNEE'].isin([2023,2024]))]"
   ]
  },
  {
   "cell_type": "code",
   "execution_count": 20,
   "id": "a9244bac-0f48-40a6-9c20-2c592ca3c3a2",
   "metadata": {},
   "outputs": [
    {
     "data": {
      "text/plain": [
       "array([4])"
      ]
     },
     "execution_count": 20,
     "metadata": {},
     "output_type": "execute_result"
    }
   ],
   "source": [
    "charge_sinistre0['CODEBRAN'].unique()"
   ]
  },
  {
   "cell_type": "code",
   "execution_count": 21,
   "id": "4c7fe8a7-485c-4c8c-b501-4dfcb222a601",
   "metadata": {},
   "outputs": [
    {
     "data": {
      "text/plain": [
       "39827"
      ]
     },
     "execution_count": 21,
     "metadata": {},
     "output_type": "execute_result"
    }
   ],
   "source": [
    "len(charge_sinistre0)"
   ]
  },
  {
   "cell_type": "code",
   "execution_count": null,
   "id": "cdc60d01-57f2-4662-8f94-4280bd86c8a6",
   "metadata": {},
   "outputs": [],
   "source": []
  },
  {
   "cell_type": "markdown",
   "id": "d6d615c6-5431-43c5-95e5-9596b0cb06ba",
   "metadata": {},
   "source": [
    "### CREATION D'UNE COPIE DE CHAQUE BASE "
   ]
  },
  {
   "cell_type": "code",
   "execution_count": 26,
   "id": "dfaa4fc1-ffe1-45c9-aaea-0e1a3bc27f6a",
   "metadata": {},
   "outputs": [],
   "source": [
    "charge_sinistre = charge_sinistre0.copy()\n",
    "disaster_declaration1 = disaster_declaration2.copy()\n",
    "last_risq = last_risq1.copy() "
   ]
  },
  {
   "cell_type": "code",
   "execution_count": 27,
   "id": "6640314e-6d82-4f9e-b347-473218cbb3e9",
   "metadata": {},
   "outputs": [],
   "source": [
    "last_risq.drop_duplicates(inplace=True)"
   ]
  },
  {
   "cell_type": "code",
   "execution_count": 28,
   "id": "a11de46c-30b8-465b-bcb5-17449a6fc60d",
   "metadata": {},
   "outputs": [
    {
     "name": "stdout",
     "output_type": "stream",
     "text": [
      "(1803942, 28) (24406, 12) (39827, 34)\n"
     ]
    }
   ],
   "source": [
    "print(last_risq.shape, disaster_declaration1.shape, charge_sinistre.shape)"
   ]
  },
  {
   "cell_type": "code",
   "execution_count": 29,
   "id": "c68f3d6f-a23d-4f3f-8359-11141e0ca2c4",
   "metadata": {},
   "outputs": [],
   "source": [
    "# la last_risq contient toutes les informations pertinentes sur le vehicule endommagé\n",
    "# la table charge sinistre sera une table intermediaire qui va nous permettre de faire la jointure en disater_declalration et laast_risq.\n",
    "# la table disater_declalration contient les images et la description du dommage "
   ]
  },
  {
   "cell_type": "code",
   "execution_count": 30,
   "id": "a775c3a2-6105-42c8-b377-635bd86de9a7",
   "metadata": {},
   "outputs": [],
   "source": [
    "charge_sinistre['CODEINTE'] = charge_sinistre['CODEINTE'].astype(str)\n",
    "charge_sinistre['ANNEE'] = charge_sinistre['ANNEE'].astype(str)\n",
    "charge_sinistre['NUMESINI'] = charge_sinistre['NUMESINI'].astype(str)\n",
    "charge_sinistre['CODERISQ'] = charge_sinistre['CODERISQ'].astype(str) \n",
    "charge_sinistre['NUMEPOLI'] = charge_sinistre['NUMEPOLI'].astype(str)     "
   ]
  },
  {
   "cell_type": "markdown",
   "id": "f7446a08-6465-438a-bff1-6370983edf6d",
   "metadata": {},
   "source": [
    "#### Creation d'une clé 'disaster_number_milliard_added' dans la table charge_sinistre pour pouvoir la joindre avec 'disaster_declaration'"
   ]
  },
  {
   "cell_type": "code",
   "execution_count": 31,
   "id": "efb0f31c-1ad7-4e95-afc1-536671e79112",
   "metadata": {},
   "outputs": [],
   "source": [
    "charge_sinistre['disaster_number_milliard_added'] = charge_sinistre['CODEINTE'] + ' ' + charge_sinistre['ANNEE'] + ' ' + charge_sinistre['NUMESINI']"
   ]
  },
  {
   "cell_type": "code",
   "execution_count": 32,
   "id": "c6dba192-6ee5-4ccc-97ae-b1df02ed87e8",
   "metadata": {},
   "outputs": [
    {
     "name": "stdout",
     "output_type": "stream",
     "text": [
      "----------------------Memory usage before: 2268.32 MB\n",
      "disaster_declaration a 24406 enregistrements\n",
      "charge sinistre a  39827 enregistrements\n",
      "en faisant la joinutre, on se retrouve a 8524 enregistrements\n",
      "---------------------Memory usage after: 2268.32 MB\n"
     ]
    }
   ],
   "source": [
    "print(f\"----------------------Memory usage before: {get_memory_usage() / (1024 * 1024):.2f} MB\")\n",
    "\n",
    "\n",
    "\"\"\" Importation des jeux de donnees vrepartion qui contient la variable cible et de disaster_declarration qui contient\n",
    "quand à elle les differentes. Il en a 6 au total. Mais j'ai preferé aller avec les 4 premieres car les deux dernieres\n",
    "contiennent parfois des iamges de qui ne sont pas des voitures (ce n'est pas tout le temps le cas) aussi pour resoudre\n",
    "le un souci de memoire.\n",
    "Enfin je fais une jointure entre ces deux tables avec la cle afin 'disaster_number_milliard_added' afin d'avoir une table\n",
    "dans laquelle pour chaque enregistrement, on a la à la fois les 4 images du sinistre et le cout qui lui ai attribué \"\"\"\n",
    "\n",
    "print(f'disaster_declaration a {len(disaster_declaration1)} enregistrements')\n",
    "print(f'charge sinistre a  {len(charge_sinistre)} enregistrements')\n",
    "\n",
    "#jointure des deux tables \n",
    "result = pd.merge(disaster_declaration1, charge_sinistre, on ='disaster_number_milliard_added', how='inner',suffixes=('_dis', '_vrep'))\n",
    "print(f'en faisant la joinutre, on se retrouve a {len(result)} enregistrements') \n",
    "\n",
    "print(f\"---------------------Memory usage after: {get_memory_usage() / (1024 * 1024):.2f} MB\")"
   ]
  },
  {
   "cell_type": "raw",
   "id": "3ea96058-eb92-40e2-9c7e-bd93c61cdbf0",
   "metadata": {},
   "source": [
    "***Creation d une nouvelle 'CODEINTE_NUMEPOLI_CODERISQ' clé pour la table obtenue afin de la joindre avec la table \"last_risq\"***"
   ]
  },
  {
   "cell_type": "code",
   "execution_count": 33,
   "id": "d0d5a8d2-10de-418e-9834-997acc85439e",
   "metadata": {},
   "outputs": [
    {
     "data": {
      "text/plain": [
       "475"
      ]
     },
     "execution_count": 33,
     "metadata": {},
     "output_type": "execute_result"
    }
   ],
   "source": [
    "import gc\n",
    "gc.collect() "
   ]
  },
  {
   "cell_type": "code",
   "execution_count": 34,
   "id": "019dfa8f-8b47-45b8-8d36-62b69e165ecb",
   "metadata": {},
   "outputs": [],
   "source": [
    "result['CODEINTE_NUMEPOLI_CODERISQ'] = result['CODEINTE'] + ' ' + result['NUMEPOLI'] + ' ' + result['CODERISQ'] "
   ]
  },
  {
   "cell_type": "code",
   "execution_count": 35,
   "id": "44ef8a62-21bc-4c54-abcd-330ca148317c",
   "metadata": {},
   "outputs": [],
   "source": [
    "last_risq['CODEINTE'] = last_risq['CODEINTE'].astype(str)\n",
    "last_risq['NUMEPOLI'] = last_risq['NUMEPOLI'].astype(str)\n",
    "last_risq['CODERISQ'] = last_risq['CODERISQ'].astype(str)\n",
    "last_risq['CODEINTE_NUMEPOLI_CODERISQ'] = last_risq['CODEINTE'] + ' ' + last_risq['NUMEPOLI'] + ' ' + last_risq['CODERISQ'] "
   ]
  },
  {
   "cell_type": "code",
   "execution_count": 36,
   "id": "0b3f18d1-8f95-45c9-ba92-d739a436d0a5",
   "metadata": {},
   "outputs": [
    {
     "name": "stdout",
     "output_type": "stream",
     "text": [
      "-------------------------- En faisant la joinutre, on se retrouve a 8523 enregistrements ------------------------------\n"
     ]
    }
   ],
   "source": [
    "result0 = pd.merge(last_risq, result, on ='CODEINTE_NUMEPOLI_CODERISQ', how='inner',suffixes=('_risq', '_sin'))\n",
    "print(f'-------------------------- En faisant la joinutre, on se retrouve a {len(result0)} enregistrements ------------------------------') "
   ]
  },
  {
   "cell_type": "code",
   "execution_count": 37,
   "id": "9025d99b-0b67-4236-8402-46141f7e57b3",
   "metadata": {},
   "outputs": [
    {
     "name": "stdout",
     "output_type": "stream",
     "text": [
      "-3848381.0 67415483.0\n"
     ]
    }
   ],
   "source": [
    "print((min(result0['COUTS_SINISTRES'])), max(result0['COUTS_SINISTRES']))"
   ]
  },
  {
   "cell_type": "code",
   "execution_count": 43,
   "id": "dd5c34a2-6a1c-4e74-ad75-e7e62e7290a1",
   "metadata": {},
   "outputs": [
    {
     "data": {
      "text/html": [
       "<div>\n",
       "<style scoped>\n",
       "    .dataframe tbody tr th:only-of-type {\n",
       "        vertical-align: middle;\n",
       "    }\n",
       "\n",
       "    .dataframe tbody tr th {\n",
       "        vertical-align: top;\n",
       "    }\n",
       "\n",
       "    .dataframe thead th {\n",
       "        text-align: right;\n",
       "    }\n",
       "</style>\n",
       "<table border=\"1\" class=\"dataframe\">\n",
       "  <thead>\n",
       "    <tr style=\"text-align: right;\">\n",
       "      <th></th>\n",
       "      <th>CODEINTE_risq</th>\n",
       "      <th>NUMEPOLI_risq</th>\n",
       "      <th>CODERISQ_risq</th>\n",
       "      <th>AVENANT_MAX</th>\n",
       "      <th>LIBERISQ</th>\n",
       "      <th>MARQVEHI</th>\n",
       "      <th>TYPEVEHI</th>\n",
       "      <th>NUMEIMMA</th>\n",
       "      <th>DATE_MEC</th>\n",
       "      <th>CARRVEHI</th>\n",
       "      <th>CODGENAU</th>\n",
       "      <th>CODEZONE</th>\n",
       "      <th>TYPEMOTE</th>\n",
       "      <th>NUMECHAS</th>\n",
       "      <th>PUISVEHI</th>\n",
       "      <th>POIDVEHI</th>\n",
       "      <th>CYLIVEHI</th>\n",
       "      <th>VITEVEHI</th>\n",
       "      <th>NOMBPLAC</th>\n",
       "      <th>CAPRIS01</th>\n",
       "      <th>CAPRIS02</th>\n",
       "      <th>NOMPLAIN</th>\n",
       "      <th>DATEENTR</th>\n",
       "      <th>DATESORT</th>\n",
       "      <th>CREE__LE</th>\n",
       "      <th>MODI_PAR</th>\n",
       "      <th>MODI__LE</th>\n",
       "      <th>CATERISQ_risq</th>\n",
       "      <th>CODEINTE_NUMEPOLI_CODERISQ</th>\n",
       "      <th>id</th>\n",
       "      <th>hkeymodif</th>\n",
       "      <th>disaster_place</th>\n",
       "      <th>material_damage</th>\n",
       "      <th>circonstance_detail</th>\n",
       "      <th>file_uploaded_photo_1</th>\n",
       "      <th>file_uploaded_photo_2</th>\n",
       "      <th>file_uploaded_photo_3</th>\n",
       "      <th>file_uploaded_photo_4</th>\n",
       "      <th>file_uploaded_photo_5</th>\n",
       "      <th>file_uploaded_photo_6</th>\n",
       "      <th>disaster_number_milliard_added</th>\n",
       "      <th>ANNEE</th>\n",
       "      <th>DEAL_DATE</th>\n",
       "      <th>CODEINTE_sin</th>\n",
       "      <th>RAISOCIN</th>\n",
       "      <th>NUMESINI</th>\n",
       "      <th>REFEINTE</th>\n",
       "      <th>NUMEPOLI_sin</th>\n",
       "      <th>NUMEAVEN</th>\n",
       "      <th>DATEEFFE</th>\n",
       "      <th>DATEECHE</th>\n",
       "      <th>CODEASSU</th>\n",
       "      <th>NOM</th>\n",
       "      <th>CODEBRAN</th>\n",
       "      <th>LIBEBRAN</th>\n",
       "      <th>CODECATE</th>\n",
       "      <th>CATERISQ_sin</th>\n",
       "      <th>LIBECATE</th>\n",
       "      <th>CODEGARA</th>\n",
       "      <th>CODERISQ_sin</th>\n",
       "      <th>NATUSINI</th>\n",
       "      <th>LIBEGARA</th>\n",
       "      <th>DATESURV</th>\n",
       "      <th>DATEDECL</th>\n",
       "      <th>SINPAY</th>\n",
       "      <th>SINPAY_ANT</th>\n",
       "      <th>RECENC</th>\n",
       "      <th>RECENC_ANT</th>\n",
       "      <th>SOLDE_PAIEMENTS</th>\n",
       "      <th>EVAL</th>\n",
       "      <th>SAP</th>\n",
       "      <th>AREC</th>\n",
       "      <th>COUTS_SINISTRES</th>\n",
       "      <th>CODTYPSO</th>\n",
       "      <th>LIBTYPSO</th>\n",
       "    </tr>\n",
       "  </thead>\n",
       "  <tbody>\n",
       "    <tr>\n",
       "      <th>0</th>\n",
       "      <td>2545</td>\n",
       "      <td>4020000323</td>\n",
       "      <td>1</td>\n",
       "      <td>3</td>\n",
       "      <td>M. TOURE SANGA IBRAHIM</td>\n",
       "      <td>MITSUBISHI</td>\n",
       "      <td>CAMIONNETTE</td>\n",
       "      <td>2026 KJ 01</td>\n",
       "      <td>2021-01-29 00:00:00.000</td>\n",
       "      <td>PS</td>\n",
       "      <td>VU</td>\n",
       "      <td>1.0</td>\n",
       "      <td>D</td>\n",
       "      <td>L4042980</td>\n",
       "      <td>8.0</td>\n",
       "      <td>1.0</td>\n",
       "      <td>NaN</td>\n",
       "      <td>NaN</td>\n",
       "      <td>5.0</td>\n",
       "      <td>26000000.0</td>\n",
       "      <td>15600000.0</td>\n",
       "      <td>NaN</td>\n",
       "      <td>2021-01-29 09:00:00.000</td>\n",
       "      <td>NaN</td>\n",
       "      <td>2021-01-29 08:01:38.000</td>\n",
       "      <td>KEVIN GNAMINI</td>\n",
       "      <td>2023-01-28 10:14:36.000</td>\n",
       "      <td>402.0</td>\n",
       "      <td>2545 4020000323 1</td>\n",
       "      <td>3328</td>\n",
       "      <td>c779e5ab19bd8b5fa2ea888cffb82b0e</td>\n",
       "      <td>CARREFOUR DE LA GENDARMERIE DE BONOUA</td>\n",
       "      <td>PARE CHOC ARRIERE DROIT</td>\n",
       "      <td>J'abordais le carrefour lorsque le véhicule qu...</td>\n",
       "      <td>1624382166-58540.jpg</td>\n",
       "      <td>1624382166-39502675.jpg</td>\n",
       "      <td>1624382166-48977437.jpg</td>\n",
       "      <td>1624382166-29909748.jpg</td>\n",
       "      <td>1624382166-36669495.jpg</td>\n",
       "      <td>1624382166-19541820.jpg</td>\n",
       "      <td>2545 2021 402693</td>\n",
       "      <td>2021</td>\n",
       "      <td>202407</td>\n",
       "      <td>2545</td>\n",
       "      <td>ASSURE PLUS</td>\n",
       "      <td>402693</td>\n",
       "      <td>NaN</td>\n",
       "      <td>4020000323</td>\n",
       "      <td>1</td>\n",
       "      <td>2021-05-06 15:45:00.000</td>\n",
       "      <td>2022-01-28 00:00:00.000</td>\n",
       "      <td>-25451201896</td>\n",
       "      <td>TOURE SANGA IBRAHIM</td>\n",
       "      <td>4</td>\n",
       "      <td>Automobile</td>\n",
       "      <td>402</td>\n",
       "      <td>402</td>\n",
       "      <td>Transport pour Propre Compte</td>\n",
       "      <td>TCM</td>\n",
       "      <td>1</td>\n",
       "      <td>Materiel</td>\n",
       "      <td>Tierce Complète</td>\n",
       "      <td>2021-06-15 12:00:00.000</td>\n",
       "      <td>2021-06-16 16:10:00.000</td>\n",
       "      <td>0</td>\n",
       "      <td>0.0</td>\n",
       "      <td>0</td>\n",
       "      <td>0.0</td>\n",
       "      <td>0</td>\n",
       "      <td>0.0</td>\n",
       "      <td>0.0</td>\n",
       "      <td>0.0</td>\n",
       "      <td>0.0</td>\n",
       "      <td>OU</td>\n",
       "      <td>Ouvert</td>\n",
       "    </tr>\n",
       "    <tr>\n",
       "      <th>1</th>\n",
       "      <td>2545</td>\n",
       "      <td>4020000323</td>\n",
       "      <td>1</td>\n",
       "      <td>3</td>\n",
       "      <td>M. TOURE SANGA IBRAHIM</td>\n",
       "      <td>MITSUBISHI</td>\n",
       "      <td>CAMIONNETTE</td>\n",
       "      <td>2026 KJ 01</td>\n",
       "      <td>2021-01-29 00:00:00.000</td>\n",
       "      <td>PS</td>\n",
       "      <td>VU</td>\n",
       "      <td>1.0</td>\n",
       "      <td>D</td>\n",
       "      <td>L4042980</td>\n",
       "      <td>8.0</td>\n",
       "      <td>1.0</td>\n",
       "      <td>NaN</td>\n",
       "      <td>NaN</td>\n",
       "      <td>5.0</td>\n",
       "      <td>26000000.0</td>\n",
       "      <td>15600000.0</td>\n",
       "      <td>NaN</td>\n",
       "      <td>2021-01-29 09:00:00.000</td>\n",
       "      <td>NaN</td>\n",
       "      <td>2021-01-29 08:01:38.000</td>\n",
       "      <td>KEVIN GNAMINI</td>\n",
       "      <td>2023-01-28 10:14:36.000</td>\n",
       "      <td>402.0</td>\n",
       "      <td>2545 4020000323 1</td>\n",
       "      <td>3335</td>\n",
       "      <td>70bff50012adf6a939316f88cb1c520c</td>\n",
       "      <td>ROND POINT NOUVEAU CAMP RIVIERA</td>\n",
       "      <td>PARE CHOC AVANT;  FEU AVANT GAUCHE</td>\n",
       "      <td>En abordant le rond-point  pour aller vers Fay...</td>\n",
       "      <td>1624448443-32020604.jpg</td>\n",
       "      <td>1624448443-87433583.jpg</td>\n",
       "      <td>1624448443-74760478.jpg</td>\n",
       "      <td>1624448443-26213914.jpg</td>\n",
       "      <td>1624448443-41652997.jpg</td>\n",
       "      <td>1624448443-27058500.jpg</td>\n",
       "      <td>2545 2021 402712</td>\n",
       "      <td>2021</td>\n",
       "      <td>202407</td>\n",
       "      <td>2545</td>\n",
       "      <td>ASSURE PLUS</td>\n",
       "      <td>402712</td>\n",
       "      <td>NaN</td>\n",
       "      <td>4020000323</td>\n",
       "      <td>1</td>\n",
       "      <td>2021-05-06 15:45:00.000</td>\n",
       "      <td>2022-01-28 00:00:00.000</td>\n",
       "      <td>-25451201896</td>\n",
       "      <td>TOURE SANGA IBRAHIM</td>\n",
       "      <td>4</td>\n",
       "      <td>Automobile</td>\n",
       "      <td>402</td>\n",
       "      <td>402</td>\n",
       "      <td>Transport pour Propre Compte</td>\n",
       "      <td>TCM</td>\n",
       "      <td>1</td>\n",
       "      <td>Materiel</td>\n",
       "      <td>Tierce Complète</td>\n",
       "      <td>2021-06-18 15:30:00.000</td>\n",
       "      <td>2021-06-21 11:55:00.000</td>\n",
       "      <td>0</td>\n",
       "      <td>1427432.0</td>\n",
       "      <td>0</td>\n",
       "      <td>0.0</td>\n",
       "      <td>0</td>\n",
       "      <td>1427432.0</td>\n",
       "      <td>0.0</td>\n",
       "      <td>0.0</td>\n",
       "      <td>1427432.0</td>\n",
       "      <td>OU</td>\n",
       "      <td>Ouvert</td>\n",
       "    </tr>\n",
       "    <tr>\n",
       "      <th>2</th>\n",
       "      <td>4512</td>\n",
       "      <td>4010000303</td>\n",
       "      <td>1</td>\n",
       "      <td>2</td>\n",
       "      <td>Mme YESSO BADJO NELLY BETTY MICHELE</td>\n",
       "      <td>LAND ROVER</td>\n",
       "      <td>VELAR</td>\n",
       "      <td>1804 JF 01</td>\n",
       "      <td>2018-09-03 00:00:00.000</td>\n",
       "      <td>CI</td>\n",
       "      <td>VP</td>\n",
       "      <td>1.0</td>\n",
       "      <td>E</td>\n",
       "      <td>0888</td>\n",
       "      <td>11.0</td>\n",
       "      <td>NaN</td>\n",
       "      <td>NaN</td>\n",
       "      <td>NaN</td>\n",
       "      <td>5.0</td>\n",
       "      <td>80000000.0</td>\n",
       "      <td>70000000.0</td>\n",
       "      <td>NaN</td>\n",
       "      <td>2019-07-02 00:00:00.000</td>\n",
       "      <td>NaN</td>\n",
       "      <td>2019-07-02 08:37:15.000</td>\n",
       "      <td>COULIBALY TIDIANE</td>\n",
       "      <td>2020-06-30 13:34:32.000</td>\n",
       "      <td>401.0</td>\n",
       "      <td>4512 4010000303 1</td>\n",
       "      <td>910</td>\n",
       "      <td>50afc575256045c35cfc2f80f886afb3</td>\n",
       "      <td>ABIDJAN MALL BONOUMIN</td>\n",
       "      <td>Pare choc arriéré gauche,</td>\n",
       "      <td>J'ai garé devant Abidjan Mall, le temps de fai...</td>\n",
       "      <td>1607334493-80227861.jpg</td>\n",
       "      <td>1607334493-94515954.jpg</td>\n",
       "      <td>1607334493-54232143.jpg</td>\n",
       "      <td>1607334493-18227108.jpg</td>\n",
       "      <td>NaN</td>\n",
       "      <td>1607334493-27662763.jpg</td>\n",
       "      <td>4512 2020 405165</td>\n",
       "      <td>2020</td>\n",
       "      <td>202407</td>\n",
       "      <td>4512</td>\n",
       "      <td>Gbadie Freddy Anicet Hilaire</td>\n",
       "      <td>405165</td>\n",
       "      <td>NaN</td>\n",
       "      <td>4010000303</td>\n",
       "      <td>2</td>\n",
       "      <td>2020-07-02 00:00:00.000</td>\n",
       "      <td>2021-07-01 00:00:00.000</td>\n",
       "      <td>-39411100238</td>\n",
       "      <td>YESSO BADJO NELLY BETTY MICHELE</td>\n",
       "      <td>4</td>\n",
       "      <td>Automobile</td>\n",
       "      <td>401</td>\n",
       "      <td>401</td>\n",
       "      <td>Promenade et Affaires Personne Physique</td>\n",
       "      <td>TCM</td>\n",
       "      <td>1</td>\n",
       "      <td>Materiel</td>\n",
       "      <td>Tierce Complète</td>\n",
       "      <td>2020-12-03 19:00:00.000</td>\n",
       "      <td>2020-12-05 12:13:11.000</td>\n",
       "      <td>0</td>\n",
       "      <td>100222.0</td>\n",
       "      <td>0</td>\n",
       "      <td>0.0</td>\n",
       "      <td>0</td>\n",
       "      <td>0.0</td>\n",
       "      <td>0.0</td>\n",
       "      <td>0.0</td>\n",
       "      <td>100222.0</td>\n",
       "      <td>TR</td>\n",
       "      <td>Cloturé</td>\n",
       "    </tr>\n",
       "    <tr>\n",
       "      <th>3</th>\n",
       "      <td>4512</td>\n",
       "      <td>4010000303</td>\n",
       "      <td>1</td>\n",
       "      <td>2</td>\n",
       "      <td>Mme YESSO BADJO NELLY BETTY MICHELE</td>\n",
       "      <td>LAND ROVER</td>\n",
       "      <td>VELAR</td>\n",
       "      <td>1804 JF 01</td>\n",
       "      <td>2018-09-03 00:00:00.000</td>\n",
       "      <td>CI</td>\n",
       "      <td>VP</td>\n",
       "      <td>1.0</td>\n",
       "      <td>E</td>\n",
       "      <td>0888</td>\n",
       "      <td>11.0</td>\n",
       "      <td>NaN</td>\n",
       "      <td>NaN</td>\n",
       "      <td>NaN</td>\n",
       "      <td>5.0</td>\n",
       "      <td>80000000.0</td>\n",
       "      <td>70000000.0</td>\n",
       "      <td>NaN</td>\n",
       "      <td>2019-07-02 00:00:00.000</td>\n",
       "      <td>NaN</td>\n",
       "      <td>2019-07-02 08:37:15.000</td>\n",
       "      <td>COULIBALY TIDIANE</td>\n",
       "      <td>2020-06-30 13:34:32.000</td>\n",
       "      <td>401.0</td>\n",
       "      <td>4512 4010000303 1</td>\n",
       "      <td>911</td>\n",
       "      <td>408066ab835e97baf442f9350ca0a2c9</td>\n",
       "      <td>DANS MON GARAGE</td>\n",
       "      <td>Aile avant droit</td>\n",
       "      <td>Je rentrais ans mon garage et j'ai eu un accro...</td>\n",
       "      <td>1607335752-12266823.jpg</td>\n",
       "      <td>1607335752-65822172.jpg</td>\n",
       "      <td>1607335752-13609220.jpg</td>\n",
       "      <td>1607335752-15005390.jpg</td>\n",
       "      <td>NaN</td>\n",
       "      <td>1607335752-51643254.jpg</td>\n",
       "      <td>4512 2020 405166</td>\n",
       "      <td>2020</td>\n",
       "      <td>202407</td>\n",
       "      <td>4512</td>\n",
       "      <td>Gbadie Freddy Anicet Hilaire</td>\n",
       "      <td>405166</td>\n",
       "      <td>NaN</td>\n",
       "      <td>4010000303</td>\n",
       "      <td>2</td>\n",
       "      <td>2020-07-02 00:00:00.000</td>\n",
       "      <td>2021-07-01 00:00:00.000</td>\n",
       "      <td>-39411100238</td>\n",
       "      <td>YESSO BADJO NELLY BETTY MICHELE</td>\n",
       "      <td>4</td>\n",
       "      <td>Automobile</td>\n",
       "      <td>401</td>\n",
       "      <td>401</td>\n",
       "      <td>Promenade et Affaires Personne Physique</td>\n",
       "      <td>TCM</td>\n",
       "      <td>1</td>\n",
       "      <td>Materiel</td>\n",
       "      <td>Tierce Complète</td>\n",
       "      <td>2020-11-27 15:00:00.000</td>\n",
       "      <td>2020-12-05 12:17:33.000</td>\n",
       "      <td>0</td>\n",
       "      <td>92139.0</td>\n",
       "      <td>0</td>\n",
       "      <td>0.0</td>\n",
       "      <td>0</td>\n",
       "      <td>0.0</td>\n",
       "      <td>0.0</td>\n",
       "      <td>0.0</td>\n",
       "      <td>92139.0</td>\n",
       "      <td>TR</td>\n",
       "      <td>Cloturé</td>\n",
       "    </tr>\n",
       "    <tr>\n",
       "      <th>4</th>\n",
       "      <td>4512</td>\n",
       "      <td>4010000303</td>\n",
       "      <td>1</td>\n",
       "      <td>2</td>\n",
       "      <td>Mme YESSO BADJO NELLY BETTY MICHELE</td>\n",
       "      <td>LAND ROVER</td>\n",
       "      <td>VELAR</td>\n",
       "      <td>1804 JF 01</td>\n",
       "      <td>2018-09-03 00:00:00.000</td>\n",
       "      <td>CI</td>\n",
       "      <td>VP</td>\n",
       "      <td>1.0</td>\n",
       "      <td>E</td>\n",
       "      <td>0888</td>\n",
       "      <td>11.0</td>\n",
       "      <td>NaN</td>\n",
       "      <td>NaN</td>\n",
       "      <td>NaN</td>\n",
       "      <td>5.0</td>\n",
       "      <td>80000000.0</td>\n",
       "      <td>70000000.0</td>\n",
       "      <td>NaN</td>\n",
       "      <td>2019-07-02 00:00:00.000</td>\n",
       "      <td>NaN</td>\n",
       "      <td>2019-07-02 08:37:15.000</td>\n",
       "      <td>COULIBALY TIDIANE</td>\n",
       "      <td>2020-06-30 13:34:32.000</td>\n",
       "      <td>401.0</td>\n",
       "      <td>4512 4010000303 1</td>\n",
       "      <td>1414</td>\n",
       "      <td>6970535956bce5579fa3fa21241b825a</td>\n",
       "      <td>COCODY SAINT JEAN</td>\n",
       "      <td>Pare choc avant gauche</td>\n",
       "      <td>Le véhicule assuré a été accrocher par un moto...</td>\n",
       "      <td>1611133119-58808296.jpg</td>\n",
       "      <td>1611133119-10797771.jpg</td>\n",
       "      <td>1611133119-75057443.jpg</td>\n",
       "      <td>1611133119-22830921.jpg</td>\n",
       "      <td>NaN</td>\n",
       "      <td>1611133119-57438348.jpg</td>\n",
       "      <td>4512 2021 400082</td>\n",
       "      <td>2021</td>\n",
       "      <td>202407</td>\n",
       "      <td>4512</td>\n",
       "      <td>Gbadie Freddy Anicet Hilaire</td>\n",
       "      <td>400082</td>\n",
       "      <td>NaN</td>\n",
       "      <td>4010000303</td>\n",
       "      <td>2</td>\n",
       "      <td>2020-07-02 00:00:00.000</td>\n",
       "      <td>2021-07-01 00:00:00.000</td>\n",
       "      <td>-39411100238</td>\n",
       "      <td>YESSO BADJO NELLY BETTY MICHELE</td>\n",
       "      <td>4</td>\n",
       "      <td>Automobile</td>\n",
       "      <td>401</td>\n",
       "      <td>401</td>\n",
       "      <td>Promenade et Affaires Personne Physique</td>\n",
       "      <td>TCM</td>\n",
       "      <td>1</td>\n",
       "      <td>Materiel</td>\n",
       "      <td>Tierce Complète</td>\n",
       "      <td>2021-01-12 00:00:00.000</td>\n",
       "      <td>2021-01-15 08:35:48.000</td>\n",
       "      <td>0</td>\n",
       "      <td>108305.0</td>\n",
       "      <td>0</td>\n",
       "      <td>0.0</td>\n",
       "      <td>0</td>\n",
       "      <td>0.0</td>\n",
       "      <td>0.0</td>\n",
       "      <td>0.0</td>\n",
       "      <td>108305.0</td>\n",
       "      <td>TR</td>\n",
       "      <td>Cloturé</td>\n",
       "    </tr>\n",
       "  </tbody>\n",
       "</table>\n",
       "</div>"
      ],
      "text/plain": [
       "  CODEINTE_risq NUMEPOLI_risq CODERISQ_risq  AVENANT_MAX  \\\n",
       "0          2545    4020000323             1            3   \n",
       "1          2545    4020000323             1            3   \n",
       "2          4512    4010000303             1            2   \n",
       "3          4512    4010000303             1            2   \n",
       "4          4512    4010000303             1            2   \n",
       "\n",
       "                              LIBERISQ    MARQVEHI     TYPEVEHI    NUMEIMMA  \\\n",
       "0               M. TOURE SANGA IBRAHIM  MITSUBISHI  CAMIONNETTE  2026 KJ 01   \n",
       "1               M. TOURE SANGA IBRAHIM  MITSUBISHI  CAMIONNETTE  2026 KJ 01   \n",
       "2  Mme YESSO BADJO NELLY BETTY MICHELE  LAND ROVER        VELAR  1804 JF 01   \n",
       "3  Mme YESSO BADJO NELLY BETTY MICHELE  LAND ROVER        VELAR  1804 JF 01   \n",
       "4  Mme YESSO BADJO NELLY BETTY MICHELE  LAND ROVER        VELAR  1804 JF 01   \n",
       "\n",
       "                  DATE_MEC CARRVEHI CODGENAU  CODEZONE TYPEMOTE  NUMECHAS  \\\n",
       "0  2021-01-29 00:00:00.000       PS       VU       1.0        D  L4042980   \n",
       "1  2021-01-29 00:00:00.000       PS       VU       1.0        D  L4042980   \n",
       "2  2018-09-03 00:00:00.000       CI       VP       1.0        E      0888   \n",
       "3  2018-09-03 00:00:00.000       CI       VP       1.0        E      0888   \n",
       "4  2018-09-03 00:00:00.000       CI       VP       1.0        E      0888   \n",
       "\n",
       "   PUISVEHI  POIDVEHI  CYLIVEHI  VITEVEHI  NOMBPLAC    CAPRIS01    CAPRIS02  \\\n",
       "0       8.0       1.0       NaN       NaN       5.0  26000000.0  15600000.0   \n",
       "1       8.0       1.0       NaN       NaN       5.0  26000000.0  15600000.0   \n",
       "2      11.0       NaN       NaN       NaN       5.0  80000000.0  70000000.0   \n",
       "3      11.0       NaN       NaN       NaN       5.0  80000000.0  70000000.0   \n",
       "4      11.0       NaN       NaN       NaN       5.0  80000000.0  70000000.0   \n",
       "\n",
       "   NOMPLAIN                 DATEENTR DATESORT                 CREE__LE  \\\n",
       "0       NaN  2021-01-29 09:00:00.000      NaN  2021-01-29 08:01:38.000   \n",
       "1       NaN  2021-01-29 09:00:00.000      NaN  2021-01-29 08:01:38.000   \n",
       "2       NaN  2019-07-02 00:00:00.000      NaN  2019-07-02 08:37:15.000   \n",
       "3       NaN  2019-07-02 00:00:00.000      NaN  2019-07-02 08:37:15.000   \n",
       "4       NaN  2019-07-02 00:00:00.000      NaN  2019-07-02 08:37:15.000   \n",
       "\n",
       "            MODI_PAR                 MODI__LE  CATERISQ_risq  \\\n",
       "0      KEVIN GNAMINI  2023-01-28 10:14:36.000          402.0   \n",
       "1      KEVIN GNAMINI  2023-01-28 10:14:36.000          402.0   \n",
       "2  COULIBALY TIDIANE  2020-06-30 13:34:32.000          401.0   \n",
       "3  COULIBALY TIDIANE  2020-06-30 13:34:32.000          401.0   \n",
       "4  COULIBALY TIDIANE  2020-06-30 13:34:32.000          401.0   \n",
       "\n",
       "  CODEINTE_NUMEPOLI_CODERISQ    id                         hkeymodif  \\\n",
       "0          2545 4020000323 1  3328  c779e5ab19bd8b5fa2ea888cffb82b0e   \n",
       "1          2545 4020000323 1  3335  70bff50012adf6a939316f88cb1c520c   \n",
       "2          4512 4010000303 1   910  50afc575256045c35cfc2f80f886afb3   \n",
       "3          4512 4010000303 1   911  408066ab835e97baf442f9350ca0a2c9   \n",
       "4          4512 4010000303 1  1414  6970535956bce5579fa3fa21241b825a   \n",
       "\n",
       "                          disaster_place                     material_damage  \\\n",
       "0  CARREFOUR DE LA GENDARMERIE DE BONOUA             PARE CHOC ARRIERE DROIT   \n",
       "1        ROND POINT NOUVEAU CAMP RIVIERA  PARE CHOC AVANT;  FEU AVANT GAUCHE   \n",
       "2                  ABIDJAN MALL BONOUMIN           Pare choc arriéré gauche,   \n",
       "3                        DANS MON GARAGE                    Aile avant droit   \n",
       "4                      COCODY SAINT JEAN              Pare choc avant gauche   \n",
       "\n",
       "                                 circonstance_detail    file_uploaded_photo_1  \\\n",
       "0  J'abordais le carrefour lorsque le véhicule qu...     1624382166-58540.jpg   \n",
       "1  En abordant le rond-point  pour aller vers Fay...  1624448443-32020604.jpg   \n",
       "2  J'ai garé devant Abidjan Mall, le temps de fai...  1607334493-80227861.jpg   \n",
       "3  Je rentrais ans mon garage et j'ai eu un accro...  1607335752-12266823.jpg   \n",
       "4  Le véhicule assuré a été accrocher par un moto...  1611133119-58808296.jpg   \n",
       "\n",
       "     file_uploaded_photo_2    file_uploaded_photo_3    file_uploaded_photo_4  \\\n",
       "0  1624382166-39502675.jpg  1624382166-48977437.jpg  1624382166-29909748.jpg   \n",
       "1  1624448443-87433583.jpg  1624448443-74760478.jpg  1624448443-26213914.jpg   \n",
       "2  1607334493-94515954.jpg  1607334493-54232143.jpg  1607334493-18227108.jpg   \n",
       "3  1607335752-65822172.jpg  1607335752-13609220.jpg  1607335752-15005390.jpg   \n",
       "4  1611133119-10797771.jpg  1611133119-75057443.jpg  1611133119-22830921.jpg   \n",
       "\n",
       "     file_uploaded_photo_5    file_uploaded_photo_6  \\\n",
       "0  1624382166-36669495.jpg  1624382166-19541820.jpg   \n",
       "1  1624448443-41652997.jpg  1624448443-27058500.jpg   \n",
       "2                      NaN  1607334493-27662763.jpg   \n",
       "3                      NaN  1607335752-51643254.jpg   \n",
       "4                      NaN  1611133119-57438348.jpg   \n",
       "\n",
       "  disaster_number_milliard_added ANNEE  DEAL_DATE CODEINTE_sin  \\\n",
       "0               2545 2021 402693  2021     202407         2545   \n",
       "1               2545 2021 402712  2021     202407         2545   \n",
       "2               4512 2020 405165  2020     202407         4512   \n",
       "3               4512 2020 405166  2020     202407         4512   \n",
       "4               4512 2021 400082  2021     202407         4512   \n",
       "\n",
       "                       RAISOCIN NUMESINI REFEINTE NUMEPOLI_sin  NUMEAVEN  \\\n",
       "0                   ASSURE PLUS   402693      NaN   4020000323         1   \n",
       "1                   ASSURE PLUS   402712      NaN   4020000323         1   \n",
       "2  Gbadie Freddy Anicet Hilaire   405165      NaN   4010000303         2   \n",
       "3  Gbadie Freddy Anicet Hilaire   405166      NaN   4010000303         2   \n",
       "4  Gbadie Freddy Anicet Hilaire   400082      NaN   4010000303         2   \n",
       "\n",
       "                  DATEEFFE                 DATEECHE     CODEASSU  \\\n",
       "0  2021-05-06 15:45:00.000  2022-01-28 00:00:00.000 -25451201896   \n",
       "1  2021-05-06 15:45:00.000  2022-01-28 00:00:00.000 -25451201896   \n",
       "2  2020-07-02 00:00:00.000  2021-07-01 00:00:00.000 -39411100238   \n",
       "3  2020-07-02 00:00:00.000  2021-07-01 00:00:00.000 -39411100238   \n",
       "4  2020-07-02 00:00:00.000  2021-07-01 00:00:00.000 -39411100238   \n",
       "\n",
       "                               NOM  CODEBRAN    LIBEBRAN  CODECATE  \\\n",
       "0              TOURE SANGA IBRAHIM         4  Automobile       402   \n",
       "1              TOURE SANGA IBRAHIM         4  Automobile       402   \n",
       "2  YESSO BADJO NELLY BETTY MICHELE         4  Automobile       401   \n",
       "3  YESSO BADJO NELLY BETTY MICHELE         4  Automobile       401   \n",
       "4  YESSO BADJO NELLY BETTY MICHELE         4  Automobile       401   \n",
       "\n",
       "   CATERISQ_sin                                 LIBECATE CODEGARA  \\\n",
       "0           402             Transport pour Propre Compte      TCM   \n",
       "1           402             Transport pour Propre Compte      TCM   \n",
       "2           401  Promenade et Affaires Personne Physique      TCM   \n",
       "3           401  Promenade et Affaires Personne Physique      TCM   \n",
       "4           401  Promenade et Affaires Personne Physique      TCM   \n",
       "\n",
       "  CODERISQ_sin  NATUSINI         LIBEGARA                 DATESURV  \\\n",
       "0            1  Materiel  Tierce Complète  2021-06-15 12:00:00.000   \n",
       "1            1  Materiel  Tierce Complète  2021-06-18 15:30:00.000   \n",
       "2            1  Materiel  Tierce Complète  2020-12-03 19:00:00.000   \n",
       "3            1  Materiel  Tierce Complète  2020-11-27 15:00:00.000   \n",
       "4            1  Materiel  Tierce Complète  2021-01-12 00:00:00.000   \n",
       "\n",
       "                  DATEDECL  SINPAY  SINPAY_ANT  RECENC  RECENC_ANT  \\\n",
       "0  2021-06-16 16:10:00.000       0         0.0       0         0.0   \n",
       "1  2021-06-21 11:55:00.000       0   1427432.0       0         0.0   \n",
       "2  2020-12-05 12:13:11.000       0    100222.0       0         0.0   \n",
       "3  2020-12-05 12:17:33.000       0     92139.0       0         0.0   \n",
       "4  2021-01-15 08:35:48.000       0    108305.0       0         0.0   \n",
       "\n",
       "   SOLDE_PAIEMENTS       EVAL  SAP  AREC  COUTS_SINISTRES CODTYPSO LIBTYPSO  \n",
       "0                0        0.0  0.0   0.0              0.0       OU   Ouvert  \n",
       "1                0  1427432.0  0.0   0.0        1427432.0       OU   Ouvert  \n",
       "2                0        0.0  0.0   0.0         100222.0       TR  Cloturé  \n",
       "3                0        0.0  0.0   0.0          92139.0       TR  Cloturé  \n",
       "4                0        0.0  0.0   0.0         108305.0       TR  Cloturé  "
      ]
     },
     "execution_count": 43,
     "metadata": {},
     "output_type": "execute_result"
    }
   ],
   "source": [
    "result0.head()"
   ]
  },
  {
   "cell_type": "markdown",
   "id": "d537a059-37ef-4fa4-85bd-8163f8faaa1f",
   "metadata": {},
   "source": [
    "### ANALYSE DE DESCRIPTIVES DES DONNEES (SUR LA VARIABLE CIBLE) "
   ]
  },
  {
   "cell_type": "markdown",
   "id": "f9a8dd0f-fabd-4438-a85c-e3bd566d6706",
   "metadata": {},
   "source": [
    "#### BOXPLOT POUR VISUALISER LA DISTRIBUTION DE LA VARIABLE CIBLE "
   ]
  },
  {
   "cell_type": "code",
   "execution_count": 44,
   "id": "01b12aaa-55dc-4d7c-8453-bf205512b866",
   "metadata": {},
   "outputs": [
    {
     "data": {
      "image/png": "[encoded data removed]",
      "text/plain": [
       "<Figure size 640x480 with 1 Axes>"
      ]
     },
     "metadata": {},
     "output_type": "display_data"
    }
   ],
   "source": [
    "import matplotlib.pyplot as plt\n",
    "\n",
    "plt.boxplot(result0['COUTS_SINISTRES']) \n",
    "\n",
    "# Ajout de labels et titre\n",
    "plt.title('Boîte à Moustaches des Valeurs')\n",
    "plt.ylabel('COUTS_SINISTRES')\n",
    "\n",
    "# Affichage du graphique\n",
    "plt.show() "
   ]
  },
  {
   "cell_type": "markdown",
   "id": "78448a06-876f-4363-b934-32268fabc1d9",
   "metadata": {},
   "source": [
    "### BOXPLOT AVEC TOUTES LES VARIABLES POSITIVES "
   ]
  },
  {
   "cell_type": "code",
   "execution_count": 45,
   "id": "55ff6ca0-709e-437b-ac4a-ef81b5530fa7",
   "metadata": {},
   "outputs": [
    {
     "data": {
      "image/png": "[encoded data removed]",
      "text/plain": [
       "<Figure size 640x480 with 1 Axes>"
      ]
     },
     "metadata": {},
     "output_type": "display_data"
    }
   ],
   "source": [
    "import matplotlib.pyplot as plt\n",
    "\n",
    "result0 = result0[result0['COUTS_SINISTRES']>0] \n",
    "plt.boxplot(result0['COUTS_SINISTRES']) \n",
    "\n",
    "# Ajout de labels et titre\n",
    "plt.title('Boîte à Moustaches des Valeurs')\n",
    "plt.ylabel('COUTS_SINISTRES')\n",
    "\n",
    "# Affichage du graphique\n",
    "plt.show() "
   ]
  },
  {
   "cell_type": "markdown",
   "id": "d553f460-a2a8-4d4e-b6d4-85f2498daf21",
   "metadata": {},
   "source": [
    "### IDENTIFICATION DES VALEURS EXTREMES "
   ]
  },
  {
   "cell_type": "code",
   "execution_count": 46,
   "id": "2bac423c-1d14-4b5b-b070-3ec2fba19f24",
   "metadata": {},
   "outputs": [
    {
     "name": "stdout",
     "output_type": "stream",
     "text": [
      "164523.0\n",
      "365965.0\n",
      "852695.0\n",
      "688172.0\n",
      "-867735.0\n",
      "1884953.0\n"
     ]
    }
   ],
   "source": [
    "# df = r.reset_index(drop = True) \n",
    "\n",
    "# Calculer les bornes pour les valeurs extrêmes\n",
    "Q1 = result0['COUTS_SINISTRES'].quantile(0.25)\n",
    "Q2 = result0['COUTS_SINISTRES'].quantile(0.5)\n",
    "Q3 = result0['COUTS_SINISTRES'].quantile(0.75)\n",
    "IQR = Q3 - Q1     \n",
    "print(Q1)\n",
    "print(Q2)\n",
    "print(Q3) \n",
    "print(IQR) \n",
    "# Définir les limites des moustaches\n",
    "lower_bound = Q1 - 1.5 * IQR\n",
    "upper_bound = Q3 + 1.5 * IQR\n",
    "\n",
    "# Filtrer les valeurs extrêmes\n",
    "df_filtered = result0[result0['COUTS_SINISTRES'] <= upper_bound] \n",
    "print(lower_bound)\n",
    "print(upper_bound)"
   ]
  },
  {
   "cell_type": "code",
   "execution_count": 47,
   "id": "c664bdbc-12de-4191-a3c1-e0ea28888b70",
   "metadata": {},
   "outputs": [],
   "source": [
    "# df_filtered = result0.copy()"
   ]
  },
  {
   "cell_type": "code",
   "execution_count": 48,
   "id": "0959cf2f-f46e-4d85-a158-ac4597b2f13f",
   "metadata": {},
   "outputs": [
    {
     "data": {
      "text/plain": [
       "955480.4589653831"
      ]
     },
     "execution_count": 48,
     "metadata": {},
     "output_type": "execute_result"
    }
   ],
   "source": [
    "import numpy as np\n",
    "np.mean(result0['COUTS_SINISTRES'])"
   ]
  },
  {
   "cell_type": "markdown",
   "id": "6d34b4fe-5d76-4d8f-a684-1bfb7f51b6a7",
   "metadata": {},
   "source": [
    "### BOXPLOT DES LA CIBLE SANS LES VALEURS EXTREMES "
   ]
  },
  {
   "cell_type": "code",
   "execution_count": 49,
   "id": "9adfe59e-4add-4339-989f-b667b41d5868",
   "metadata": {},
   "outputs": [
    {
     "data": {
      "image/png": "[encoded data removed]",
      "text/plain": [
       "<Figure size 640x480 with 1 Axes>"
      ]
     },
     "metadata": {},
     "output_type": "display_data"
    }
   ],
   "source": [
    "max(df_filtered['COUTS_SINISTRES'])\n",
    "import matplotlib.pyplot as plt\n",
    "\n",
    "plt.boxplot(df_filtered['COUTS_SINISTRES']) \n",
    "\n",
    "# Ajout de labels et titre\n",
    "plt.title('Boîte à Moustaches des Valeurs')\n",
    "plt.ylabel('Valeur')\n",
    "\n",
    "# Affichage du graphique\n",
    "plt.show()"
   ]
  },
  {
   "cell_type": "code",
   "execution_count": 50,
   "id": "33b8f28a-90e8-4eb2-bfe2-cedafdac3177",
   "metadata": {},
   "outputs": [],
   "source": [
    "len(df_filtered)\n",
    "result1 = df_filtered.copy()"
   ]
  },
  {
   "cell_type": "markdown",
   "id": "a54ba766-c3ed-41a1-a686-1cee9ed997e3",
   "metadata": {},
   "source": [
    "### TRAITEMENT DES DONNEES "
   ]
  },
  {
   "cell_type": "code",
   "execution_count": 51,
   "id": "c83e12a5-2154-4eaa-b962-74ffed1ccb7d",
   "metadata": {},
   "outputs": [
    {
     "name": "stdout",
     "output_type": "stream",
     "text": [
      "468\n",
      "460\n"
     ]
    }
   ],
   "source": [
    "result1[result1['MARQVEHI']=='TOYOTA CROLLA']\n",
    "result1 = result1.drop(index = 7713)\n",
    "\n",
    "result1 = result1.reset_index()\n",
    "print(result1['TYPEVEHI'].nunique())\n",
    "\n",
    "#Gerer la variable MARQVEHI\n",
    "# for i in range(len(result1['MARQVEHI'])):\n",
    "#     result1.loc[i,'MARQVEHI'] = result1.loc[i,'MARQVEHI']\n",
    "    \n",
    "#Gerer la variable TYPEVEHI mettre une certaine coherence au niveau de la modalité VP\n",
    "def normalize_typevehi(typevehi):\n",
    "    typevehi = str(typevehi)\n",
    "    typevehi = typevehi.upper()\n",
    "    if typevehi in ['V-P', 'VP', 'V.P', 'V.P.', 'V P','V¨P',' V.P',' V.¨P']:\n",
    "        return 'VP'\n",
    "    return typevehi\n",
    "\n",
    "# Appliquer la fonction à la colonne TYPEVEHI\n",
    "result1['TYPEVEHI'] = result1['TYPEVEHI'].apply(normalize_typevehi)\n",
    "\n",
    "print(result1['TYPEVEHI'].nunique()) \n",
    "\n",
    "def drop_nan(df):\n",
    "    for col in df.columns:\n",
    "        df = df[df[col] != 'nan']\n",
    "    return df\n",
    "\n",
    "result1 = drop_nan(result1)  "
   ]
  },
  {
   "cell_type": "markdown",
   "id": "e2da3e93-5541-4232-bbc9-de56e8a07570",
   "metadata": {},
   "source": [
    "#### SELECTION DES COLONNES QUI NOUS INTERESSENT "
   ]
  },
  {
   "cell_type": "code",
   "execution_count": 52,
   "id": "0843619a-98cc-44ff-a933-89fc93b0f677",
   "metadata": {},
   "outputs": [],
   "source": [
    "#Selectionner les colonnes dont on aura besoin \n",
    "result2 = result1[[\"CODEINTE_NUMEPOLI_CODERISQ\",\"id\", \"MARQVEHI\", 'TYPEMOTE', \"TYPEVEHI\", 'CARRVEHI', \"PUISVEHI\", \"POIDVEHI\", 'CYLIVEHI', 'VITEVEHI', 'NOMBPLAC', 'material_damage', 'disaster_place', 'circonstance_detail', 'file_uploaded_photo_1', 'file_uploaded_photo_2','file_uploaded_photo_3', 'file_uploaded_photo_4', 'file_uploaded_photo_5', 'file_uploaded_photo_6', 'CODEBRAN', 'CODEGARA', 'CODECATE', 'CAPRIS01', 'CAPRIS02', 'COUTS_SINISTRES']]"
   ]
  },
  {
   "cell_type": "code",
   "execution_count": 101,
   "id": "7fbd0a0b-25bb-40ce-873b-78a36ab30e8d",
   "metadata": {},
   "outputs": [
    {
     "data": {
      "text/plain": [
       "6748"
      ]
     },
     "execution_count": 101,
     "metadata": {},
     "output_type": "execute_result"
    }
   ],
   "source": [
    "result2.head("
   ]
  },
  {
   "cell_type": "markdown",
   "id": "e2a47ce1-a9f0-4973-9c68-3f5954f0619f",
   "metadata": {},
   "source": [
    "#### BILAN DES VALEURS MANQUANTES"
   ]
  },
  {
   "cell_type": "code",
   "execution_count": 54,
   "id": "7a97b527-3c57-414a-83d4-199664d9ae03",
   "metadata": {},
   "outputs": [
    {
     "data": {
      "text/plain": [
       "(6890, 26)"
      ]
     },
     "execution_count": 54,
     "metadata": {},
     "output_type": "execute_result"
    }
   ],
   "source": [
    "result2.shape"
   ]
  },
  {
   "cell_type": "code",
   "execution_count": 55,
   "id": "039d92de-8829-4166-9516-1c8a9a009bd9",
   "metadata": {},
   "outputs": [
    {
     "data": {
      "text/plain": [
       "CODEINTE_NUMEPOLI_CODERISQ      0.000000\n",
       "id                              0.000000\n",
       "MARQVEHI                        0.000000\n",
       "TYPEMOTE                        0.000000\n",
       "TYPEVEHI                        0.000000\n",
       "CARRVEHI                       16.168360\n",
       "PUISVEHI                        0.812772\n",
       "POIDVEHI                       77.184325\n",
       "CYLIVEHI                       99.622642\n",
       "VITEVEHI                      100.000000\n",
       "NOMBPLAC                        0.986938\n",
       "material_damage                 0.000000\n",
       "disaster_place                  0.014514\n",
       "circonstance_detail             0.000000\n",
       "file_uploaded_photo_1           0.087083\n",
       "file_uploaded_photo_2           0.087083\n",
       "file_uploaded_photo_3           0.087083\n",
       "file_uploaded_photo_4           0.087083\n",
       "file_uploaded_photo_5          23.671988\n",
       "file_uploaded_photo_6          22.626996\n",
       "CODEBRAN                        0.000000\n",
       "CODEGARA                        0.000000\n",
       "CODECATE                        0.000000\n",
       "CAPRIS01                        0.159652\n",
       "CAPRIS02                        0.159652\n",
       "COUTS_SINISTRES                 0.000000\n",
       "dtype: float64"
      ]
     },
     "execution_count": 55,
     "metadata": {},
     "output_type": "execute_result"
    }
   ],
   "source": [
    "result2.isna().sum() / len(result2) * 100"
   ]
  },
  {
   "cell_type": "markdown",
   "id": "96a14cf1-4851-4126-b630-794b31670074",
   "metadata": {},
   "source": [
    "#### SUPPRESSION DES COLONNES DE PLUS DE 10% DE VALEURS MANQUANTES"
   ]
  },
  {
   "cell_type": "code",
   "execution_count": 56,
   "id": "21698aec-dd95-471d-9839-65ba7fb0eadb",
   "metadata": {},
   "outputs": [
    {
     "data": {
      "text/plain": [
       "CODEINTE_NUMEPOLI_CODERISQ    0.000000\n",
       "id                            0.000000\n",
       "MARQVEHI                      0.000000\n",
       "TYPEMOTE                      0.000000\n",
       "TYPEVEHI                      0.000000\n",
       "PUISVEHI                      0.812772\n",
       "NOMBPLAC                      0.986938\n",
       "material_damage               0.000000\n",
       "disaster_place                0.014514\n",
       "circonstance_detail           0.000000\n",
       "file_uploaded_photo_1         0.087083\n",
       "file_uploaded_photo_2         0.087083\n",
       "file_uploaded_photo_3         0.087083\n",
       "file_uploaded_photo_4         0.087083\n",
       "CODEBRAN                      0.000000\n",
       "CODEGARA                      0.000000\n",
       "CODECATE                      0.000000\n",
       "CAPRIS01                      0.159652\n",
       "CAPRIS02                      0.159652\n",
       "COUTS_SINISTRES               0.000000\n",
       "dtype: float64"
      ]
     },
     "execution_count": 56,
     "metadata": {},
     "output_type": "execute_result"
    }
   ],
   "source": [
    "result2 = result2.drop(['CARRVEHI','POIDVEHI','VITEVEHI','CYLIVEHI','file_uploaded_photo_5','file_uploaded_photo_6'],axis=1) \n",
    "result2.isna().sum() / len(result1) * 100 "
   ]
  },
  {
   "cell_type": "markdown",
   "id": "4e6160f4-a7af-4d8e-ace5-52038d188f49",
   "metadata": {},
   "source": [
    "### GESTION DES IMPUTATIONS DES VALEURS MANQUANTES"
   ]
  },
  {
   "cell_type": "markdown",
   "id": "c2e01439-2b85-4e8c-9626-78586e51c357",
   "metadata": {},
   "source": [
    "#### MATRICE DE CORRELATION"
   ]
  },
  {
   "cell_type": "code",
   "execution_count": 59,
   "id": "a70e2e5d-93e4-439b-82ed-691da8770cab",
   "metadata": {},
   "outputs": [
    {
     "name": "stdout",
     "output_type": "stream",
     "text": [
      "Matrice de Corrélation ---------------------------------------------------------------------------------------------- :\n"
     ]
    },
    {
     "data": {
      "image/png": "[encoded data removed]",
      "text/plain": [
       "<Figure size 1000x800 with 2 Axes>"
      ]
     },
     "metadata": {},
     "output_type": "display_data"
    }
   ],
   "source": [
    "meric_df = result2.select_dtypes(include=['float64', 'int64'])\n",
    "meric_df = meric_df.drop(columns =['CODEBRAN', 'id'], axis=1) \n",
    "correlation_matrix = meric_df.corr() \n",
    "import seaborn as sns\n",
    "print(\"Matrice de Corrélation ---------------------------------------------------------------------------------------------- :\")\n",
    "#print(correlation_matrix)\n",
    "# Visualiser la matrice de corrélation avec une heatmap\n",
    "plt.figure(figsize=(10, 8))\n",
    "sns.heatmap(correlation_matrix, annot=True, cmap='coolwarm', fmt='.2f', vmin=-1, vmax=1)\n",
    "plt.title('Matrice de Corrélation')\n",
    "plt.show() "
   ]
  },
  {
   "cell_type": "code",
   "execution_count": 60,
   "id": "c328620f-179f-4ead-a1b6-bdb652234191",
   "metadata": {},
   "outputs": [
    {
     "name": "stdout",
     "output_type": "stream",
     "text": [
      "0\n",
      "0\n"
     ]
    }
   ],
   "source": [
    "\"\"\" On aurait voulu imputer les deux colonnes l'une par l'autre vu leur forte correlation, mais on fait le constat selon lequel\n",
    "Les deux colonnes sont à la fois nulles en memes temps \"\"\" \n",
    "print(len(result2[result2['CAPRIS01'].isna() & result2['CAPRIS01'].notna()]))\n",
    "print(len(result2[result2['CAPRIS01'].notna() & result2['CAPRIS01'].isna()])) "
   ]
  },
  {
   "cell_type": "code",
   "execution_count": 61,
   "id": "bfaa2c22-ad47-4624-8634-6a29ebee053a",
   "metadata": {},
   "outputs": [
    {
     "data": {
      "text/plain": [
       "\" Apres avoir fait des boxplot pour chaque variable, on voit que les numeriques seront toutes imputées par la mediane, du fait de l'asymetrie de nos donnees \""
      ]
     },
     "execution_count": 61,
     "metadata": {},
     "output_type": "execute_result"
    }
   ],
   "source": [
    "\"\"\" Apres avoir fait des boxplot pour chaque variable, on voit que les numeriques seront toutes imputées par la mediane, du fait de l'asymetrie de nos donnees \"\"\" "
   ]
  },
  {
   "cell_type": "markdown",
   "id": "7a831467-2cb6-4bff-a7b6-ed223ba40938",
   "metadata": {},
   "source": [
    "#### CHOIX DES METHODE D'IMPUTATION: Mediane pour les numeriques et mode pour les catégorielles."
   ]
  },
  {
   "cell_type": "code",
   "execution_count": 62,
   "id": "a0d1ced1-a7c4-4a1e-8f52-76b456bc8931",
   "metadata": {},
   "outputs": [
    {
     "data": {
      "text/plain": [
       "CODEINTE_NUMEPOLI_CODERISQ    0.000000\n",
       "id                            0.000000\n",
       "MARQVEHI                      0.000000\n",
       "TYPEMOTE                      0.000000\n",
       "TYPEVEHI                      0.000000\n",
       "PUISVEHI                      0.812772\n",
       "NOMBPLAC                      0.986938\n",
       "material_damage               0.000000\n",
       "disaster_place                0.014514\n",
       "circonstance_detail           0.000000\n",
       "file_uploaded_photo_1         0.087083\n",
       "file_uploaded_photo_2         0.087083\n",
       "file_uploaded_photo_3         0.087083\n",
       "file_uploaded_photo_4         0.087083\n",
       "CODEBRAN                      0.000000\n",
       "CODEGARA                      0.000000\n",
       "CODECATE                      0.000000\n",
       "CAPRIS01                      0.159652\n",
       "CAPRIS02                      0.159652\n",
       "COUTS_SINISTRES               0.000000\n",
       "dtype: float64"
      ]
     },
     "execution_count": 62,
     "metadata": {},
     "output_type": "execute_result"
    }
   ],
   "source": [
    "result2.isna().sum() / len(result2) * 100"
   ]
  },
  {
   "cell_type": "code",
   "execution_count": 63,
   "id": "6bca09e8-e661-4005-9806-066488e35000",
   "metadata": {},
   "outputs": [],
   "source": [
    "# occurrences = result2['TYPEVEHI'].value_counts()\n",
    "# occurrences\n",
    "# # Filtrer pour obtenir les modalités avec une seule occurrence\n",
    "# modalites_une_occurrence = occurrences[(occurrences <15) & (occurrences >10)].index\n",
    "# modalites_une_occurrence"
   ]
  },
  {
   "cell_type": "code",
   "execution_count": 64,
   "id": "b8f15687-4a9f-4013-a5f4-8a56cf3784ee",
   "metadata": {},
   "outputs": [
    {
     "data": {
      "text/plain": [
       "6748"
      ]
     },
     "execution_count": 64,
     "metadata": {},
     "output_type": "execute_result"
    }
   ],
   "source": [
    "#supprimer toutes les valeurs manquantes du jeu de données \n",
    "result2.dropna(inplace = True)\n",
    "len(result2)  "
   ]
  },
  {
   "cell_type": "code",
   "execution_count": null,
   "id": "ba9846d5-aa87-49dd-9357-c4cc9b815ffd",
   "metadata": {},
   "outputs": [],
   "source": []
  },
  {
   "cell_type": "markdown",
   "id": "4665823b-0f75-48dc-b688-93a1390327cf",
   "metadata": {},
   "source": [
    "### ------------------------ ENCODAGE DES VARIABLES CATEGORIELLES --------------------------"
   ]
  },
  {
   "cell_type": "code",
   "execution_count": 65,
   "id": "e223c419-db5d-4e62-a4a9-3771b6e702de",
   "metadata": {},
   "outputs": [],
   "source": [
    "# print(len(list(result3['TYPEVEHI'].unique())), len(list(result2['TYPEVEHI'].unique())))\n",
    "# print(result3['TYPEVEHI'][0], result2['TYPEVEHI'][0]) "
   ]
  },
  {
   "cell_type": "code",
   "execution_count": 66,
   "id": "62865001-2e99-49c0-9c1c-c867696978fd",
   "metadata": {},
   "outputs": [],
   "source": [
    "result3 = result2.copy()\n",
    "\n",
    "marqvehi = {\n",
    "    'SUZUKI': 1,'TOYOTA': 2,'MUTSUBISHI': 3,'RENAULT': 4,'HYUNDAI':5, 'NISSAN':6, 'MAZDA':7, 'CHANGAN':8,\n",
    "    'KIAMOTORS':9, 'KIAMOTORS':10, 'PEUGEOT':11, 'HAVAL':12, 'CITROEN':13,'BMW':14, 'GREAT WALL':15,\n",
    "    'FORD':16, 'LAND ROVER':17, 'ISUZU':18, 'HONDA':19, 'FIAT':20,'MERCEDES':21, 'KIA':22, 'TOYOTA RAV4':23,\n",
    "    'VOLKSWAGEN':24, 'SUZIKI':25, 'SINOTRUK':26,'PAJERO':27, 'TOYOTA RAV 4':28, 'FOTON':29, 'LEXUS':30,\n",
    "    'NISSAN KICKS':31,'DONG FENG':32,'AUDI':33, 'TOYOTA RUSH':34, 'JMC':35,'FORLAND':36, 'MADZA':37, 'SUZUKI DZIRE':38,\n",
    "    'MERCEDES BENZ':39,'MAZDA CX-5':40, 'CHANGAN P201':41, 'ASHOK LEYLAND':42\n",
    "}\n",
    "\n",
    "typevehi = {\n",
    "    'VP':1, 'CAMIONNETTE':2, 'ALTO':3, 'DZIRE':4, 'VITARA':5, 'L200':6, 'CAMION':7,'SWIFT':8, 'HILUX':9,\n",
    "    'TUCSON':10,'KICKS':11, 'RAV4':12, 'PRADO':13, 'CORBILLARD':14, 'RUSH':15,'LAND CRUISER':16, 'CX-5':17, \n",
    "    'PAJERO':18, 'AUTOCAR-BUS':19, '3008':20, 'SANTA FE':21,'C4 CACTUS':22, 'BALENO':23, 'FORTUNER':24, 'CX5':25,\n",
    "    'PAJERO SPORT':26, 'LOGAN':27,'RAV 4':28, 'CS 55':29, 'CIAZ':30, 'L 200':31, 'NP300':32, 'A3DEE':33\n",
    "}\n",
    "\n",
    "# Appliquer le mapping avec une valeur par défaut pour les modalités non présentes dans le dictionnaire\n",
    "result3['MARQVEHI'] = result3['MARQVEHI'].map(marqvehi).fillna(0) \n",
    "result3['TYPEMOTE'] = result3['TYPEMOTE'].map({'D':0, 'E':1})\n",
    "result3['TYPEVEHI'] = result3['TYPEVEHI'].map(typevehi).fillna(0)\n",
    "result3['CODEGARA'] = result3['CODEGARA'].map({'TCM':0, 'TC':1, 'TCL':2, 'TCP':3}).fillna(0)"
   ]
  },
  {
   "cell_type": "code",
   "execution_count": 67,
   "id": "1256e076-6ed5-4a54-9565-48a0c650de0a",
   "metadata": {},
   "outputs": [],
   "source": [
    "result3.dropna(inplace = True) "
   ]
  },
  {
   "cell_type": "code",
   "execution_count": 68,
   "id": "bad35e0a-b2d9-491b-84ea-e3e154b68ed9",
   "metadata": {},
   "outputs": [],
   "source": [
    "# result3 = result2.copy()\n",
    "\n",
    "# #Encodage des variables catégorielles \n",
    "# from sklearn.preprocessing import LabelEncoder\n",
    "# label_encoder = LabelEncoder()\n",
    "# def encodage(col):\n",
    "#     result3[col] = label_encoder.fit_transform(result3[col])\n",
    "#     return result3\n",
    "\n",
    "# for col in ['MARQVEHI','TYPEMOTE', 'TYPEVEHI','CODEGARA']:\n",
    "#     encodage(col)"
   ]
  },
  {
   "cell_type": "code",
   "execution_count": 69,
   "id": "8a4dba6e-7dd2-4fca-a4de-08511f64ec5e",
   "metadata": {},
   "outputs": [],
   "source": [
    "# from sklearn.preprocessing import LabelEncoder\n",
    "\n",
    "# # Création d'un dictionnaire pour stocker les LabelEncoders pour chaque colonne\n",
    "# label_encoders = {}\n",
    "\n",
    "# def encodage(df, columns):\n",
    "#     for col in columns:\n",
    "#         le = LabelEncoder()\n",
    "#         df[col] = le.fit_transform(df[col])\n",
    "#         label_encoders[col] = le  # Sauvegarde du LabelEncoder pour chaque colonne\n",
    "#     return df\n",
    "\n",
    "# # Colonnes à encoder\n",
    "# columns_to_encode = ['MARQVEHI', 'TYPEMOTE', 'TYPEVEHI', 'CODEGARA']\n",
    "\n",
    "# # Application de l'encodage\n",
    "# result2 = encodage(result2.copy(), columns_to_encode)\n",
    "\n",
    "# # Création d'une copie de result2\n",
    "# result3 = result2.copy()"
   ]
  },
  {
   "cell_type": "code",
   "execution_count": 70,
   "id": "a1803d1e-7ce1-4fbc-ad07-b5973c6c4228",
   "metadata": {},
   "outputs": [],
   "source": [
    "### Décodage, on en aura besoin dans l'utilisation du modele final "
   ]
  },
  {
   "cell_type": "code",
   "execution_count": 71,
   "id": "c207ff29-7993-4e32-88ce-b0757bf3221e",
   "metadata": {},
   "outputs": [],
   "source": [
    "# def decodage(df, columns): \n",
    "#     for col in columns:\n",
    "#         le = label_encoders[col]\n",
    "#         df[col] = le.inverse_transform(df[col])\n",
    "#     return df\n",
    "\n",
    "# # Exemple de décodage\n",
    "# result3_decoded = decodage(result3.copy(), columns_to_encode)"
   ]
  },
  {
   "cell_type": "code",
   "execution_count": 74,
   "id": "5d8c1858-1a2c-48f5-b326-b97b562def27",
   "metadata": {},
   "outputs": [
    {
     "name": "stdout",
     "output_type": "stream",
     "text": [
      "/opt/spark-apps/programs/Gohou/Scripts\n"
     ]
    }
   ],
   "source": [
    "!pwd"
   ]
  },
  {
   "cell_type": "markdown",
   "id": "c63b9a24-17b0-4008-9ba2-893c05b81340",
   "metadata": {},
   "source": [
    "#### ----- FONCTION POUR LISTER TOUTES LES IMAGES (AVOIR LA LISTE DES IMAGES ET LEUR CHEMIN) -----"
   ]
  },
  {
   "cell_type": "code",
   "execution_count": 75,
   "id": "2a6e005f-1e4d-4de4-accf-fa7cb54f779f",
   "metadata": {},
   "outputs": [
    {
     "name": "stdout",
     "output_type": "stream",
     "text": [
      "130933 130933\n"
     ]
    }
   ],
   "source": [
    "\"\"\" Cette fonction nous permet d'avoir une liste des tous les chemins des images et une autres qui contient l'adressedes images dselon qu'elles soient stockées dans la base de donnees des images mais aussi dans la table fusionnée \"\"\"\n",
    "dossier = \"/opt/spark-apps/programs/Gohou/Data/images/photo_extracted/Photos_sinistres/photos\"\n",
    "import os \n",
    "def list_image_files(directory):\n",
    "    files = [] #le chemins complet    \n",
    "    adresse_images = [] #l'images elle meme     \n",
    "    for filename in os.listdir(directory):\n",
    "        if filename.endswith(\".jpg\") or filename.endswith(\".png\") or filename.endswith(\".jpeg\"):# Modifier selon les extensions d'images      \n",
    "            files.append(os.path.join(directory, filename))\n",
    "            adresse_images.append(filename)\n",
    "    return files, adresse_images \n",
    "chemins, images = list_image_files(dossier) \n",
    "print(len(chemins), len(images)) "
   ]
  },
  {
   "cell_type": "markdown",
   "id": "41ee39fd-f5cd-4eb4-8550-d04090b67e9a",
   "metadata": {},
   "source": [
    "###  CONNAISSANCE DES ADRESSES D'IMAGES QUI EXISTENT VRAIMENT DANS LE DATASET "
   ]
  },
  {
   "cell_type": "code",
   "execution_count": 76,
   "id": "71e11b1f-c636-447f-b2d2-0c215adeb2e7",
   "metadata": {},
   "outputs": [
    {
     "name": "stdout",
     "output_type": "stream",
     "text": [
      "6673\n",
      "6628\n",
      "6624\n",
      "6618\n"
     ]
    }
   ],
   "source": [
    "\"\"\" Cette fonction permet d'avoir un jeu de donnees dans lequel pour chaque adresse, sont image existe effectivement dans le dossier image. Car certaines colonnes images peuvent avoir des adresses dont l'images n'existe pas de dossier dedié\"\"\"\n",
    "\n",
    "# Couteux en temps d'execution\n",
    "def trier_data_set(df, col, img):\n",
    "    liste_im = [i for i in img if i in list(df[col])]\n",
    "    for elt in list(df[col]):\n",
    "        if elt not in liste_im:\n",
    "            try:\n",
    "                position = df[col].index[df[col] == elt].tolist()[0]\n",
    "                df = df[df[col] != df.loc[position, col]]\n",
    "            except IndexError:\n",
    "                pass# Ignorer cette itération si une erreur se produit    \n",
    "    return df \n",
    "\n",
    "result3 = trier_data_set(result3, \"file_uploaded_photo_1\", images)\n",
    "print(len(result3))\n",
    "result3 = trier_data_set(result3, \"file_uploaded_photo_2\", images)\n",
    "print(len(result3))\n",
    "result3 = trier_data_set(result3, \"file_uploaded_photo_3\", images)\n",
    "print(len(result3))\n",
    "result3 = trier_data_set(result3, \"file_uploaded_photo_4\", images)\n",
    "print(len(result3)) "
   ]
  },
  {
   "cell_type": "code",
   "execution_count": 77,
   "id": "d542daee-ba10-4ee8-b5e1-a8a39a25d173",
   "metadata": {},
   "outputs": [
    {
     "data": {
      "text/plain": [
       "Index(['CODEINTE_NUMEPOLI_CODERISQ', 'id', 'MARQVEHI', 'TYPEMOTE', 'TYPEVEHI',\n",
       "       'PUISVEHI', 'NOMBPLAC', 'material_damage', 'disaster_place',\n",
       "       'circonstance_detail', 'file_uploaded_photo_1', 'file_uploaded_photo_2',\n",
       "       'file_uploaded_photo_3', 'file_uploaded_photo_4', 'CODEBRAN',\n",
       "       'CODEGARA', 'CODECATE', 'CAPRIS01', 'CAPRIS02', 'COUTS_SINISTRES'],\n",
       "      dtype='object')"
      ]
     },
     "execution_count": 77,
     "metadata": {},
     "output_type": "execute_result"
    }
   ],
   "source": [
    "result3.columns"
   ]
  },
  {
   "cell_type": "markdown",
   "id": "067a93b5-fb6d-483f-8433-d47e221236cd",
   "metadata": {},
   "source": [
    "### RENOMMER LES COLONNES CAPRIS01 ET CAPRIS02 EN VALEUR NEUVE ET VENALE "
   ]
  },
  {
   "cell_type": "code",
   "execution_count": 78,
   "id": "87afd88a-4437-4d6e-8d34-ee660ad7dc55",
   "metadata": {},
   "outputs": [],
   "source": [
    "r = result3[[\"id\",\"CODEINTE_NUMEPOLI_CODERISQ\",\"MARQVEHI\", \"file_uploaded_photo_1\",\"file_uploaded_photo_2\",\"file_uploaded_photo_3\",\"file_uploaded_photo_4\",\"COUTS_SINISTRES\",'CODEBRAN',\"material_damage\",\"disaster_place\",\"circonstance_detail\", \"TYPEVEHI\",\"PUISVEHI\",\"NOMBPLAC\",\"CODEGARA\",\"CODECATE\",'CAPRIS01','CAPRIS02']] \n",
    "r = r.rename(columns={'CAPRIS01':'valeur_neuve','CAPRIS02':'valeur_venale'})\n",
    "df = r.copy() "
   ]
  },
  {
   "cell_type": "code",
   "execution_count": 80,
   "id": "8627758f-1683-4bc0-b1eb-d6615c2f1e1e",
   "metadata": {},
   "outputs": [],
   "source": [
    "# df.head()"
   ]
  },
  {
   "cell_type": "markdown",
   "id": "8901bde6-63f9-4786-bff6-58440aecee3e",
   "metadata": {},
   "source": [
    "### ------------------- GESTION DE LA VARIABLE CIBLE (COÛT SINISTRE) ------------------------"
   ]
  },
  {
   "cell_type": "code",
   "execution_count": 190,
   "id": "74e7f98d-58d7-4f40-85d8-15141b4485e3",
   "metadata": {},
   "outputs": [],
   "source": [
    "#### BOXPLOT POUR VISUALISER LA DISTRIBUTION DE LA VARIABLE CIBLE "
   ]
  },
  {
   "cell_type": "code",
   "execution_count": 191,
   "id": "3c3c894f-b33c-4eb0-b4c6-be2a9dbf3f31",
   "metadata": {},
   "outputs": [],
   "source": [
    "# import matplotlib.pyplot as plt\n",
    "\n",
    "# # Création de la boîte à moustaches\n",
    "# # df = df[df['couts_sinistres']<5000000]\n",
    "\n",
    "# plt.boxplot(r['COUTS_SINISTRES']) \n",
    "\n",
    "# # Ajout de labels et titre\n",
    "# plt.title('Boîte à Moustaches des Valeurs')\n",
    "# plt.ylabel('Valeur')\n",
    "\n",
    "# # Affichage du graphique\n",
    "# plt.show() "
   ]
  },
  {
   "cell_type": "code",
   "execution_count": 192,
   "id": "5926ad59-d368-4b44-add0-2db83a2d6585",
   "metadata": {},
   "outputs": [],
   "source": [
    "# import matplotlib.pyplot as plt\n",
    "\n",
    "# # Création de la boîte à moustaches\n",
    "# # df = df[df['couts_sinistres']<5000000]\n",
    "# r = r[r['COUTS_SINISTRES']>0] \n",
    "# plt.boxplot(r['COUTS_SINISTRES']) \n",
    "\n",
    "# # Ajout de labels et titre\n",
    "# plt.title('Boîte à Moustaches des Valeurs')\n",
    "# plt.ylabel('COUTS_SINISTRES')\n",
    "\n",
    "# # Affichage du graphique\n",
    "# plt.show() "
   ]
  },
  {
   "cell_type": "code",
   "execution_count": 193,
   "id": "8fe23e12-02e5-4d0f-ac50-bfb45a073c5f",
   "metadata": {},
   "outputs": [],
   "source": [
    "### RESTRICTION DE L'ETUDE A DES COUTS DE SINSITRE PLUS REPRESENTATIVES DE NOS DONNEES "
   ]
  },
  {
   "cell_type": "code",
   "execution_count": 194,
   "id": "ccec8c9b-a753-43fb-bc98-ea2b6db06d35",
   "metadata": {},
   "outputs": [],
   "source": [
    "# df = r.reset_index(drop = True) \n",
    "# df = df[(df['COUTS_SINISTRES'] > 0) & (df['COUTS_SINISTRES'] <= 2000000)] "
   ]
  },
  {
   "cell_type": "code",
   "execution_count": 195,
   "id": "176e686e-4a82-4ebc-b0ef-24c21d54cee0",
   "metadata": {},
   "outputs": [],
   "source": [
    "# len(r)"
   ]
  },
  {
   "cell_type": "code",
   "execution_count": 196,
   "id": "3808774f-8615-40b7-a150-124a36a9dcbf",
   "metadata": {},
   "outputs": [],
   "source": [
    "# df = r.reset_index(drop = True) \n",
    "\n",
    "# # Calculer les bornes pour les valeurs extrêmes\n",
    "# Q1 = r['COUTS_SINISTRES'].quantile(0.25)\n",
    "# Q3 = r['COUTS_SINISTRES'].quantile(0.75)\n",
    "# IQR = Q3 - Q1\n",
    "# print(Q1)\n",
    "# print(Q3) \n",
    "# print(IQR) \n",
    "# # Définir les limites des moustaches\n",
    "# lower_bound = Q1 - 1.5 * IQR\n",
    "# upper_bound = Q3 + 1.5 * IQR\n",
    "\n",
    "# # Filtrer les valeurs extrêmes\n",
    "# df_filtered = r[r['COUTS_SINISTRES'] <= upper_bound] "
   ]
  },
  {
   "cell_type": "code",
   "execution_count": 197,
   "id": "7a83c487-01eb-4568-8754-3e05d931a6cc",
   "metadata": {},
   "outputs": [],
   "source": [
    "# max(df_filtered['COUTS_SINISTRES'])"
   ]
  },
  {
   "cell_type": "code",
   "execution_count": 198,
   "id": "9b07ae18-e241-429b-98ba-9c35e40e4f70",
   "metadata": {},
   "outputs": [],
   "source": [
    "# max(df_filtered['COUTS_SINISTRES'])\n",
    "\n",
    "# import matplotlib.pyplot as plt\n",
    "\n",
    "# # Création de la boîte à moustaches\n",
    "# # df = df[df['couts_sinistres']<5000000]\n",
    "# plt.boxplot(df_filtered['COUTS_SINISTRES']) \n",
    "\n",
    "# # Ajout de labels et titre\n",
    "# plt.title('Boîte à Moustaches des Valeurs')\n",
    "# plt.ylabel('Valeur')\n",
    "\n",
    "# # Affichage du graphique\n",
    "# plt.show()\n"
   ]
  },
  {
   "cell_type": "code",
   "execution_count": null,
   "id": "0149acad-4349-457a-b608-7c40ac93dc41",
   "metadata": {},
   "outputs": [],
   "source": []
  },
  {
   "cell_type": "markdown",
   "id": "dad9054b-835e-47bc-b3aa-5c1dbf3f19d8",
   "metadata": {},
   "source": [
    "### ----------------CRETAION DES CLASSES EN FONCTION DE LA VARIABLE CIBLE -----------"
   ]
  },
  {
   "cell_type": "code",
   "execution_count": 81,
   "id": "b2b5d351-0ac4-4138-8230-69ddf0497a84",
   "metadata": {},
   "outputs": [
    {
     "name": "stdout",
     "output_type": "stream",
     "text": [
      "171979.4\n",
      "309773.5\n",
      "736246.4\n"
     ]
    }
   ],
   "source": [
    "import numpy as np \n",
    "q1 = df[\"COUTS_SINISTRES\"].quantile(0.3)\n",
    "print(q1)\n",
    "q2 = df[\"COUTS_SINISTRES\"].quantile(0.5) \n",
    "print(q2) \n",
    "q3 = df[\"COUTS_SINISTRES\"].quantile(0.8) \n",
    "print(q3) \n",
    "\n",
    "conditions = [\n",
    "    (df[\"COUTS_SINISTRES\"] < q1),\n",
    "    (df[\"COUTS_SINISTRES\"] >= q1) & (df[\"COUTS_SINISTRES\"] < q2),\n",
    "    (df[\"COUTS_SINISTRES\"] >= q2) & (df[\"COUTS_SINISTRES\"] < q3),\n",
    "    (df[\"COUTS_SINISTRES\"] >= q3)\n",
    "]\n",
    "# Étiquettes correspondantes\n",
    "labels = [0, 1, 2, 3]\n",
    "# Ajout d'une nouvelle colonne contenant les catégories\n",
    "df[\"Label\"] = np.select(conditions, labels) \n",
    "# df.dropna(inplace=True) \n",
    "# df = df.reset_index(drop=True)                "
   ]
  },
  {
   "cell_type": "code",
   "execution_count": 82,
   "id": "8aed2783-c372-4d6a-a717-1a319646d420",
   "metadata": {},
   "outputs": [
    {
     "data": {
      "text/html": [
       "<div>\n",
       "<style scoped>\n",
       "    .dataframe tbody tr th:only-of-type {\n",
       "        vertical-align: middle;\n",
       "    }\n",
       "\n",
       "    .dataframe tbody tr th {\n",
       "        vertical-align: top;\n",
       "    }\n",
       "\n",
       "    .dataframe thead th {\n",
       "        text-align: right;\n",
       "    }\n",
       "</style>\n",
       "<table border=\"1\" class=\"dataframe\">\n",
       "  <thead>\n",
       "    <tr style=\"text-align: right;\">\n",
       "      <th></th>\n",
       "      <th>id</th>\n",
       "      <th>CODEINTE_NUMEPOLI_CODERISQ</th>\n",
       "      <th>MARQVEHI</th>\n",
       "      <th>file_uploaded_photo_1</th>\n",
       "      <th>file_uploaded_photo_2</th>\n",
       "      <th>file_uploaded_photo_3</th>\n",
       "      <th>file_uploaded_photo_4</th>\n",
       "      <th>COUTS_SINISTRES</th>\n",
       "      <th>CODEBRAN</th>\n",
       "      <th>material_damage</th>\n",
       "      <th>disaster_place</th>\n",
       "      <th>circonstance_detail</th>\n",
       "      <th>TYPEVEHI</th>\n",
       "      <th>PUISVEHI</th>\n",
       "      <th>NOMBPLAC</th>\n",
       "      <th>CODEGARA</th>\n",
       "      <th>CODECATE</th>\n",
       "      <th>valeur_neuve</th>\n",
       "      <th>valeur_venale</th>\n",
       "      <th>Label</th>\n",
       "    </tr>\n",
       "  </thead>\n",
       "  <tbody>\n",
       "    <tr>\n",
       "      <th>0</th>\n",
       "      <td>3335</td>\n",
       "      <td>2545 4020000323 1</td>\n",
       "      <td>0.0</td>\n",
       "      <td>1624448443-32020604.jpg</td>\n",
       "      <td>1624448443-87433583.jpg</td>\n",
       "      <td>1624448443-74760478.jpg</td>\n",
       "      <td>1624448443-26213914.jpg</td>\n",
       "      <td>1427432.0</td>\n",
       "      <td>4</td>\n",
       "      <td>PARE CHOC AVANT;  FEU AVANT GAUCHE</td>\n",
       "      <td>ROND POINT NOUVEAU CAMP RIVIERA</td>\n",
       "      <td>En abordant le rond-point  pour aller vers Fay...</td>\n",
       "      <td>2.0</td>\n",
       "      <td>8.0</td>\n",
       "      <td>5.0</td>\n",
       "      <td>0</td>\n",
       "      <td>402</td>\n",
       "      <td>26000000.0</td>\n",
       "      <td>15600000.0</td>\n",
       "      <td>3</td>\n",
       "    </tr>\n",
       "    <tr>\n",
       "      <th>1</th>\n",
       "      <td>910</td>\n",
       "      <td>4512 4010000303 1</td>\n",
       "      <td>17.0</td>\n",
       "      <td>1607334493-80227861.jpg</td>\n",
       "      <td>1607334493-94515954.jpg</td>\n",
       "      <td>1607334493-54232143.jpg</td>\n",
       "      <td>1607334493-18227108.jpg</td>\n",
       "      <td>100222.0</td>\n",
       "      <td>4</td>\n",
       "      <td>Pare choc arriéré gauche,</td>\n",
       "      <td>ABIDJAN MALL BONOUMIN</td>\n",
       "      <td>J'ai garé devant Abidjan Mall, le temps de fai...</td>\n",
       "      <td>0.0</td>\n",
       "      <td>11.0</td>\n",
       "      <td>5.0</td>\n",
       "      <td>0</td>\n",
       "      <td>401</td>\n",
       "      <td>80000000.0</td>\n",
       "      <td>70000000.0</td>\n",
       "      <td>0</td>\n",
       "    </tr>\n",
       "    <tr>\n",
       "      <th>2</th>\n",
       "      <td>911</td>\n",
       "      <td>4512 4010000303 1</td>\n",
       "      <td>17.0</td>\n",
       "      <td>1607335752-12266823.jpg</td>\n",
       "      <td>1607335752-65822172.jpg</td>\n",
       "      <td>1607335752-13609220.jpg</td>\n",
       "      <td>1607335752-15005390.jpg</td>\n",
       "      <td>92139.0</td>\n",
       "      <td>4</td>\n",
       "      <td>Aile avant droit</td>\n",
       "      <td>DANS MON GARAGE</td>\n",
       "      <td>Je rentrais ans mon garage et j'ai eu un accro...</td>\n",
       "      <td>0.0</td>\n",
       "      <td>11.0</td>\n",
       "      <td>5.0</td>\n",
       "      <td>0</td>\n",
       "      <td>401</td>\n",
       "      <td>80000000.0</td>\n",
       "      <td>70000000.0</td>\n",
       "      <td>0</td>\n",
       "    </tr>\n",
       "    <tr>\n",
       "      <th>3</th>\n",
       "      <td>1414</td>\n",
       "      <td>4512 4010000303 1</td>\n",
       "      <td>17.0</td>\n",
       "      <td>1611133119-58808296.jpg</td>\n",
       "      <td>1611133119-10797771.jpg</td>\n",
       "      <td>1611133119-75057443.jpg</td>\n",
       "      <td>1611133119-22830921.jpg</td>\n",
       "      <td>108305.0</td>\n",
       "      <td>4</td>\n",
       "      <td>Pare choc avant gauche</td>\n",
       "      <td>COCODY SAINT JEAN</td>\n",
       "      <td>Le véhicule assuré a été accrocher par un moto...</td>\n",
       "      <td>0.0</td>\n",
       "      <td>11.0</td>\n",
       "      <td>5.0</td>\n",
       "      <td>0</td>\n",
       "      <td>401</td>\n",
       "      <td>80000000.0</td>\n",
       "      <td>70000000.0</td>\n",
       "      <td>0</td>\n",
       "    </tr>\n",
       "    <tr>\n",
       "      <th>4</th>\n",
       "      <td>6601</td>\n",
       "      <td>2512 4120000022 1</td>\n",
       "      <td>10.0</td>\n",
       "      <td>1644490902-18239878.jpg</td>\n",
       "      <td>1644490902-69438451.jpg</td>\n",
       "      <td>1644490902-30070697.jpg</td>\n",
       "      <td>1644490902-95279149.jpg</td>\n",
       "      <td>265013.0</td>\n",
       "      <td>4</td>\n",
       "      <td>Portière avant droit Peinture</td>\n",
       "      <td>ANGRE 7E TRANCHE</td>\n",
       "      <td>Un véhicule tiers percute le véhicule de notre...</td>\n",
       "      <td>1.0</td>\n",
       "      <td>11.0</td>\n",
       "      <td>5.0</td>\n",
       "      <td>0</td>\n",
       "      <td>412</td>\n",
       "      <td>31950000.0</td>\n",
       "      <td>12000000.0</td>\n",
       "      <td>1</td>\n",
       "    </tr>\n",
       "  </tbody>\n",
       "</table>\n",
       "</div>"
      ],
      "text/plain": [
       "     id CODEINTE_NUMEPOLI_CODERISQ  MARQVEHI    file_uploaded_photo_1  \\\n",
       "0  3335          2545 4020000323 1       0.0  1624448443-32020604.jpg   \n",
       "1   910          4512 4010000303 1      17.0  1607334493-80227861.jpg   \n",
       "2   911          4512 4010000303 1      17.0  1607335752-12266823.jpg   \n",
       "3  1414          4512 4010000303 1      17.0  1611133119-58808296.jpg   \n",
       "4  6601          2512 4120000022 1      10.0  1644490902-18239878.jpg   \n",
       "\n",
       "     file_uploaded_photo_2    file_uploaded_photo_3    file_uploaded_photo_4  \\\n",
       "0  1624448443-87433583.jpg  1624448443-74760478.jpg  1624448443-26213914.jpg   \n",
       "1  1607334493-94515954.jpg  1607334493-54232143.jpg  1607334493-18227108.jpg   \n",
       "2  1607335752-65822172.jpg  1607335752-13609220.jpg  1607335752-15005390.jpg   \n",
       "3  1611133119-10797771.jpg  1611133119-75057443.jpg  1611133119-22830921.jpg   \n",
       "4  1644490902-69438451.jpg  1644490902-30070697.jpg  1644490902-95279149.jpg   \n",
       "\n",
       "   COUTS_SINISTRES  CODEBRAN                     material_damage  \\\n",
       "0        1427432.0         4  PARE CHOC AVANT;  FEU AVANT GAUCHE   \n",
       "1         100222.0         4           Pare choc arriéré gauche,   \n",
       "2          92139.0         4                    Aile avant droit   \n",
       "3         108305.0         4              Pare choc avant gauche   \n",
       "4         265013.0         4       Portière avant droit Peinture   \n",
       "\n",
       "                    disaster_place  \\\n",
       "0  ROND POINT NOUVEAU CAMP RIVIERA   \n",
       "1            ABIDJAN MALL BONOUMIN   \n",
       "2                  DANS MON GARAGE   \n",
       "3                COCODY SAINT JEAN   \n",
       "4                 ANGRE 7E TRANCHE   \n",
       "\n",
       "                                 circonstance_detail  TYPEVEHI  PUISVEHI  \\\n",
       "0  En abordant le rond-point  pour aller vers Fay...       2.0       8.0   \n",
       "1  J'ai garé devant Abidjan Mall, le temps de fai...       0.0      11.0   \n",
       "2  Je rentrais ans mon garage et j'ai eu un accro...       0.0      11.0   \n",
       "3  Le véhicule assuré a été accrocher par un moto...       0.0      11.0   \n",
       "4  Un véhicule tiers percute le véhicule de notre...       1.0      11.0   \n",
       "\n",
       "   NOMBPLAC  CODEGARA  CODECATE  valeur_neuve  valeur_venale  Label  \n",
       "0       5.0         0       402    26000000.0     15600000.0      3  \n",
       "1       5.0         0       401    80000000.0     70000000.0      0  \n",
       "2       5.0         0       401    80000000.0     70000000.0      0  \n",
       "3       5.0         0       401    80000000.0     70000000.0      0  \n",
       "4       5.0         0       412    31950000.0     12000000.0      1  "
      ]
     },
     "execution_count": 82,
     "metadata": {},
     "output_type": "execute_result"
    }
   ],
   "source": [
    "df.head()"
   ]
  },
  {
   "cell_type": "code",
   "execution_count": 83,
   "id": "c924744b-2cb8-4a57-ae8f-f157ff63a395",
   "metadata": {},
   "outputs": [
    {
     "name": "stdout",
     "output_type": "stream",
     "text": [
      "1883012.0\n"
     ]
    },
    {
     "data": {
      "image/png": "[encoded data removed]",
      "text/plain": [
       "<Figure size 640x480 with 1 Axes>"
      ]
     },
     "metadata": {},
     "output_type": "display_data"
    }
   ],
   "source": [
    "print(max(df['COUTS_SINISTRES']))\n",
    "\n",
    "import matplotlib.pyplot as plt\n",
    "\n",
    "plt.boxplot(df['Label']) \n",
    "\n",
    "# Ajout de labels et titre\n",
    "plt.title('Boîte à Moustaches des Valeurs')\n",
    "plt.ylabel('Valeur')\n",
    "\n",
    "# Affichage du graphique\n",
    "plt.show() "
   ]
  },
  {
   "cell_type": "markdown",
   "id": "0cb48beb-2ef5-4592-bd22-fb20b7ed8033",
   "metadata": {},
   "source": [
    "#### CLASSIFICATION NON SUPERVISEE POUR DETECTER LES CLASSES NATURELLES DANS NOS DONNEES "
   ]
  },
  {
   "cell_type": "markdown",
   "id": "e381efdf-7e28-4857-8604-69f3701af3cc",
   "metadata": {},
   "source": [
    "######  CHOIX DU BON NOMBRE DE CLASSES  "
   ]
  },
  {
   "cell_type": "code",
   "execution_count": 84,
   "id": "ee0a54e8-b082-4f5c-acc6-dfb7d287b6cb",
   "metadata": {},
   "outputs": [
    {
     "data": {
      "image/png": "[encoded data removed]",
      "text/plain": [
       "<Figure size 640x480 with 1 Axes>"
      ]
     },
     "metadata": {},
     "output_type": "display_data"
    }
   ],
   "source": [
    "import pandas as pd\n",
    "import numpy as np\n",
    "import matplotlib.pyplot as plt\n",
    "from sklearn.cluster import KMeans\n",
    "\n",
    "\n",
    "# Convertir les données en tableau numpy et les transformer en matrice 2D\n",
    "X = df['COUTS_SINISTRES'].values.reshape(-1, 1)\n",
    "\n",
    "# Appliquer K-means pour différents nombres de clusters et calculer l'inertie\n",
    "inertia = []\n",
    "K = range(1, 11)\n",
    "for k in K:\n",
    "    kmeans = KMeans(n_clusters=k, random_state=42)\n",
    "    kmeans.fit(X)\n",
    "    inertia.append(kmeans.inertia_)\n",
    "\n",
    "# Tracer le graphique du critère du coude\n",
    "plt.plot(K, inertia, 'bo-')\n",
    "plt.xlabel('Nombre de clusters')\n",
    "plt.ylabel('Inertie')\n",
    "plt.title('Méthode du Coude pour déterminer le nombre optimal de clusters')\n",
    "plt.show() "
   ]
  },
  {
   "cell_type": "code",
   "execution_count": null,
   "id": "de0f4618-9107-4840-9591-a1dbcef47bf5",
   "metadata": {},
   "outputs": [],
   "source": []
  },
  {
   "cell_type": "markdown",
   "id": "22f08b0f-15f4-43c5-8584-d3576e662b3a",
   "metadata": {},
   "source": [
    "###### CHOIX DE 4 CLASSES SELON LE CRITERE DE COUDE ET VISUALISATION DES CLASSES "
   ]
  },
  {
   "cell_type": "code",
   "execution_count": 85,
   "id": "f29daf77-b190-4c0d-9ef4-76461767cfb8",
   "metadata": {},
   "outputs": [
    {
     "data": {
      "image/png": "[encoded data removed]",
      "text/plain": [
       "<Figure size 640x480 with 1 Axes>"
      ]
     },
     "metadata": {},
     "output_type": "display_data"
    }
   ],
   "source": [
    "import pandas as pd\n",
    "import numpy as np\n",
    "import matplotlib.pyplot as plt\n",
    "from sklearn.cluster import KMeans\n",
    "\n",
    "X = df['COUTS_SINISTRES'].values.reshape(-1, 1)\n",
    "\n",
    "# Nombre optimal de clusters déterminé précédemment\n",
    "optimal_clusters = 4\n",
    "\n",
    "# Effectuer le clustering final avec le nombre optimal de clusters\n",
    "kmeans = KMeans(n_clusters=optimal_clusters, random_state=42)\n",
    "kmeans.fit(X)\n",
    "\n",
    "# Ajouter les étiquettes de clusters au DataFrame\n",
    "df['cluster'] = kmeans.labels_\n",
    "\n",
    "# Visualiser les clusters\n",
    "plt.scatter(df['COUTS_SINISTRES'], np.zeros_like(df['COUTS_SINISTRES']), c=df['cluster'], cmap='viridis', marker='o')\n",
    "plt.xlabel('COUTS_SINISTRES')\n",
    "plt.title('Résultats du clustering K-means sur une seule variable')\n",
    "plt.show() "
   ]
  },
  {
   "cell_type": "markdown",
   "id": "1cb7f624-9316-496f-a3ef-724ff544516d",
   "metadata": {},
   "source": [
    "###### REPARTITION DES CLUSTERS PAR CLASSES "
   ]
  },
  {
   "cell_type": "code",
   "execution_count": 86,
   "id": "a65bb794-636f-4770-94a2-f162d1597b7c",
   "metadata": {},
   "outputs": [
    {
     "name": "stdout",
     "output_type": "stream",
     "text": [
      "490.0 333903.0\n",
      "726006.0 1236653.0\n",
      "334318.0 725651.0\n",
      "1237675.0 1883012.0\n"
     ]
    }
   ],
   "source": [
    "print(min(df[df[\"cluster\"]==0][\"COUTS_SINISTRES\"]), max(df[df[\"cluster\"]==0][\"COUTS_SINISTRES\"]))\n",
    "print(min(df[df[\"cluster\"]==1][\"COUTS_SINISTRES\"]), max(df[df[\"cluster\"]==1][\"COUTS_SINISTRES\"])) \n",
    "print(min(df[df[\"cluster\"]==2][\"COUTS_SINISTRES\"]), max(df[df[\"cluster\"]==2][\"COUTS_SINISTRES\"]))\n",
    "print(min(df[df[\"cluster\"]==3][\"COUTS_SINISTRES\"]), max(df[df[\"cluster\"]==3][\"COUTS_SINISTRES\"])) "
   ]
  },
  {
   "cell_type": "code",
   "execution_count": 87,
   "id": "779945b4-97b5-4188-8f95-69b80afdba52",
   "metadata": {},
   "outputs": [],
   "source": [
    "df[\"cluster\"] = df[\"cluster\"].astype(str) \n",
    "conditions = {'0':0,'1':2, '2':1,'3':3} \n",
    "df[\"cluster\"] = df[\"cluster\"].map(conditions)"
   ]
  },
  {
   "cell_type": "code",
   "execution_count": 88,
   "id": "0b9f7774-6c43-4ef6-843e-c8d5c7975550",
   "metadata": {},
   "outputs": [],
   "source": [
    "# df[\"cluster\"] = df[\"cluster\"].astype(str) \n",
    "# conditions = {'0':0,'1':2, '2':1} \n",
    "# df[\"cluster\"] = df[\"cluster\"].map(conditions) "
   ]
  },
  {
   "cell_type": "code",
   "execution_count": 89,
   "id": "e405478b-350b-44a4-894e-83fc267c7b21",
   "metadata": {},
   "outputs": [
    {
     "name": "stdout",
     "output_type": "stream",
     "text": [
      "490.0 333903.0\n",
      "334318.0 725651.0\n",
      "726006.0 1236653.0\n",
      "1237675.0 1883012.0\n"
     ]
    }
   ],
   "source": [
    "print(min(df[df[\"cluster\"]==0][\"COUTS_SINISTRES\"]), max(df[df[\"cluster\"]==0][\"COUTS_SINISTRES\"]))\n",
    "print(min(df[df[\"cluster\"]==1][\"COUTS_SINISTRES\"]), max(df[df[\"cluster\"]==1][\"COUTS_SINISTRES\"]))\n",
    "print(min(df[df[\"cluster\"]==2][\"COUTS_SINISTRES\"]), max(df[df[\"cluster\"]==2][\"COUTS_SINISTRES\"]))\n",
    "print(min(df[df[\"cluster\"]==3][\"COUTS_SINISTRES\"]), max(df[df[\"cluster\"]==3][\"COUTS_SINISTRES\"]))"
   ]
  },
  {
   "cell_type": "code",
   "execution_count": 226,
   "id": "91fc492f-459a-4d64-8591-c5d0623edf80",
   "metadata": {},
   "outputs": [],
   "source": [
    "# df.to_csv('/opt/spark-apps/programs/Gohou/Data/Tabes/New_trans/df_global.csv') "
   ]
  },
  {
   "cell_type": "code",
   "execution_count": 100,
   "id": "759f7190-b676-4e5b-88c1-91a87e96d909",
   "metadata": {},
   "outputs": [],
   "source": [
    "# df.head()"
   ]
  },
  {
   "cell_type": "code",
   "execution_count": 93,
   "id": "2fd54791-b430-4450-826c-6a8d024bbf0e",
   "metadata": {},
   "outputs": [],
   "source": [
    "# df.to_csv('/opt/spark-apps/programs/Gohou/Data/Tabes/New_trans/df_global.csv') "
   ]
  },
  {
   "cell_type": "code",
   "execution_count": 95,
   "id": "582a5a96-038d-493e-b412-35d198169c25",
   "metadata": {},
   "outputs": [],
   "source": [
    "data = pd.read_csv('/opt/spark-apps/programs/Gohou/Data/Tabes/New_trans/df_global.csv')"
   ]
  },
  {
   "cell_type": "code",
   "execution_count": 96,
   "id": "23362cac-e651-400f-84cb-31c3eb7622e0",
   "metadata": {},
   "outputs": [],
   "source": [
    "data = data.drop('Unnamed: 0', axis =1)\n",
    "df = data.copy() "
   ]
  },
  {
   "cell_type": "code",
   "execution_count": 98,
   "id": "d9e05a58-53f5-491e-9c61-1bebd8d08482",
   "metadata": {},
   "outputs": [],
   "source": [
    "# df.head()"
   ]
  },
  {
   "cell_type": "code",
   "execution_count": 99,
   "id": "9dad7311-1185-4a16-b1de-6241f3a1eeea",
   "metadata": {},
   "outputs": [],
   "source": [
    "# df.head()"
   ]
  },
  {
   "cell_type": "code",
   "execution_count": 234,
   "id": "80bea2d0-2edf-44c2-a846-c0c074e0eaaa",
   "metadata": {},
   "outputs": [
    {
     "data": {
      "text/plain": [
       "cluster\n",
       "0    3459\n",
       "1    1809\n",
       "2     866\n",
       "3     484\n",
       "Name: count, dtype: int64"
      ]
     },
     "execution_count": 234,
     "metadata": {},
     "output_type": "execute_result"
    }
   ],
   "source": [
    "df[\"cluster\"].value_counts() "
   ]
  },
  {
   "cell_type": "code",
   "execution_count": 235,
   "id": "33e301df-64e1-4fd5-a373-fa2a15ee8ca5",
   "metadata": {},
   "outputs": [
    {
     "data": {
      "text/plain": [
       "count    6.618000e+03\n",
       "mean     4.612242e+05\n",
       "std      4.105201e+05\n",
       "min      4.900000e+02\n",
       "25%      1.600000e+05\n",
       "50%      3.097735e+05\n",
       "75%      6.245062e+05\n",
       "max      1.883012e+06\n",
       "Name: COUTS_SINISTRES, dtype: float64"
      ]
     },
     "execution_count": 235,
     "metadata": {},
     "output_type": "execute_result"
    }
   ],
   "source": [
    "df['COUTS_SINISTRES'].describe() "
   ]
  },
  {
   "cell_type": "code",
   "execution_count": 236,
   "id": "b7880fb5-b902-40dc-8214-3abd651ef727",
   "metadata": {},
   "outputs": [
    {
     "data": {
      "image/png": "[encoded data removed]",
      "text/plain": [
       "<Figure size 640x480 with 1 Axes>"
      ]
     },
     "metadata": {},
     "output_type": "display_data"
    }
   ],
   "source": [
    "import pandas as pd\n",
    "import seaborn as sns\n",
    "import matplotlib.pyplot as plt\n",
    "\n",
    "# Création des boîtes à moustaches pour chaque groupe\n",
    "sns.boxplot(x='cluster', y= df['COUTS_SINISTRES'], data= df)\n",
    "\n",
    "# Ajout de labels et titre\n",
    "plt.title('Boîtes à Moustaches des Scores par Groupe')\n",
    "plt.xlabel('Groupe')\n",
    "plt.ylabel('Score')\n",
    "\n",
    "# Affichage du graphique \n",
    "plt.show()"
   ]
  },
  {
   "cell_type": "code",
   "execution_count": 237,
   "id": "7268c5ef-3789-4e45-95a6-ec5701bbf00e",
   "metadata": {},
   "outputs": [
    {
     "data": {
      "image/png": "[encoded data removed]",
      "text/plain": [
       "<Figure size 640x480 with 1 Axes>"
      ]
     },
     "metadata": {},
     "output_type": "display_data"
    }
   ],
   "source": [
    "import pandas as pd\n",
    "import seaborn as sns\n",
    "import matplotlib.pyplot as plt\n",
    "\n",
    "# Création des boîtes à moustaches pour chaque groupe\n",
    "sns.boxplot(x='Label', y=df['COUTS_SINISTRES'], data=df)\n",
    "\n",
    "# Ajout de labels et titre\n",
    "plt.title('Boîtes à Moustaches des Scores par Groupe')\n",
    "plt.xlabel('Groupe')\n",
    "plt.ylabel('Score')\n",
    "\n",
    "# Affichage du graphique \n",
    "plt.show()"
   ]
  },
  {
   "cell_type": "code",
   "execution_count": 238,
   "id": "0686a6d4-138c-418d-b658-af9923b0f269",
   "metadata": {},
   "outputs": [
    {
     "data": {
      "text/plain": [
       "Text(0.5, 1.0, 'Répartition des Données selon les Labels')"
      ]
     },
     "execution_count": 238,
     "metadata": {},
     "output_type": "execute_result"
    },
    {
     "data": {
      "image/png": "[encoded data removed]",
      "text/plain": [
       "<Figure size 800x800 with 1 Axes>"
      ]
     },
     "metadata": {},
     "output_type": "display_data"
    }
   ],
   "source": [
    "label_counts = df['cluster'].value_counts()\n",
    "\n",
    "# Créer le diagramme circulaire \n",
    "plt.figure(figsize=(8, 8))\n",
    "plt.pie(label_counts, labels=label_counts.index, autopct='%1.1f%%', startangle=140)\n",
    "\n",
    "# Assurer que le diagramme est un cercle\n",
    "plt.axis('equal')\n",
    "\n",
    "# Ajouter un titre\n",
    "plt.title(\"Répartition des Données selon les Labels\")"
   ]
  },
  {
   "cell_type": "code",
   "execution_count": 239,
   "id": "df2ec983-c894-4936-8f46-47072985f5fe",
   "metadata": {},
   "outputs": [
    {
     "name": "stdout",
     "output_type": "stream",
     "text": [
      "1883012.0 490.0\n"
     ]
    }
   ],
   "source": [
    "print(max(df[\"COUTS_SINISTRES\"]), min(df[\"COUTS_SINISTRES\"]))"
   ]
  },
  {
   "cell_type": "code",
   "execution_count": 240,
   "id": "2d4225fa-7fa7-49d7-8584-3d0f03058537",
   "metadata": {},
   "outputs": [
    {
     "name": "stdout",
     "output_type": "stream",
     "text": [
      "264\n"
     ]
    }
   ],
   "source": [
    "from sklearn.model_selection import train_test_split\n",
    "df2 = df.copy() \n",
    "df1, df_val = train_test_split(df2, test_size=0.96, random_state=42, stratify= df2['cluster'])\n",
    "print(len(df1)) "
   ]
  },
  {
   "cell_type": "code",
   "execution_count": null,
   "id": "4c60303f-637c-4db8-98ce-e1b6703aae02",
   "metadata": {},
   "outputs": [],
   "source": []
  },
  {
   "cell_type": "code",
   "execution_count": 241,
   "id": "a680bd1f-7e8e-4723-ae99-e9f4a6cce55c",
   "metadata": {},
   "outputs": [],
   "source": [
    "def split_dataframe_data(dataset, batch_size):\n",
    "    dfs = []\n",
    "    for i in range(0, len(dataset), batch_size):\n",
    "        df = dataset.iloc[i:i + batch_size]\n",
    "        dfs.append(df) \n",
    "    return dfs\n",
    "dff = split_dataframe_data(df2, 100) "
   ]
  },
  {
   "cell_type": "markdown",
   "id": "e1d63af9-2331-45ef-8668-3a5a02d277ba",
   "metadata": {},
   "source": [
    "### --------------------- REMPLACER LES ADRESSES PAR LES VRAIES IMAGES ------------------- "
   ]
  },
  {
   "cell_type": "code",
   "execution_count": 242,
   "id": "b2e5d0c7-5e55-49a0-bfa1-9509d86602ac",
   "metadata": {},
   "outputs": [
    {
     "name": "stdout",
     "output_type": "stream",
     "text": [
      "Memory usage before: 2833.06 MB\n"
     ]
    }
   ],
   "source": [
    "print(f\"Memory usage before: {get_memory_usage() / (1024 * 1024):.2f} MB\")\n",
    "\n",
    "import gc\n",
    "import os\n",
    "from PIL import Image\n",
    "\n",
    "def split_dataframe_into_batches(dataset, batch_size):\n",
    "    for i in range(0, len(dataset), batch_size):\n",
    "        yield dataset.iloc[i:i + batch_size]\n",
    "\n",
    "def process_image(x):  \n",
    "    full_path = os.path.join(dossier, x) if isinstance(x, str) else x\n",
    "    if full_path in chemins and full_path not in treated_paths:\n",
    "        treated_paths.add(full_path) \n",
    "        try:\n",
    "            if os.path.exists(full_path):\n",
    "                with Image.open(full_path) as img:  # Use 'with' to ensure the image is closed after processing\n",
    "                    return img.copy()  # Return a copy to keep the image after the 'with' block\n",
    "            else:\n",
    "                print(f\"Image not found: {full_path}\")\n",
    "                return np.nan\n",
    "        except Exception as e:\n",
    "            print(f\"Error loading image {full_path}: {e}\")\n",
    "            return np.nan\n",
    "    else:\n",
    "        return np.nan \n",
    "treated_paths = set() \n",
    "\n",
    "# batch_df2 = pd.DataFrame() \n",
    "# for batch_df in split_dataframe_into_batches(dff[45], 10):  # Adjust batch size if necessary\n",
    "#     for i in range(1,5):\n",
    "#         batch_df.loc[:,f'file_uploaded_photo_{i}'] = batch_df.loc[:,f'file_uploaded_photo_{i}'].apply(process_image)\n",
    "#     batch_df2 = pd.concat([batch_df2, batch_df], ignore_index=True)\n",
    "#     del batch_df \n",
    "#     gc.collect()  \n",
    "\n",
    "# print(f\"Memory usage after: {get_memory_usage() / (1024 * 1024):.2f} MB\")"
   ]
  },
  {
   "cell_type": "markdown",
   "id": "b9412d4e-50ff-4c0e-b1c1-d75088ef0265",
   "metadata": {},
   "source": [
    "### ---------------------------------  PARALELLISATION  ------------------------------"
   ]
  },
  {
   "cell_type": "code",
   "execution_count": 244,
   "id": "f5a2e873-f099-4c64-874a-834d501099cb",
   "metadata": {},
   "outputs": [],
   "source": [
    "# print(len(batch_df2))  \n",
    "# batch_df2.dropna(inplace=True)\n",
    "# batch_df2 = batch_df2.reset_index(drop=True)\n",
    "# print(len(batch_df2))"
   ]
  },
  {
   "cell_type": "markdown",
   "id": "5bcac31a-25db-4693-845f-c61ab48f73db",
   "metadata": {},
   "source": [
    "##### EXTRACTION DES CARACTERISTIQUES DANS LES IMAGES AVEC UN RESEAU DE NEURONE CONVOLUTIONNEL "
   ]
  },
  {
   "cell_type": "code",
   "execution_count": 245,
   "id": "5e07065f-721d-4288-88e7-dce44af0c42d",
   "metadata": {
    "scrolled": true
   },
   "outputs": [
    {
     "name": "stdout",
     "output_type": "stream",
     "text": [
      "Memory usage before: 2833.06 MB\n"
     ]
    }
   ],
   "source": [
    "print(f\"Memory usage before: {get_memory_usage() / (1024 * 1024):.2f} MB\")\n",
    "from torchvision import models, transforms\n",
    "from PIL import Image\n",
    "import torch.nn as nn\n",
    "\n",
    "resnet_model = models.resnet18(weights='ResNet18_Weights.IMAGENET1K_V1')\n",
    "resnet_model.fc = nn.Identity()  # Remove the final classification layer\n",
    "\n",
    "image_transforms = transforms.Compose([ \n",
    "    transforms.Resize((224, 224)),\n",
    "    transforms.Grayscale(num_output_channels=3),\n",
    "    transforms.ToTensor(),\n",
    "    transforms.Normalize(mean=[0.485, 0.456, 0.406], std=[0.229, 0.224, 0.225])\n",
    "])  \n",
    "\n",
    "def image_to_features(col): \n",
    "    image = image_transforms(col).unsqueeze(0)\n",
    "    features = resnet_model(image) \n",
    "    return features.squeeze(0)\n",
    "\n",
    "# batch_df2['feature_images'] = batch_df2['file_uploaded_photo_1'].apply(image_to_features)\n",
    "\n",
    "# batch_df3 = pd.DataFrame() \n",
    "# for batch_df in split_dataframe_into_batches(batch_df2, 10):  # Adjust batch size if necessary\n",
    "#     for i in range(1,5):\n",
    "#         batch_df.loc[:, f'feature_images_{i}'] = batch_df.loc[:,f'file_uploaded_photo_{i}'].apply(image_to_features) \n",
    "#     batch_df3 = pd.concat([batch_df3, batch_df], ignore_index=True)\n",
    "#     del batch_df \n",
    "#     gc.collect()  \n",
    "# print(f\"Memory usage after: {get_memory_usage() / (1024 * 1024):.2f} MB\")"
   ]
  },
  {
   "cell_type": "markdown",
   "id": "d16f44d9-e9bf-48f8-b3ec-8e233d3517ba",
   "metadata": {},
   "source": [
    "### EXTRACTION DES CARACTERISTIQUES DANS LES IMAGES AVEC UN TRANSFORMER "
   ]
  },
  {
   "cell_type": "code",
   "execution_count": 246,
   "id": "833a292e-fb41-4e81-b4f2-2af3a8f522ef",
   "metadata": {},
   "outputs": [],
   "source": [
    "# !pip install transformers"
   ]
  },
  {
   "cell_type": "code",
   "execution_count": 247,
   "id": "4cce179f-6a0e-439b-9001-91d1cfe8111c",
   "metadata": {},
   "outputs": [
    {
     "name": "stdout",
     "output_type": "stream",
     "text": [
      "Memory usage before: 2837.74 MB\n"
     ]
    }
   ],
   "source": [
    "print(f\"Memory usage before: {get_memory_usage() / (1024 * 1024):.2f} MB\")\n",
    "import logging\n",
    "from transformers import logging as transformers_logging\n",
    "from transformers import BertTokenizer, BertModel\n",
    "import torch\n",
    "\n",
    "# Configurer le niveau de logging pour ignorer les avertissements\n",
    "transformers_logging.set_verbosity_error() \n",
    " \n",
    "device = torch.device('cuda' if torch.cuda.is_available() else 'cpu')\n",
    "tokenizer = BertTokenizer.from_pretrained('bert-base-uncased')\n",
    "bert_model = BertModel.from_pretrained('bert-base-uncased').to(device) \n",
    "# bert_model = BertModel.from_pretrained(\"bert-base-uncased\", torch_dtype=torch.float16, attn_implementation=\"sdpa\")\n",
    "\n",
    "def text_to_features(text): \n",
    "    inputs = tokenizer(text, return_tensors='pt', padding=True, truncation=True, max_length=128)\n",
    "    outputs = bert_model(**inputs)\n",
    "    return outputs.last_hidden_state.mean(dim=1).squeeze(0)  # squeeze(0) pour revoir la dimension\n",
    "\n",
    "# batch_df3['description'] = batch_df3['material_damage'].apply(text_to_features) \n",
    "\n",
    "# batch_df4 = pd.DataFrame() \n",
    "# for batch_df in split_dataframe_into_batches(batch_df3, 10):  # Adjust batch size if necessary\n",
    "#     batch_df.loc[:,'material_damage'] = batch_df.loc[:,'material_damage'].apply(text_to_features)\n",
    "#     batch_df.loc[:,'circonstance_detail'] = batch_df.loc[:,'circonstance_detail'].apply(text_to_features)\n",
    "#     batch_df.loc[:,'disaster_place'] = batch_df.loc[:,'disaster_place'].apply(text_to_features)\n",
    "#     batch_df4 = pd.concat([batch_df4, batch_df], ignore_index=True)\n",
    "#     del batch_df \n",
    "#     gc.collect()  \n",
    "# print(f\"Memory usage after: {get_memory_usage() / (1024 * 1024):.2f} MB\")"
   ]
  },
  {
   "cell_type": "code",
   "execution_count": 248,
   "id": "053b9592-a03c-460e-9a6b-c768b935e67a",
   "metadata": {},
   "outputs": [],
   "source": [
    "# def case(df1, batch_size, path): \n",
    "#     batch_df4 = pd.DataFrame() \n",
    "#     for batch_df in split_dataframe_into_batches(df1, batch_size):  # Adjust batch size if necessary\n",
    "#         for i in range(1,5):\n",
    "#             batch_df.loc[:,f'file_uploaded_photo_{i}'] = batch_df.loc[:,f'file_uploaded_photo_{i}'].apply(process_image)\n",
    "#             batch_df.loc[:, f'feature_images_{i}'] = batch_df.loc[:,f'file_uploaded_photo_{i}'].apply(image_to_features)\n",
    "#             batch_df.loc[:,'material_damage'] = batch_df.loc[:,'material_damage'].apply(text_to_features)\n",
    "#             batch_df.loc[:,'circonstance_detail'] = batch_df.loc[:,'circonstance_detail'].apply(text_to_features)\n",
    "#             batch_df.loc[:,'disaster_place'] = batch_df.loc[:,'disaster_place'].apply(text_to_features)\n",
    "#         batch_df4 = pd.concat([batch_df4, batch_df], ignore_index=True)\n",
    "#         del batch_df\n",
    "#         gc.collect()\n",
    "\n",
    "#         # Supposons que vous avez déjà extrait vos caractéristiques d'images et de textes\n",
    "#         X_images_np_1 = np.array([feat.detach().numpy() for feat in batch_df4['feature_images_1']])  # Convertir en tableau NumPy\n",
    "#         X_images_np_2 = np.array([feat.detach().numpy() for feat in batch_df4['feature_images_2']])\n",
    "#         X_images_np_3 = np.array([feat.detach().numpy() for feat in batch_df4['feature_images_3']])\n",
    "#         X_images_np_4 = np.array([feat.detach().numpy() for feat in batch_df4['feature_images_4']])\n",
    "#         X_texts_np_1 = np.array([feat.detach().numpy() for feat in batch_df4['material_damage']])  # Convertir en tableau NumPy\n",
    "#         X_texts_np_2 = np.array([feat.detach().numpy() for feat in batch_df4['circonstance_detail']]) \n",
    "#         X_texts_np_3 = np.array([feat.detach().numpy() for feat in batch_df4['disaster_place']]) \n",
    "#         X_marq_np = batch_df4['MARQVEHI'].to_numpy()\n",
    "#         X_typevehi_np = batch_df4['TYPEVEHI'].to_numpy()\n",
    "#         X_puivehi_np = batch_df4['PUISVEHI'].to_numpy()\n",
    "#         X_nbreplace_np = batch_df4['NOMBPLAC'].to_numpy()\n",
    "#         X_codegara_np = batch_df4['CODEGARA'].to_numpy()\n",
    "#         X_codecat_np = batch_df4['CODECATE'].to_numpy()\n",
    "#         X_codebran_np = batch_df4['CODEBRAN'].to_numpy()\n",
    "#         X_capri1_np = batch_df4['valeur_neuve'].to_numpy()\n",
    "#         X_capri2_np = batch_df4['valeur_venale'].to_numpy() \n",
    "\n",
    "\n",
    "#         # Redimensionner les tableaux si nécessaire\n",
    "#         X_images_np_1 = X_images_np_1.reshape(len(X_images_np_1), -1) # Redimensionner en 2D si c'est actuellement 1D\n",
    "#         X_images_np_2 = X_images_np_2.reshape(len(X_images_np_2), -1)\n",
    "#         X_images_np_3 = X_images_np_3.reshape(len(X_images_np_3), -1)\n",
    "#         X_images_np_4 = X_images_np_4.reshape(len(X_images_np_4), -1)\n",
    "#         X_texts_np_1 = X_texts_np_1.reshape(len(X_texts_np_1), -1) # Redimensionner en 2D si c'est actuellement 1D\n",
    "#         X_texts_np_2 = X_texts_np_2.reshape(len(X_texts_np_2), -1)\n",
    "#         X_texts_np_3 = X_texts_np_3.reshape(len(X_texts_np_3), -1) \n",
    "#         X_marq_np = X_marq_np.reshape(len(X_marq_np), -1)  # Redimensionner en 2D si c'est actuellement 1D\n",
    "#         X_typevehi_np = X_typevehi_np.reshape(len(X_typevehi_np), -1)\n",
    "#         X_puivehi_np = X_puivehi_np.reshape(len(X_puivehi_np), -1)  # Redimensionner en 2D si c'est actuellement 1D\n",
    "#         X_nbreplace_np = X_nbreplace_np.reshape(len(X_nbreplace_np), -1)\n",
    "#         X_codegara_np = X_codegara_np.reshape(len(X_codegara_np), -1)  # Redimensionner en 2D si c'est actuellement 1D\n",
    "#         X_codecat_np = X_codecat_np.reshape(len(X_codecat_np), -1)\n",
    "#         X_codebran_np = X_codebran_np.reshape(len(X_codebran_np), -1)\n",
    "#         X_capri1_np = X_capri1_np.reshape(len(X_capri1_np), -1)\n",
    "#         X_capri2_np = X_capri2_np.reshape(len(X_capri2_np), -1)\n",
    "#         X_combined = np.concatenate((X_texts_np_1, X_texts_np_2, X_texts_np_3, X_images_np_1, X_images_np_2, X_images_np_3, X_images_np_4, X_marq_np, X_typevehi_np, X_puivehi_np, X_nbreplace_np, X_codegara_np, X_codecat_np, X_codebran_np, X_capri1_np, X_capri2_np), axis=1) #X_capri2_np,  X_texts_np_3, X_images_np_4, X_texts_np_2, ,X_images_np_3 \n",
    "#         columns_names = [f'feature_{i+1}' for i in range(X_combined.shape[1])]\n",
    "#         X1_combined = pd.DataFrame(X_combined, columns = columns_names)\n",
    "#         # Labels ou cibles\n",
    "#         y = batch_df4['cluster'].values                    \n",
    "#         df3 = pd.concat([X1_combined, batch_df4['cluster']], axis =1) \n",
    "#         df3.to_csv(path)\n",
    "#         print(f'------------{path} chargé avec succes -------------')"
   ]
  },
  {
   "cell_type": "code",
   "execution_count": 1,
   "id": "6b77185b-2281-46af-89f1-37aac2322f4f",
   "metadata": {},
   "outputs": [],
   "source": [
    "# import threading\n",
    "# out = pd.DataFrame() \n",
    "# threads = []\n",
    "# for i, df in enumerate(dff):\n",
    "#     try:\n",
    "#         thread = threading.Thread(target = case, args =(df, 10, f'/opt/spark-apps/programs/Gohou/Data/Tabes/New_trans/df_{i}.csv')) \n",
    "#         threads.append(thread)\n",
    "#         thread.start()\n",
    "#     except Exception as e:\n",
    "#         print(f\"Error in thread processing {path}: {str(e)}\")µ"
   ]
  },
  {
   "cell_type": "code",
   "execution_count": null,
   "id": "b91ddf7b-7059-4ef4-9ad2-96ddbced99b2",
   "metadata": {},
   "outputs": [],
   "source": [
    "# for thread in threads:\n",
    "#     thread.join() \n",
    "# print(out) "
   ]
  },
  {
   "cell_type": "markdown",
   "id": "11b138ac-a06a-4c2b-a05d-5b5b511be9d0",
   "metadata": {},
   "source": [
    "###### TRANSFORMER TOUTES LES COLONNES EN TABLEAU NUMPY AFIN QU'ILS SOIENT COMPATIBLE AVEC LES CARACTERISTIQUES DES IMAGES ET DES TEXTES"
   ]
  },
  {
   "cell_type": "code",
   "execution_count": 83,
   "id": "727bee76-6231-4315-8622-d209c5462e33",
   "metadata": {},
   "outputs": [],
   "source": [
    "import numpy as np\n",
    "from sklearn.ensemble import RandomForestClassifier\n",
    "\n",
    "# Supposons que vous avez déjà extrait vos caractéristiques d'images et de textes\n",
    "X_images_np_1 = np.array([feat.detach().numpy() for feat in batch_df4['feature_images_1']])  # Convertir en tableau NumPy\n",
    "X_images_np_2 = np.array([feat.detach().numpy() for feat in batch_df4['feature_images_2']])\n",
    "X_images_np_3 = np.array([feat.detach().numpy() for feat in batch_df4['feature_images_3']])\n",
    "X_images_np_4 = np.array([feat.detach().numpy() for feat in batch_df4['feature_images_4']])\n",
    "X_texts_np_1 = np.array([feat.detach().numpy() for feat in batch_df4['material_damage']])  # Convertir en tableau NumPy\n",
    "X_texts_np_2 = np.array([feat.detach().numpy() for feat in batch_df4['circonstance_detail']]) \n",
    "X_texts_np_3 = np.array([feat.detach().numpy() for feat in batch_df4['disaster_place']]) \n",
    "X_marq_np = batch_df4['MARQVEHI'].to_numpy()\n",
    "X_typevehi_np = batch_df4['TYPEVEHI'].to_numpy()\n",
    "X_puivehi_np = batch_df4['PUISVEHI'].to_numpy()\n",
    "X_nbreplace_np = batch_df4['NOMBPLAC'].to_numpy()\n",
    "X_codegara_np = batch_df4['CODEGARA'].to_numpy()\n",
    "X_codecat_np = batch_df4['CODECATE'].to_numpy()\n",
    "X_codebran_np = batch_df4['CODEBRAN'].to_numpy()\n",
    "X_capri1_np = batch_df4['valeur_neuve'].to_numpy()\n",
    "X_capri2_np = batch_df4['valeur_venale'].to_numpy() \n",
    "\n",
    "\n",
    "# Redimensionner les tableaux si nécessaire\n",
    "X_images_np_1 = X_images_np_1.reshape(len(X_images_np_1), -1) # Redimensionner en 2D si c'est actuellement 1D\n",
    "X_images_np_2 = X_images_np_2.reshape(len(X_images_np_2), -1)\n",
    "X_images_np_3 = X_images_np_3.reshape(len(X_images_np_3), -1)\n",
    "X_images_np_4 = X_images_np_4.reshape(len(X_images_np_4), -1)\n",
    "X_texts_np_1 = X_texts_np_1.reshape(len(X_texts_np_1), -1) # Redimensionner en 2D si c'est actuellement 1D\n",
    "X_texts_np_2 = X_texts_np_2.reshape(len(X_texts_np_2), -1)\n",
    "X_texts_np_3 = X_texts_np_3.reshape(len(X_texts_np_3), -1) \n",
    "X_marq_np = X_marq_np.reshape(len(X_marq_np), -1)  # Redimensionner en 2D si c'est actuellement 1D\n",
    "X_typevehi_np = X_typevehi_np.reshape(len(X_typevehi_np), -1)\n",
    "X_puivehi_np = X_puivehi_np.reshape(len(X_puivehi_np), -1)  # Redimensionner en 2D si c'est actuellement 1D\n",
    "X_nbreplace_np = X_nbreplace_np.reshape(len(X_nbreplace_np), -1)\n",
    "X_codegara_np = X_codegara_np.reshape(len(X_codegara_np), -1)  # Redimensionner en 2D si c'est actuellement 1D\n",
    "X_codecat_np = X_codecat_np.reshape(len(X_codecat_np), -1)\n",
    "X_codebran_np = X_codebran_np.reshape(len(X_codebran_np), -1)\n",
    "X_capri1_np = X_capri1_np.reshape(len(X_capri1_np), -1)\n",
    "X_capri2_np = X_capri2_np.reshape(len(X_capri2_np), -1)\n",
    "\n",
    "\n",
    "# Concaténer ou combiner vos caractéristiques\n",
    "X_combined = np.concatenate((X_texts_np_1, X_texts_np_2, X_texts_np_3, X_images_np_1, X_images_np_2, X_images_np_3, X_images_np_4, X_marq_np, X_typevehi_np, X_puivehi_np, X_nbreplace_np, X_codegara_np, X_codecat_np, X_codebran_np, X_capri1_np, X_capri2_np), axis=1) #X_capri2_np,  X_texts_np_3, X_images_np_4, X_texts_np_2, ,X_images_np_3 \n",
    "\n",
    "# Labels ou cibles\n",
    "y = batch_df4['cluster'].values              \n",
    "\n",
    "# # Initialisation et entraînement du modèle RandomForest\n",
    "# model_rf = RandomForestClassifier(n_estimators=100, max_depth=20)\n",
    "# model_rf.fit(X_combined, y)\n",
    "\n",
    "# # Prédiction avec le modèle entraîné \n",
    "# predictions = model_rf.predict(X_combined)       "
   ]
  },
  {
   "cell_type": "code",
   "execution_count": null,
   "id": "327cdcd5-7222-458c-a561-b9fb73a86f3f",
   "metadata": {},
   "outputs": [],
   "source": []
  },
  {
   "cell_type": "markdown",
   "id": "a1d806e3-8259-4e57-b9a7-93c112e85f6a",
   "metadata": {},
   "source": [
    "### --------- RECONSTITUTION TOUTES LES SORTIES EN UN SEUL DATAFRAME --------------- "
   ]
  },
  {
   "cell_type": "code",
   "execution_count": 84,
   "id": "1c0ee762-997a-428a-8e0c-05d2a66c1155",
   "metadata": {},
   "outputs": [],
   "source": [
    "columns_names = [f'feature_{i+1}' for i in range(X_combined.shape[1])]\n",
    "X1_combined = pd.DataFrame(X_combined, columns = columns_names)"
   ]
  },
  {
   "cell_type": "code",
   "execution_count": 85,
   "id": "a8e97c12-8860-4ea3-b6e3-41f1d39ce2c6",
   "metadata": {},
   "outputs": [
    {
     "data": {
      "text/plain": [
       "(100, 4360)"
      ]
     },
     "execution_count": 85,
     "metadata": {},
     "output_type": "execute_result"
    }
   ],
   "source": [
    "X1_combined.shape"
   ]
  },
  {
   "cell_type": "code",
   "execution_count": null,
   "id": "384d30ec-4042-4a95-8a0a-8df23f23961a",
   "metadata": {},
   "outputs": [],
   "source": [
    "df3 = pd.concat([X1_combined, batch_df4['cluster']], axis =1) \n",
    "df3.to_csv('/opt/spark-apps/programs/Gohou/Data/Tabes/New_trans/df46.csv') "
   ]
  },
  {
   "cell_type": "code",
   "execution_count": null,
   "id": "4b026c6e-976f-463c-8d3e-36ae7ac028e4",
   "metadata": {},
   "outputs": [],
   "source": []
  },
  {
   "cell_type": "code",
   "execution_count": null,
   "id": "34f787cc-2736-45d0-aaa1-136719e6dfaf",
   "metadata": {},
   "outputs": [],
   "source": []
  },
  {
   "cell_type": "code",
   "execution_count": null,
   "id": "6c049e38-7889-4c6b-bbfe-5070888f2640",
   "metadata": {},
   "outputs": [],
   "source": []
  },
  {
   "cell_type": "code",
   "execution_count": null,
   "id": "f9a0b992-2249-49d0-9533-f7dd24632141",
   "metadata": {},
   "outputs": [],
   "source": []
  },
  {
   "cell_type": "code",
   "execution_count": null,
   "id": "44c787bb-a266-4f29-a180-c332dbbd95e6",
   "metadata": {},
   "outputs": [],
   "source": [
    "# n_files = 20  # Remplace ceci par le nombre exact de fichiers CSV que tu as\n",
    "\n",
    "# # Crée une liste des chemins des fichiers CSV\n",
    "# file_paths = [f'/opt/spark-apps/programs/Gohou/Data/Tabes/df{i}.csv' for i in range(1, n_files + 1)]\n",
    "\n",
    "# # Lire les fichiers CSV et stocker les DataFrames dans une liste\n",
    "# list_df = [pd.read_csv(file_path) for file_path in file_paths] \n",
    "# print(len(list_df))\n",
    "# df_final = pd.concat(list_df, ignore_index=True)  \n",
    "# print(len(df_final))"
   ]
  },
  {
   "cell_type": "code",
   "execution_count": null,
   "id": "5c9b1546-6b1e-4a6f-8145-d836041a3946",
   "metadata": {},
   "outputs": [],
   "source": [
    "# liste = [] \n",
    "# for classif in Best_Model:\n",
    "#     kf = KFold(n_splits=10, shuffle=True, random_state=1)\n",
    "#     proba = cross_val_predict(classif,X_final, Y_final, cv = kf, method='predict_proba')[:,1]\n",
    "#     predictions = (proba > seuil_fixe).astype(int)\n",
    "#     acc = accuracy_score(Y_final, predictions)\n",
    "#     liste.append(acc)\n",
    "\n",
    "# resultats_final = pd.DataFrame({\"Modele\":['logistic','elasticnet','Ridge','Lasso','Arbre','Random','Xgboost','knn','Gradient_boosting',\n",
    "#                                   'adaboost_classifier', 'Bagging','SVM','LDA','QDA'],\"Accuracy_seuil\":liste})\n",
    "# print(resultats_final)"
   ]
  },
  {
   "cell_type": "code",
   "execution_count": null,
   "id": "0613297e-821b-46d9-a2ef-097c1ca9507b",
   "metadata": {},
   "outputs": [],
   "source": []
  },
  {
   "cell_type": "code",
   "execution_count": null,
   "id": "825810fc-13dd-4d24-bd57-b61d3c292e4a",
   "metadata": {},
   "outputs": [],
   "source": []
  },
  {
   "cell_type": "code",
   "execution_count": null,
   "id": "3468785d-7062-4855-b2a1-24cf115f4c92",
   "metadata": {},
   "outputs": [],
   "source": []
  },
  {
   "cell_type": "code",
   "execution_count": null,
   "id": "90037c25-7c00-490c-8695-a87400353bd9",
   "metadata": {},
   "outputs": [],
   "source": [
    "df3 = pd.concat([X1_combined, batch_df4['cluster']], axis =1) \n",
    "from sklearn.model_selection import train_test_split\n",
    "df2 = df3.copy() "
   ]
  },
  {
   "cell_type": "markdown",
   "id": "361d4404-15fc-43b8-b0da-acff54cc0be5",
   "metadata": {},
   "source": [
    "### REEQUILIBRAGE DE NOS DONNEES VU QU'ELLES SONT DESEQUILIBREES "
   ]
  },
  {
   "cell_type": "code",
   "execution_count": null,
   "id": "2985ef66-3f8b-4247-8f82-8c6df8a27327",
   "metadata": {},
   "outputs": [],
   "source": [
    "# %pip install imbalanced-learn"
   ]
  },
  {
   "cell_type": "code",
   "execution_count": null,
   "id": "fbe5b00d-8a80-407e-9888-4d16d71c1d4e",
   "metadata": {},
   "outputs": [],
   "source": [
    "from imblearn.over_sampling import SMOTE\n",
    "from collections import Counter\n",
    "X = df2.drop(columns='cluster')  # Variables indépendantes\n",
    "y = df2['cluster'] \n",
    "\n",
    "# # Séparation des données en ensembles d'entraînement et de test\n",
    "X_train, X_test, y_train, y_test = train_test_split(X, y, test_size=0.2, random_state=42,stratify=y)\n",
    "\n",
    "# Application de SMOTE pour suréchantillonner la classe minoritaire\n",
    "smote = SMOTE(random_state=42)\n",
    "X_train_resampled, y_train_resampled = smote.fit_resample(X_train, y_train)\n",
    "\n",
    "# Vérifier la distribution des classes après suréchantillonnage\n",
    "print(\"Distribution des classes avant suréchantillonnage :\", Counter(y_train))\n",
    "print(\"Distribution des classes après suréchantillonnage :\", Counter(y_train_resampled))"
   ]
  },
  {
   "cell_type": "code",
   "execution_count": null,
   "id": "649573a6-b1b0-40ff-a944-a1fb666fcec8",
   "metadata": {},
   "outputs": [],
   "source": [
    "from sklearn.metrics import classification_report, accuracy_score, confusion_matrix, f1_score\n",
    "\n",
    "# Initialisation et entraînement du modèle RandomForest \n",
    "model_rf = RandomForestClassifier(n_estimators=50, max_features = 'sqrt', min_samples_leaf=0.3) \n",
    "model_rf.fit(X_train_resampled, y_train_resampled) \n",
    "\n",
    "# Prédictions sur l'ensemble de test \n",
    "y_pred = model_rf.predict(X_train_resampled) \n",
    "\n",
    "# Évaluation du modèle\n",
    "accuracy = accuracy_score(y_train_resampled, y_pred)  \n",
    "print(f'Accuracy: {accuracy:.2f}')\n",
    "\n",
    "f1 = f1_score(y_train_resampled, y_pred, average='weighted')\n",
    "print(f'f1_score: {f1:.2f}')\n",
    "\n",
    "abs_pred_val_train = np.mean([abs(l-p) for l,p in zip(list(y_train_resampled), list(y_pred))])\n",
    "pred_val_train = np.mean([p-l for l,p in zip(list(y_train_resampled), list(y_pred))]) \n",
    "\n",
    "print(f'Valeur absolue des diffrence en train : {abs_pred_val_train}')\n",
    "print(f'difference entre predictions et labels en train : {pred_val_train}') \n",
    "\n",
    "print('-------------------------------Perf Random Forest en Train------------------------------------')\n",
    "\n",
    "# Matrice de confusion\n",
    "conf_matrix = confusion_matrix(y_train_resampled, y_pred)\n",
    "print(f'Confusion Matrix:\\n{conf_matrix}')  \n",
    "\n",
    "# Rapport de classification (incluant precision, recall, f1-score)\n",
    "class_report = classification_report(y_train_resampled, y_pred)\n",
    "print(f'Classification Report:\\n{class_report}')   "
   ]
  },
  {
   "cell_type": "code",
   "execution_count": null,
   "id": "f0583d36-1f16-46b8-a825-6f94703270e9",
   "metadata": {},
   "outputs": [],
   "source": []
  },
  {
   "cell_type": "code",
   "execution_count": null,
   "id": "01a83d7e-7656-4439-96fc-449986de5b80",
   "metadata": {},
   "outputs": [],
   "source": [
    "# Prédictions sur l'ensemble de test \n",
    "y_pred = model_rf.predict(X_test) \n",
    "\n",
    "accuracy = accuracy_score(y_test, y_pred)  \n",
    "print(f'Accuracy: {accuracy:.2f}')\n",
    "\n",
    "f1 = f1_score(y_test, y_pred, average='weighted')\n",
    "print(f'f1_score: {f1:.2f}')\n",
    "\n",
    "abs_pred_val_train = np.mean([abs(l-p) for l,p in zip(list(y_test), list(y_pred))])\n",
    "pred_val_train = np.mean([p-l for l,p in zip(list(y_test), list(y_pred))]) \n",
    "\n",
    "print(f'Valeur absolue des diffrence en train : {abs_pred_val_train}')\n",
    "print(f'difference entre predictions et labels en train : {pred_val_train}') \n",
    "\n",
    "print('-------------------------------Perf Random Forest en Train------------------------------------')\n",
    "\n",
    "# Matrice de confusion\n",
    "conf_matrix = confusion_matrix(y_test, y_pred)\n",
    "print(f'Confusion Matrix:\\n{conf_matrix}')  \n",
    "\n",
    "# Rapport de classification (incluant precision, recall, f1-score)\n",
    "class_report = classification_report(y_test, y_pred)\n",
    "print(f'Classification Report:\\n{class_report}')   "
   ]
  },
  {
   "cell_type": "code",
   "execution_count": null,
   "id": "59d2ede1-df42-4389-b29e-8dc809fb8a4a",
   "metadata": {},
   "outputs": [],
   "source": [
    "plt.figure(figsize=(8, 6))\n",
    "# Normaliser la matrice de confusion en pourcentage\n",
    "cm_percentage = conf_matrix.astype('float') / conf_matrix.sum(axis=1)[:, np.newaxis] * 100\n",
    "sns.heatmap(cm_percentage, annot=True, cmap='Blues', cbar=False)\n",
    "plt.xlabel('Predicted labels')\n",
    "plt.ylabel('True labels')\n",
    "plt.title('Confusion Matrix')\n",
    "plt.show() "
   ]
  },
  {
   "cell_type": "code",
   "execution_count": null,
   "id": "5b47a01d-a46f-42c6-87c0-4a4efa1e2fb0",
   "metadata": {},
   "outputs": [],
   "source": [
    "from sklearn.model_selection import cross_val_score,KFold,cross_val_predict,train_test_split,GridSearchCV\n",
    "from sklearn.metrics import confusion_matrix, classification_report, accuracy_score, f1_score\n",
    "from sklearn.linear_model import LinearRegression,LogisticRegression,ElasticNet, Ridge, Lasso\n",
    "kf = KFold(n_splits=5, shuffle=True, random_state=42) "
   ]
  },
  {
   "cell_type": "markdown",
   "id": "d6fde20b-b817-469c-b550-95e4b5ca2ab8",
   "metadata": {},
   "source": [
    "### Ridge "
   ]
  },
  {
   "cell_type": "code",
   "execution_count": null,
   "id": "fde29a5c-07e4-4632-9a07-046222f8bdd9",
   "metadata": {},
   "outputs": [],
   "source": [
    "print(f\"Memory usage before: {get_memory_usage() / (1024 * 1024):.2f} MB\")\n",
    "\n",
    "param_grid = {                          \n",
    "    \"C\": [0.00001,0.001,1,10,100],   \n",
    "    \"solver\": [\"sag\",\"lbfgs\",\"liblinear\"] ,\n",
    "    'class_weight': ['balanced'],\n",
    "} \n",
    "\n",
    "ridge = LogisticRegression(penalty=\"l2\")\n",
    "ridge_cv = GridSearchCV(ridge, param_grid, cv=kf,scoring='f1') \n",
    "ridge_cv.fit(X_train_resampled, y_train_resampled)\n",
    "\n",
    "print(ridge_cv.best_params_)  \n",
    "print(ridge_cv.best_score_)\n",
    "\n",
    "print(f\"Memory usage after: {get_memory_usage() / (1024 * 1024):.2f} MB\")"
   ]
  },
  {
   "cell_type": "code",
   "execution_count": null,
   "id": "f2cb8e7d-306a-402f-b8b2-f8db9ae9599c",
   "metadata": {},
   "outputs": [],
   "source": [
    "from sklearn.ensemble import GradientBoostingRegressor, GradientBoostingClassifier, AdaBoostClassifier\n",
    "from sklearn.metrics import classification_report, accuracy_score, confusion_matrix, f1_score\n",
    "\n",
    "# Initialisation et entraînement du modèle RandomForest \n",
    "model_rf =  GradientBoostingClassifier(n_estimators=50, max_depth=3, max_features= 0.3, learning_rate=0.1, subsample=0.7) #subsample=0.5\n",
    "model_rf.fit(X_train_resampled, y_train_resampled)\n",
    "\n",
    "# Prédictions sur l'ensemble de test \n",
    "y_pred = model_rf.predict(X_train_resampled) \n",
    "\n",
    "# Évaluation du modèle\n",
    "accuracy = accuracy_score(y_train_resampled, y_pred)  \n",
    "print(f'Accuracy: {accuracy:.2f}')\n",
    "\n",
    "f1 = f1_score(y_train_resampled, y_pred, average='weighted')\n",
    "print(f'f1_score: {f1:.2f}')\n",
    "\n",
    "abs_pred_val_train = np.mean([abs(l-p) for l,p in zip(list(y_train_resampled), list(y_pred))])\n",
    "pred_val_train = np.mean([p-l for l,p in zip(list(y_train_resampled), list(y_pred))]) \n",
    "\n",
    "print(f'Valeur absolue des diffrence en train : {abs_pred_val_train}')\n",
    "print(f'difference entre predictions et labels en train : {pred_val_train}') \n",
    "\n",
    "print('-------------------------------  Perf Random Forest en Train  ------------------------------------')\n",
    "\n",
    "# Matrice de confusion\n",
    "conf_matrix = confusion_matrix(y_train_resampled, y_pred)\n",
    "print(f'Confusion Matrix:\\n{conf_matrix}')  \n",
    "\n",
    "# Rapport de classification (incluant precision, recall, f1-score)\n",
    "class_report = classification_report(y_train_resampled, y_pred)\n",
    "print(f'Classification Report:\\n{class_report}')   "
   ]
  },
  {
   "cell_type": "code",
   "execution_count": null,
   "id": "748bd6d4-7603-4ea6-a51c-30a130b83796",
   "metadata": {},
   "outputs": [],
   "source": [
    "# Prédictions sur l'ensemble de test \n",
    "y_pred = model_rf.predict(X_test) \n",
    "\n",
    "accuracy = accuracy_score(y_test, y_pred)  \n",
    "print(f'Accuracy: {accuracy:.2f}')\n",
    "\n",
    "f1 = f1_score(y_test, y_pred, average='weighted')\n",
    "print(f'f1_score: {f1:.2f}')\n",
    "\n",
    "abs_pred_val_train = np.mean([abs(l-p) for l,p in zip(list(y_test), list(y_pred))])\n",
    "pred_val_train = np.mean([p-l for l,p in zip(list(y_test), list(y_pred))]) \n",
    "\n",
    "print(f'Valeur absolue des diffrence en train : {abs_pred_val_train}')\n",
    "print(f'difference entre predictions et labels en train : {pred_val_train}') \n",
    "\n",
    "print('-------------------------------Perf Random Forest en Train------------------------------------')\n",
    "\n",
    "# Matrice de confusion\n",
    "conf_matrix = confusion_matrix(y_test, y_pred)\n",
    "print(f'Confusion Matrix:\\n{conf_matrix}')  \n",
    "\n",
    "# Rapport de classification (incluant precision, recall, f1-score)\n",
    "class_report = classification_report(y_test, y_pred)\n",
    "print(f'Classification Report:\\n{class_report}')   "
   ]
  },
  {
   "cell_type": "code",
   "execution_count": null,
   "id": "171f8525-a224-419b-97eb-4fbf3fba6774",
   "metadata": {},
   "outputs": [],
   "source": [
    "plt.figure(figsize=(8, 6))\n",
    "# Normaliser la matrice de confusion en pourcentage\n",
    "cm_percentage = conf_matrix.astype('float') / conf_matrix.sum(axis=1)[:, np.newaxis] * 100\n",
    "sns.heatmap(cm_percentage, annot=True, cmap='Blues', cbar=False)\n",
    "plt.xlabel('Predicted labels')\n",
    "plt.ylabel('True labels')\n",
    "plt.title('Confusion Matrix')\n",
    "plt.show() "
   ]
  },
  {
   "cell_type": "markdown",
   "id": "90608932-16a9-4cdb-97c5-5294dc5c55dc",
   "metadata": {},
   "source": [
    "### Lasso"
   ]
  },
  {
   "cell_type": "code",
   "execution_count": null,
   "id": "d554b724-db09-4126-81f1-6002442b20bb",
   "metadata": {},
   "outputs": [],
   "source": [
    "print(f\"Memory usage before: {get_memory_usage() / (1024 * 1024):.2f} MB\")\n",
    "\n",
    "param_grid = {                          \n",
    "    \"C\": [0.0001,0.001,1,10,100],   \n",
    "    \"solver\": [\"sag\",\"lbfgs\",\"liblinear\"] ,\n",
    "    'class_weight': ['balanced'],\n",
    "} \n",
    "\n",
    "lasso = LogisticRegression(penalty=\"l1\")\n",
    "lasso_cv = GridSearchCV(lasso, param_grid, cv=kf,scoring=\"f1\") \n",
    "lasso_cv.fit(X_train_resampled, y_train_resampled)\n",
    "\n",
    "print(lasso_cv.best_params_)  \n",
    "print(lasso_cv.best_score_)  \n",
    "\n",
    "print(f\"Memory usage before: {get_memory_usage() / (1024 * 1024):.2f} MB\")"
   ]
  },
  {
   "cell_type": "markdown",
   "id": "32f5b4ff-a96b-43b1-9a16-b15ed416bbe9",
   "metadata": {},
   "source": [
    "### Logistics"
   ]
  },
  {
   "cell_type": "code",
   "execution_count": null,
   "id": "7d37470d-20a5-42f4-bd5a-7d2c6fa38183",
   "metadata": {},
   "outputs": [],
   "source": [
    "# print(f\"Memory usage before: {get_memory_usage() / (1024 * 1024):.2f} MB\")\n",
    "\n",
    "# param_grid = {                          \n",
    "#     \"C\": [0.0001, 0.001, 0.01, 0.1, 1, 10],   \n",
    "#     \"max_iter\" :[10000,11000],\n",
    "#     'solver' : ['liblinear']\n",
    "# }\n",
    "\n",
    "# Logistic = LogisticRegression()\n",
    "\n",
    "# Logistic_cv = GridSearchCV(Logistic, param_grid, cv=kf,scoring=\"f1\") \n",
    "# Logistic_cv.fit(X_train_resampled, y_train_resampled)\n",
    "\n",
    "# print(Logistic_cv.best_params_)  \n",
    "# print(Logistic_cv.best_score_) \n",
    "\n",
    "# print(f\"Memory usage before: {get_memory_usage() / (1024 * 1024):.2f} MB\")"
   ]
  },
  {
   "cell_type": "markdown",
   "id": "90be3c5e-b602-4006-86a8-d1355eba70fa",
   "metadata": {},
   "source": [
    "### Random Forest"
   ]
  },
  {
   "cell_type": "code",
   "execution_count": null,
   "id": "72c4b605-4cc1-43b2-a085-c986eb72d5bd",
   "metadata": {},
   "outputs": [],
   "source": [
    "print(f\"Memory usage before: {get_memory_usage() / (1024 * 1024):.2f} MB\")\n",
    "\n",
    "a = int(np.sqrt(len(X.columns)))\n",
    "param_grid = {                          \n",
    "    \"n_estimators\": [50, 70, 100],   \n",
    "    \"min_samples_leaf\": [0.05, 0.07, 0.01],\n",
    "    \"max_features\": [a, a+5, a+10] \n",
    "}\n",
    "\n",
    "Arbre = RandomForestClassifier()\n",
    "\n",
    "Arbre_cv = GridSearchCV(Arbre, param_grid, cv=kf,scoring=\"f1\")\n",
    "Arbre_cv.fit(X_train_resampled, y_train_resampled)\n",
    "\n",
    "print(Arbre_cv.best_params_)\n",
    "print(Arbre_cv.best_score_) \n",
    "\n",
    "print(f\"Memory usage after: {get_memory_usage() / (1024 * 1024):.2f} MB\") "
   ]
  },
  {
   "cell_type": "code",
   "execution_count": null,
   "id": "43cd0a36-acf2-448c-b505-f9aed449c64c",
   "metadata": {},
   "outputs": [],
   "source": [
    "print(a) "
   ]
  },
  {
   "cell_type": "markdown",
   "id": "f0f3b76a-39d8-4aa0-90a4-4cc859f4c0bc",
   "metadata": {},
   "source": [
    "#### Xgboost"
   ]
  },
  {
   "cell_type": "code",
   "execution_count": null,
   "id": "e89a3853-e913-4b88-b0c5-98cc3990c8a4",
   "metadata": {},
   "outputs": [],
   "source": [
    "param_grid = {\n",
    "    'learning_rate': [0.01, 0.05, 0.07, 0.1],\n",
    "    'colsample_bytree': [0.7,0.8,0.9],\n",
    "    \"n_estimators\": [100, 200, 300],\n",
    "    \"max_depth\": [3, 4, 5], \n",
    "    \"objective\":[\"multi:softmax\"],\n",
    "}\n",
    "\n",
    "xgb_classifier = xgb.XGBClassifier() \n",
    "\n",
    "xgb_classifier_cv = GridSearchCV(xgb_classifier,param_grid,cv=kf,scoring=\"f1\")\n",
    "xgb_classifier_cv.fit(X_train_resampled, y_train_resampled)\n",
    "\n",
    "print(xgb_classifier_cv.best_params_)\n",
    "print(xgb_classifier_cv.best_score_) "
   ]
  },
  {
   "cell_type": "markdown",
   "id": "2ff53bc1-0724-40bb-865d-d9b2fa3b7e7a",
   "metadata": {},
   "source": [
    "### Gradient Boosting "
   ]
  },
  {
   "cell_type": "code",
   "execution_count": null,
   "id": "6a8f8bd4-643e-45a2-b2a4-46f3c732e532",
   "metadata": {},
   "outputs": [],
   "source": [
    "from sklearn.ensemble import GradientBoostingRegressor, GradientBoostingClassifier, AdaBoostClassifier\n",
    "param_grid = {\n",
    "    \"n_estimators\": [100, 150, 200],\n",
    "    \"max_depth\": [3, 4, 5],   #arbre pas trop profond \n",
    "    \"max_features\": ['sqrt', 'log2'],  \n",
    "}\n",
    "\n",
    "gb_classifier = GradientBoostingClassifier()\n",
    "\n",
    "gb_classifier_cv = GridSearchCV(gb_classifier, param_grid, cv=kf,scoring=\"f1\")\n",
    "gb_classifier_cv.fit(X_train_resampled, y_train_resampled)\n",
    "\n",
    "\n",
    "print(gb_classifier_cv.best_params_)\n",
    "print(gb_classifier_cv.best_score_) "
   ]
  },
  {
   "cell_type": "markdown",
   "id": "a51801b3-d13f-4b30-920f-95b01442cf3c",
   "metadata": {},
   "source": [
    "### Adaboost"
   ]
  },
  {
   "cell_type": "code",
   "execution_count": 11,
   "id": "925c8df7-199e-4ff2-9ee5-b64943b94d89",
   "metadata": {},
   "outputs": [
    {
     "ename": "NameError",
     "evalue": "name 'AdaBoostClassifier' is not defined",
     "output_type": "error",
     "traceback": [
      "\u001b[0;31m---------------------------------------------------------------------------\u001b[0m",
      "\u001b[0;31mNameError\u001b[0m                                 Traceback (most recent call last)",
      "Cell \u001b[0;32mIn[11], line 7\u001b[0m\n\u001b[1;32m      1\u001b[0m param_grid \u001b[38;5;241m=\u001b[39m {\n\u001b[1;32m      2\u001b[0m     \u001b[38;5;124m\"\u001b[39m\u001b[38;5;124mn_estimators\u001b[39m\u001b[38;5;124m\"\u001b[39m: [\u001b[38;5;241m100\u001b[39m,\u001b[38;5;241m150\u001b[39m,\u001b[38;5;241m200\u001b[39m],\n\u001b[1;32m      3\u001b[0m     \u001b[38;5;124m\"\u001b[39m\u001b[38;5;124mlearning_rate\u001b[39m\u001b[38;5;124m\"\u001b[39m: [\u001b[38;5;241m0.01\u001b[39m, \u001b[38;5;241m0.1\u001b[39m ,\u001b[38;5;241m0.2\u001b[39m], \n\u001b[1;32m      4\u001b[0m     \u001b[38;5;124m\"\u001b[39m\u001b[38;5;124malgorithm\u001b[39m\u001b[38;5;124m\"\u001b[39m:[\u001b[38;5;124m\"\u001b[39m\u001b[38;5;124mSAMME\u001b[39m\u001b[38;5;124m\"\u001b[39m,\u001b[38;5;124m\"\u001b[39m\u001b[38;5;124mSAMME.R\u001b[39m\u001b[38;5;124m\"\u001b[39m],\n\u001b[1;32m      5\u001b[0m }\n\u001b[0;32m----> 7\u001b[0m adaboost_classifier \u001b[38;5;241m=\u001b[39m \u001b[43mAdaBoostClassifier\u001b[49m()\n\u001b[1;32m      9\u001b[0m adaboost_cv \u001b[38;5;241m=\u001b[39m GridSearchCV(adaboost_classifier, param_grid, cv\u001b[38;5;241m=\u001b[39mkf,scoring\u001b[38;5;241m=\u001b[39m\u001b[38;5;124m\"\u001b[39m\u001b[38;5;124mf1\u001b[39m\u001b[38;5;124m\"\u001b[39m)\n\u001b[1;32m     10\u001b[0m adaboost_cv\u001b[38;5;241m.\u001b[39mfit(X_train_resampled, y_train_resampled)\n",
      "\u001b[0;31mNameError\u001b[0m: name 'AdaBoostClassifier' is not defined"
     ]
    }
   ],
   "source": [
    "param_grid = {\n",
    "    \"n_estimators\": [100,150,200],\n",
    "    \"learning_rate\": [0.01, 0.1 ,0.2], \n",
    "    \"algorithm\":[\"SAMME\",\"SAMME.R\"],\n",
    "}\n",
    "\n",
    "adaboost_classifier = AdaBoostClassifier()\n",
    "\n",
    "adaboost_cv = GridSearchCV(adaboost_classifier, param_grid, cv=kf,scoring=\"f1\")\n",
    "adaboost_cv.fit(X_train_resampled, y_train_resampled)\n",
    "\n",
    "print(adaboost_cv.best_params_)\n",
    "print(adaboost_cv.best_score_)"
   ]
  },
  {
   "cell_type": "markdown",
   "id": "48fbc8dd-1a04-4b52-9d8c-4d76a9bb28d8",
   "metadata": {},
   "source": [
    "### Bagging "
   ]
  },
  {
   "cell_type": "code",
   "execution_count": null,
   "id": "8e343b29-d847-4ebe-a9f6-f96c70499b2d",
   "metadata": {},
   "outputs": [],
   "source": [
    "from sklearn.tree import DecisionTreeClassifier,DecisionTreeRegressor\n",
    "from sklearn.ensemble import BaggingClassifier,BaggingRegressor,VotingClassifier\n",
    "\n",
    "a = int(np.sqrt(len(X.columns)))\n",
    "param_grid = {\n",
    "    \"n_estimators\": [50,100,150],\n",
    "    \"max_features\": [a-5,a,a+5],\n",
    "    \"max_samples\" : [0.6,0.65,0.7],\n",
    "    \"bootstrap_features\": [True, False],\n",
    "}\n",
    "\n",
    "base_classifier = DecisionTreeClassifier()\n",
    "bagging_classifier = BaggingClassifier(base_classifier)\n",
    "bagging_classifier_cv = GridSearchCV(bagging_classifier, param_grid, cv=kf,scoring=\"f1\")\n",
    "bagging_classifier_cv.fit(X_train_resampled, y_train_resampled)\n",
    "\n",
    "print(bagging_classifier_cv.best_params_)\n",
    "print(bagging_classifier_cv.best_score_) "
   ]
  },
  {
   "cell_type": "markdown",
   "id": "cbeee02f-9517-441c-b971-b2b84e410e15",
   "metadata": {},
   "source": [
    "### SVM"
   ]
  },
  {
   "cell_type": "code",
   "execution_count": null,
   "id": "196de4be-b4b8-4fa2-8abd-8677b0ecf69b",
   "metadata": {},
   "outputs": [],
   "source": [
    "from sklearn.svm import SVC\n",
    "from sklearn.model_selection import GridSearchCV\n",
    "\n",
    "# Définir un modèle SVM\n",
    "svm = SVC()\n",
    "\n",
    "# Définir les hyperparamètres à tester\n",
    "param_grid = {\n",
    "    'C': [0.1, 1, 10, 100],\n",
    "    'kernel': ['linear', 'poly', 'rbf', 'sigmoid'],\n",
    "    'gamma': ['scale', 'auto'],\n",
    "    'degree': [2, 3, 4],  # Pour le noyau polynomiale\n",
    "}\n",
    "\n",
    "# Configurer la recherche en grille\n",
    "grid_search = GridSearchCV(estimator=svm, param_grid=param_grid, scoring='f1', cv=kf)\n",
    "grid_search.fit(X_train_resampled, y_train_resampled)\n",
    "\n",
    "print(bagging_classifier_cv.best_params_)\n",
    "print(bagging_classifier_cv.best_score_) "
   ]
  },
  {
   "cell_type": "code",
   "execution_count": null,
   "id": "bcd2ead5-4c5f-452e-b1cf-e2f99dd1a94f",
   "metadata": {},
   "outputs": [],
   "source": [
    "classifiers = [\n",
    "    ('Logistic_Logistique', LogisticRegression(C=0.000001, max_iter=10000)),\n",
    "    ('Classification_Ridge', LogisticRegression(penalty=\"l2\", C=10, solver='liblinear', max_iter=10000)),\n",
    "    ('Classification_Lasso', LogisticRegression(penalty=\"l1\", C=1, max_iter=9000, solver='liblinear')),\n",
    "    ('Arbre', DecisionTreeClassifier(max_depth=1000, min_samples_leaf=23, min_samples_split=15)),\n",
    "    ('Random_Forest', RandomForestClassifier(max_features=3, min_samples_leaf=1, n_estimators=700)),\n",
    "    ('Xgboost', xgb.XGBClassifier(objective='multi:softmax', colsample_bytree=0.6, max_depth=12, n_estimators=100, num_class=2)),\n",
    "    ('knn', KNeighborsClassifier(n_neighbors=5)),\n",
    "    ('Gradient_boosting', GradientBoostingClassifier(n_estimators=300, max_depth=5)),\n",
    "    ('adaboost_classifier', AdaBoostClassifier(n_estimators=150, learning_rate=0.2, algorithm='SAMME')),\n",
    "    ('Bagging', BaggingClassifier(base_classifier, max_features=4, n_estimators=250))\n",
    "]\n",
    "\n",
    "for name, classifier in classifiers:\n",
    "    kf = KFold(n_splits=10, shuffle=True, random_state=1)\n",
    "    y_pred = cross_val_predict(classifier, X, Y, cv=kf)\n",
    "    acc = accuracy_score(Y, y_pred)\n",
    "    print(f\"{name} Accuracy: {np.mean(acc)}\")"
   ]
  },
  {
   "cell_type": "code",
   "execution_count": null,
   "id": "bfe17da8-625f-4587-ab3f-e40fb414dc30",
   "metadata": {},
   "outputs": [],
   "source": [
    "kf = KFold(n_splits=10, shuffle=True, random_state=1)\n",
    "BaggingClassifier(base_classifier, max_features=30, n_estimators=200)\n",
    "y_pred = cross_val_predict(base_classifier, X_train_resampled, y_train_resampled, cv=kf)\n",
    "f1 = f1_score(y_train_resampled, y_pred, average='macro')\n",
    "print(f1) "
   ]
  },
  {
   "cell_type": "code",
   "execution_count": null,
   "id": "955e99e9-378c-4a79-9553-0d4f387834af",
   "metadata": {},
   "outputs": [],
   "source": [
    "# plt.figure(figsize=(10, 7))\n",
    "# sns.heatmap(confusion_matrix, annot=True, fmt='d', cmap='Blues', \n",
    "#             xticklabels=['Class 0', 'Class 1', 'Class 2', 'Class 3'],\n",
    "#             yticklabels=['Class 0', 'Class 1', 'Class 2', 'Class 3'])\n",
    "# plt.xlabel('Prédictions')\n",
    "# plt.ylabel('Réelles')\n",
    "# plt.title('Matrice de Confusion')\n",
    "# plt.show()\n",
    "\n",
    "\n",
    "# conf_matrix = confusion_matrix(y_train, y_pred) \n",
    "\n",
    "# # Visualiser la matrice de confusion avec seaborn\n",
    "# plt.figure(figsize=(10, 7))\n",
    "# sns.heatmap(conf_matrix, annot=True, fmt='d', cmap='Blues',\n",
    "#             xticklabels=['Class 0', 'Class 1', 'Class 2', 'Class 3'],\n",
    "#             yticklabels=['Class 0', 'Class 1', 'Class 2', 'Class 3'])\n",
    "# plt.xlabel('Prédictions')\n",
    "# plt.ylabel('Réelles')\n",
    "# plt.title('Matrice de Confusion')\n",
    "# plt.show() "
   ]
  },
  {
   "cell_type": "code",
   "execution_count": null,
   "id": "34d40d49-08c5-4150-abe1-d1b13a44d873",
   "metadata": {},
   "outputs": [],
   "source": [
    "### Test sur de nouvelles donnees\n",
    "\n",
    "\n"
   ]
  },
  {
   "cell_type": "code",
   "execution_count": null,
   "id": "169479bf-215f-4847-b5f5-2dbb3794034f",
   "metadata": {},
   "outputs": [],
   "source": [
    "df_final = pd.concat["
   ]
  },
  {
   "cell_type": "code",
   "execution_count": null,
   "id": "8bdf7bdd-c096-4bf0-a5dc-ab16966276f3",
   "metadata": {},
   "outputs": [],
   "source": [
    "from lightgbm import LGBMClassifier\n",
    "from catboost import CatBoostClassifier\n",
    "from sklearn.tree import DecisionTreeClassifier, DecisionTreeRegressor\n",
    "from sklearn.ensemble import BaggingClassifier,BaggingRegressor,VotingClassifier\n",
    "from sklearn.metrics import classification_report, accuracy_score, confusion_matrix, f1_score\n",
    "from sklearn.model_selection import cross_val_score, KFold,cross_val_predict, train_test_split,GridSearchCV\n",
    "from sklearn.linear_model import LinearRegression,LogisticRegression,ElasticNet, Ridge, Lasso"
   ]
  },
  {
   "cell_type": "code",
   "execution_count": null,
   "id": "b50e2dd6-84f9-46fd-adae-0522421eb9b5",
   "metadata": {},
   "outputs": [],
   "source": []
  },
  {
   "cell_type": "code",
   "execution_count": null,
   "id": "189074a0-ac39-4bbe-bc25-a84e33864789",
   "metadata": {},
   "outputs": [],
   "source": [
    "kf = KFold(n_splits=5, shuffle=True, random_state=42)\n",
    "a = int(np.sqrt(len(X_final.columns)))\n",
    "\n",
    "dico =  {'logistic':LogisticRegression(),\n",
    "         'elastic':LogisticRegression(penalty=\"elasticnet\", solver=\"saga\"),\n",
    "         'ridge':LogisticRegression(penalty=\"l2\"),\n",
    "         'lasso':LogisticRegression(penalty=\"l1\"),\n",
    "         'Arbre':DecisionTreeClassifier(),\n",
    "         'Random':RandomForestClassifier(),\n",
    "         'xgb':xgb.XGBClassifier(),\n",
    "         'knn':KNeighborsClassifier(),\n",
    "         'Gradient_boosting':GradientBoostingClassifier(),\n",
    "         'adaboost_classifier':AdaBoostClassifier(),\n",
    "         'Bagging':BaggingClassifier(DecisionTreeClassifier()),\n",
    "         'SVM':SVC(),\n",
    "         'LDA':LinearDiscriminantAnalysis(),\n",
    "         'QDA':LinearDiscriminantAnalysis(),\n",
    "         'lightgbm': LGBMClassifier(),  # Ajout de LightGBM\n",
    "         'catboost': CatBoostClassifier(verbose=0)  # Ajout de CatBoost\n",
    "        } \n",
    "\n",
    "param = [{\"C\": [0.0000001,0.000001,0.00001],\"max_iter\" :[10000,11000]},\n",
    "         {\"C\": [0.00001,0.001,1,10,100],\"l1_ratio\": [0.1, 0.5, 0.7],\"max_iter\" :[9000,10000,11000]},\n",
    "         {\"C\": [0.00001, 0.001, 1, 10, 100],\"solver\": [\"sag\", \"lbfgs\", \"liblinear\"],\"max_iter\": [10000, 11000]},\n",
    "         {\"C\": [0.00001,0.001,1,10,100],\"solver\": [\"liblinear\"],\"max_iter\" :[9000,10000,11000]},\n",
    "         {\"max_depth\": [500,1000],\"min_samples_split\": [10,5,15],\"min_samples_leaf\": [5,7,8]},\n",
    "         {\"n_estimators\": [900,1000,1200],\"min_samples_leaf\": [1],\"max_features\": [a-1,a,a+1]},\n",
    "         {'colsample_bytree': [0.5, 0.6, 0.7],\"n_estimators\": [20, 25, 30, 50, 100],\"max_depth\": [10, 12, 15],\"objective\":[\"multi:softmax\"],\"num_class\":[2]},\n",
    "         {'n_neighbors':[3, 5, 7]},{\"n_estimators\": [100, 200, 300],\"max_depth\": [3, 5, 10]},\n",
    "         {\"n_estimators\": [70,80,100,200],\"learning_rate\": [0.001,0.1,0.2],\"algorithm\":[\"SAMME\",\"SAMME.R\"]},\n",
    "         {\"n_estimators\": [60, 80, 200, 300],\"max_features\": [a-5, a, a+1]},\n",
    "         {\"kernel\": ['linear','rbf','poly'], \"C\": [0.1, 1, 3, 5]},\n",
    "         {\"solver\": ['svd','lsqr'],\"shrinkage\": [0.1, 0.15, 0.2, 0.9]},\n",
    "         {'tol':[1e-4,0.001,0.1,0.9],\"solver\": ['svd','lsqr']},\n",
    "         {\"n_estimators\": [50, 100, 200], \"learning_rate\": [0.01, 0.1, 0.2], \"max_depth\": [10, 15, 20]},\n",
    "         {\"iterations\": [100, 200], \"depth\": [6, 8, 10], \"learning_rate\": [0.01, 0.1, 0.2]}\n",
    "        ]\n",
    "\n",
    "meilleurs_parametres = []\n",
    "Accuracy = []\n",
    "# Accuracy_avec_seuil_fixe = [] \n",
    "Best_Model = []\n",
    "temps = []\n",
    "i=0\n",
    "\n",
    "for nom, model in dico.items():\n",
    "    model = dico[nom]\n",
    "    model_cv = GridSearchCV(model, param_grid=param[i], cv = kf, scoring=\"f1_score\")\n",
    "    temps_debut = time.time()\n",
    "    model_cv.fit(X_final,Y_final)\n",
    "    temps_fin = time.time()\n",
    "    temps_execution = temps_fin - temps_debut\n",
    "    temps.append(temps_execution) \n",
    "    #meilleurs_parametres.append(model_cv.best_params_)\n",
    "    Accuracy.append(model_cv.best_score_)\n",
    "    best_model = model_cv.best_estimator_\n",
    "    Best_Model.append(best_model) \n",
    "    # proba = cross_val_predict(best_model,X_final, Y_final, cv = kf, method='predict_proba')[:,1]\n",
    "    # predictions = (proba > seuil_fixe).astype(int)\n",
    "    # accuracy = accuracy_score(Y_final, predictions)\n",
    "    # Accuracy_avec_seuil_fixe.append(accuracy)\n",
    "    i = i+1 \n",
    "\n",
    "resultats = pd.DataFrame({\"modele\":['logistic','elasticnet','Ridge','Lasso','Arbre','Random','Xgboost','knn','Gradient_boosting',\n",
    "                                  'adaboost_classifier', 'Bagging','SVM','LDA','QDA','lightgbm','catboost'],\n",
    "                                   \"Accuracy\":Accuracy,\n",
    "                                   #\"Accuracy_avec_seuil\":Accuracy_avec_seuil_fixe,\n",
    "                                   'Temps_Execution':temps})\n",
    "\n",
    "print(resultats)"
   ]
  },
  {
   "cell_type": "code",
   "execution_count": null,
   "id": "cfe90f2e-892e-4006-bc8c-63192aec2195",
   "metadata": {},
   "outputs": [],
   "source": []
  },
  {
   "cell_type": "code",
   "execution_count": null,
   "id": "579eb12a-520b-4600-8513-5137ad2b367f",
   "metadata": {},
   "outputs": [],
   "source": [
    "liste = [] \n",
    "for classif in Best_Model:\n",
    "    kf = KFold(n_splits=10, shuffle=True, random_state=42) \n",
    "    predictions = cross_val_predict(classif, X_final, Y_final, cv = kf) #, method='predict_proba')[:,1]\n",
    "    # predictions = (proba > seuil_fixe).astype(int)\n",
    "    f1 = f1_score(Y_final, predictions) \n",
    "    liste.append(f1) \n",
    "\n",
    "resultats_final = pd.DataFrame({\"Modele\":['logistic','elasticnet','Ridge','Lasso','Arbre','Random','Xgboost','knn','Gradient_boosting',\n",
    "                                          'adaboost_classifier', 'Bagging','SVM','LDA','QDA','lightgbm','catboost'],\n",
    "                                \"F1_Score\":liste})\n",
    "print(resultats_final)\n",
    "meilleur_modele = resultats_final.loc[resultats_final[\"F1_Score\"].idxmax()] \n",
    "print(meilleur_modele) "
   ]
  },
  {
   "cell_type": "code",
   "execution_count": null,
   "id": "091d9919-23e2-48e4-9cac-cc4f2a3ac4c2",
   "metadata": {},
   "outputs": [],
   "source": []
  },
  {
   "cell_type": "code",
   "execution_count": null,
   "id": "27a19271-e787-448a-b384-cf65c1a85418",
   "metadata": {},
   "outputs": [],
   "source": []
  },
  {
   "cell_type": "code",
   "execution_count": null,
   "id": "1b9497ce-331c-4584-8a14-72b0ac4049e3",
   "metadata": {},
   "outputs": [],
   "source": []
  },
  {
   "cell_type": "code",
   "execution_count": null,
   "id": "dfd2a2dc-b13a-4b42-a81b-1e1dd5b1cf20",
   "metadata": {},
   "outputs": [],
   "source": []
  },
  {
   "cell_type": "code",
   "execution_count": null,
   "id": "945416a2-4e2c-40fa-9105-72407b9ea91d",
   "metadata": {},
   "outputs": [],
   "source": []
  },
  {
   "cell_type": "code",
   "execution_count": null,
   "id": "8652a709-7f9c-472d-9961-ee9a0e21327a",
   "metadata": {},
   "outputs": [],
   "source": [
    "import pycaret\n",
    "pycaret.__version__"
   ]
  },
  {
   "cell_type": "code",
   "execution_count": null,
   "id": "ac1b369e-e962-4970-b486-4b0f5ee59715",
   "metadata": {},
   "outputs": [],
   "source": [
    "print(f\"Memory usage before: {get_memory_usage() / (1024 * 1024):.2f} MB\")\n",
    "from  pycaret.classification import *\n",
    "s = setup(X_train, target = y_train, session_id = 123,\n",
    "          fix_imbalance=True,\n",
    "          remove_outliers = True,\n",
    "          log_experiment = True,\n",
    "          experiment_name = 'Memoire',\n",
    "         )\n",
    "print(f\"Memory usage after: {get_memory_usage() / (1024 * 1024):.2f} MB\")"
   ]
  },
  {
   "cell_type": "code",
   "execution_count": null,
   "id": "6ae9e7ca-01fb-40f6-b8db-4bf8bc704216",
   "metadata": {},
   "outputs": [],
   "source": [
    "# !mlflow ui --host 0.0.0.0 "
   ]
  },
  {
   "cell_type": "code",
   "execution_count": null,
   "id": "2ab12187-4c4f-43bb-bcf8-116cc66e1a3e",
   "metadata": {},
   "outputs": [],
   "source": [
    "# print(f\"Memory usage before: {get_memory_usage() / (1024 * 1024):.2f} MB\")\n",
    "\n",
    "# best = compare_models()\n",
    "\n",
    "# print(f\"Memory usage after: {get_memory_usage() / (1024 * 1024):.2f} MB\")"
   ]
  },
  {
   "cell_type": "code",
   "execution_count": null,
   "id": "d9ec7fb1-dc4a-4dc4-8608-7513407558f7",
   "metadata": {},
   "outputs": [],
   "source": [
    "best_model = compare_models(exclude =['catboost', 'lightgbm', 'gbc','lr','dummy','xgboost'],\n",
    "                            sort='F1',\n",
    "                            budget_time=0.5,\n",
    "                            cross_validation=False,\n",
    "                            parallel = FugueBackend(spark),\n",
    "                            n_select=3)   "
   ]
  },
  {
   "cell_type": "code",
   "execution_count": null,
   "id": "920abb09-d738-48fc-a9f2-51d9cfae7a0a",
   "metadata": {},
   "outputs": [],
   "source": [
    "print(best_model)"
   ]
  },
  {
   "cell_type": "code",
   "execution_count": null,
   "id": "dc32c745-4541-43a8-aa18-590a869130c6",
   "metadata": {},
   "outputs": [],
   "source": [
    "# pour voir les hyperparamètres du modele\n",
    "evaluate_model(best_model) "
   ]
  },
  {
   "cell_type": "code",
   "execution_count": null,
   "id": "26af6262-9ee6-4a92-ab0a-f26bd161b7de",
   "metadata": {},
   "outputs": [],
   "source": [
    "tuned_best_model = tune_model(best) "
   ]
  },
  {
   "cell_type": "code",
   "execution_count": null,
   "id": "566410af-2aa4-47e8-a981-4a55b2343207",
   "metadata": {},
   "outputs": [],
   "source": [
    "custom_grids = {\n",
    "    'qda': {  # Logistic Regression\n",
    "        'priors': [0.33, 0.33, 0.33, 0.33],\n",
    "        'reg_params': [0.1, 0.4, 0.7],\n",
    "        'tol': [0.1, 0.4, 0.7] \n",
    "    },\n",
    "    'rf': {  # Random Forest\n",
    "        'n_estimators': [10, 50, 100, 200],\n",
    "        'max_depth': [100, 200,300],\n",
    "        'min_samples_split': [2, 4, 6]\n",
    "    },\n",
    "    'gbc': {  # Gradient Boosting Classifier\n",
    "        'n_estimators': [100,200,400],\n",
    "        'learning_rate': [0.001, 0.001, 0.2],\n",
    "        'max_depth': [3, 5, 7]\n",
    "    },\n",
    "    'xgboost': {  # XGBoost\n",
    "        'n_estimators': [300, 100, 400],\n",
    "        'learning_rate': [0.01, 0.1, 0.2],\n",
    "        'max_depth': [3, 5, 7]\n",
    "    }\n",
    "    # Ajouter d'autres modèles et leurs grilles de paramètres ici\n",
    "}"
   ]
  },
  {
   "cell_type": "code",
   "execution_count": null,
   "id": "ed9a802f-de65-438f-a61f-a78fa65ba343",
   "metadata": {},
   "outputs": [],
   "source": [
    "# model = create_model('qda')  # Exemple avec un Random Forest\n",
    "\n",
    "# tuned_model = tune_model(model, custom_grid={\n",
    "#     'priors':  [[0.25, 0.25, 0.25, 0.25], [0.3,0.3,0.2,0.2]], \n",
    "#     'reg_param': [0.1, 0.2, 0.3],\n",
    "#     'tol': [0.01, 0.1, 0.2]\n",
    "# })\n",
    "\n",
    "\n",
    "\n",
    "# model = create_model('rf')  # Exemple avec un Random Forest\n",
    "\n",
    "# tuned_model = tune_model(model, custom_grid={\n",
    "#     'n_estimators': [250,300,400],\n",
    "#     'max_depth': [10, 20, 30],\n",
    "#     'min_samples_split': [20,25,30],\n",
    "#     'min_samples_leaf':[20,25,30]\n",
    "# })\n",
    "\n",
    "\n",
    "model = create_model('xgboost', return_train_score = True)  # Exemple avec un Random Forest\n",
    "tuned_model = tune_model(model, custom_grid={\n",
    "\n",
    "'n_estimators': [300, 100, 400],\n",
    "        'learning_rate': [0.01, 0.1, 0.2],\n",
    "        'max_depth': [3, 5, 7]\n",
    "}) "
   ]
  },
  {
   "cell_type": "code",
   "execution_count": null,
   "id": "9012665f-1caa-4423-9636-1e2e9c73644d",
   "metadata": {},
   "outputs": [],
   "source": [
    "tuned_model"
   ]
  },
  {
   "cell_type": "code",
   "execution_count": null,
   "id": "53537684-bd42-41fc-aef7-f1649f0d8e11",
   "metadata": {},
   "outputs": [],
   "source": [
    "predictions = predict_model(tuned_model, data = X_train)\n",
    "predictions.head()"
   ]
  },
  {
   "cell_type": "code",
   "execution_count": null,
   "id": "975661b6-2449-4b6f-bc5c-af1b080f8ec3",
   "metadata": {},
   "outputs": [],
   "source": [
    "import mlflow "
   ]
  },
  {
   "cell_type": "code",
   "execution_count": null,
   "id": "59719895-7241-4bc9-a109-62805d3c31dc",
   "metadata": {},
   "outputs": [],
   "source": [
    "tuned_model"
   ]
  },
  {
   "cell_type": "code",
   "execution_count": null,
   "id": "a798af69-d541-4003-85f9-79ff72871621",
   "metadata": {},
   "outputs": [],
   "source": [
    "# tuned_models = []\n",
    "\n",
    "# # Appliquer la grille de paramètres personnalisée à chaque modèle\n",
    "# for model_name, grid in custom_grids.items():\n",
    "#     if model_name in best_model: \n",
    "#         model = get_model(model_name)\n",
    "#         tuned_model = tune_model(model, custom_grid=grid)\n",
    "#         tuned_models.append(tuned_model)\n",
    "\n",
    "# # Afficher les résultats des modèles tunés\n",
    "# for model in tuned_models:\n",
    "#     print(model) "
   ]
  },
  {
   "cell_type": "code",
   "execution_count": null,
   "id": "6e84e329-530d-4d8b-998c-6e733772fde0",
   "metadata": {},
   "outputs": [],
   "source": [
    "final_best_model = compare_models(models=tuned_models) "
   ]
  },
  {
   "cell_type": "code",
   "execution_count": null,
   "id": "3d9285d0-97f6-4d53-83c8-6bab2ba4a31b",
   "metadata": {},
   "outputs": [],
   "source": [
    "# tuned_best_model"
   ]
  },
  {
   "cell_type": "code",
   "execution_count": null,
   "id": "3fedafe3-efda-4264-b56e-bd5225314819",
   "metadata": {},
   "outputs": [],
   "source": [
    "predictions = predict_model(tuned_model, data = X_train)\n",
    "predictions.head()"
   ]
  },
  {
   "cell_type": "code",
   "execution_count": null,
   "id": "5819e5fb-0b6a-4c21-bbca-ec16be3084dc",
   "metadata": {},
   "outputs": [],
   "source": [
    "predictions['prediction_label'].unique()"
   ]
  },
  {
   "cell_type": "code",
   "execution_count": null,
   "id": "85d094ff-2316-406e-af3e-471f55204caa",
   "metadata": {},
   "outputs": [],
   "source": [
    "liste = [1 if l==p else 0 for l,p in zip(list(y_train),list(predictions['prediction_label']))] \n",
    "sum(liste)/len(liste) "
   ]
  },
  {
   "cell_type": "code",
   "execution_count": null,
   "id": "f6203ce8-aebb-41ed-89c2-746e9a72a6c3",
   "metadata": {},
   "outputs": [],
   "source": [
    "# plot confusion matrix\n",
    "plot_model(best, plot = 'confusion_matrix')"
   ]
  },
  {
   "cell_type": "code",
   "execution_count": null,
   "id": "0bce9483-716c-4a03-a44f-bec0e5e28bd9",
   "metadata": {},
   "outputs": [],
   "source": [
    "inspect.getsource(compare_models())"
   ]
  }
 ],
 "metadata": {
  "kernelspec": {
   "display_name": "Python 3 (ipykernel)",
   "language": "python",
   "name": "python3"
  },
  "language_info": {
   "codemirror_mode": {
    "name": "ipython",
    "version": 3
   },
   "file_extension": ".py",
   "mimetype": "text/x-python",
   "name": "python",
   "nbconvert_exporter": "python",
   "pygments_lexer": "ipython3",
   "version": "3.9.18"
  }
 },
 "nbformat": 4,
 "nbformat_minor": 5
}
