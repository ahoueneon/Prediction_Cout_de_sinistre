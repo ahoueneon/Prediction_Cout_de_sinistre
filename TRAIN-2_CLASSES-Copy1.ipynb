{
 "cells": [
  {
   "cell_type": "code",
   "execution_count": 1,
   "id": "bbb96655-96ef-4aae-90e0-e00c259e549c",
   "metadata": {},
   "outputs": [],
   "source": [
    "# !pip install pycaret \\\n",
    "#  torch \\\n",
    "#  torchvision \\\n",
    "#  transformers \\\n",
    "#  xgboost \\\n",
    "#  catboost \\\n",
    "#  seaborn"
   ]
  },
  {
   "cell_type": "code",
   "execution_count": 2,
   "id": "2c6a6bca-cc07-4b6e-83c8-2298823b6d22",
   "metadata": {},
   "outputs": [],
   "source": [
    "import pandas as pd \n",
    "pd.set_option('display.max_columns', None)  \n",
    "import matplotlib.pyplot as plt \n",
    "from PIL import Image, ImageFile, UnidentifiedImageError\n",
    "import os\n",
    "import pycaret \n",
    "ImageFile.LOAD_TRUNCATED_IMAGES = True \n",
    "import torch \n",
    "import torch.nn as nn\n",
    "import torch.optim as optim\n",
    "import torch.backends.cudnn as cudnn\n",
    "import torchvision \n",
    "from torchvision import datasets, models, transforms \n",
    "from tempfile import TemporaryDirectory \n",
    "from torch.utils.data import DataLoader \n",
    "from torch.utils.data import Dataset\n",
    "from torchvision.models import resnet18, resnet50, VGG19_Weights\n",
    "import warnings\n",
    "warnings.filterwarnings(\"ignore\")  \n",
    "import numpy as np\n",
    "from sklearn.ensemble import RandomForestClassifier\n",
    "\n",
    "# from sklearn.model_selection import train_test_split\n",
    "# import mlflow                                   \n",
    "# import mlflow.pytorch\n",
    "# Ignorer tous les avertissements\n",
    "# from torchmetrics.classification import Accuracy\n",
    "# from efficientnet_pytorch import EfficientNet\n",
    "# import numpy as np \n",
    "# import seaborn as sns\n",
    "# from sklearn.metrics import accuracy_score, precision_score, recall_score, f1_score\n",
    "# import pretrainedmodels "
   ]
  },
  {
   "cell_type": "code",
   "execution_count": null,
   "id": "d9b67016-1df6-461c-93ef-9be1c9439944",
   "metadata": {},
   "outputs": [],
   "source": []
  },
  {
   "cell_type": "code",
   "execution_count": 3,
   "id": "437ebb92-cbb2-4663-b4a3-46ec7fcb6ff6",
   "metadata": {},
   "outputs": [
    {
     "name": "stdout",
     "output_type": "stream",
     "text": [
      "34\n"
     ]
    }
   ],
   "source": [
    "n_files = 34 # Remplace ceci par le nombre exact de fichiers CSV que tu as\n",
    "\n",
    "# Crée une liste des chemins des fichiers CSV\n",
    "file_paths = [f'/opt/spark-apps/programs/Gohou/Data/Tabes/New_trans/df{i}.csv' for i in range(n_files)]\n",
    "\n",
    "# Lire les fichiers CSV et stocker les DataFrames dans une liste\n",
    "list_df = [pd.read_csv(file_path) for file_path in file_paths] \n",
    "print(len(list_df))\n",
    "df_final = pd.concat(list_df, ignore_index=True) "
   ]
  },
  {
   "cell_type": "code",
   "execution_count": 4,
   "id": "dea997ff-2451-40d8-bfe1-f379c07cc657",
   "metadata": {},
   "outputs": [],
   "source": [
    "df = df_final.copy()\n",
    "df.dropna(inplace=True)\n",
    "df.reset_index(drop=True, inplace=True)"
   ]
  },
  {
   "cell_type": "code",
   "execution_count": 5,
   "id": "17219b9f-2774-4084-a1b8-ce54ac44bb9d",
   "metadata": {},
   "outputs": [
    {
     "data": {
      "text/plain": [
       "cluster\n",
       "0    3408\n",
       "1    1770\n",
       "2     835\n",
       "3     484\n",
       "Name: count, dtype: int64"
      ]
     },
     "execution_count": 5,
     "metadata": {},
     "output_type": "execute_result"
    }
   ],
   "source": [
    "df[\"cluster\"].value_counts() "
   ]
  },
  {
   "cell_type": "code",
   "execution_count": 6,
   "id": "03da2e1a-105f-4f43-ace7-d135c95b75f0",
   "metadata": {},
   "outputs": [],
   "source": [
    "condition = {0:\"0\", 1:\"1\",2:\"1\",3:\"1\",}\n",
    "condition2 = {\"0\":0, \"1\":1}\n",
    "df[\"cluster\"] = df[\"cluster\"].map(condition)\n",
    "df[\"cluster\"] = df[\"cluster\"].map(condition2)"
   ]
  },
  {
   "cell_type": "code",
   "execution_count": 7,
   "id": "fd608f33-6595-457e-8c2a-aa7a5295d408",
   "metadata": {},
   "outputs": [
    {
     "data": {
      "text/plain": [
       "cluster\n",
       "0    3408\n",
       "1    3089\n",
       "Name: count, dtype: int64"
      ]
     },
     "execution_count": 7,
     "metadata": {},
     "output_type": "execute_result"
    }
   ],
   "source": [
    "df[\"cluster\"].value_counts() "
   ]
  },
  {
   "cell_type": "code",
   "execution_count": 8,
   "id": "d3f0c4a0-4fe5-479e-ad2a-195e1dcdb538",
   "metadata": {},
   "outputs": [],
   "source": [
    "import pickle\n",
    "from sklearn.decomposition import PCA\n",
    "from sklearn.preprocessing import StandardScaler\n",
    "\n",
    "X = df.drop(columns = [f'feature_{i}' for i in range(2433, 3201)], axis=1)\n",
    "X = X.drop(columns=['Unnamed: 0', 'id', 'CODEINTE_NUMEPOLI_CODERISQ', 'COUTS_SINISTRES', 'cluster'], axis =1)  # Variables indépendantes\n",
    "\n",
    "\n",
    "# Charger le modèle PCA\n",
    "with open('/opt/spark-apps/programs/Gohou/Data/Tabes/New_trans/ACP_SUP_2_CLASSES.pkl', 'rb') as acp:\n",
    "    pca = pickle.load(acp)\n",
    "\n",
    "# Charger le scaler\n",
    "with open('/opt/spark-apps/programs/Gohou/Data/Tabes/New_trans/scaler_SUP_2_CLASSES', 'rb') as scale:\n",
    "    scaler = pickle.load(scale)\n",
    "\n",
    "\n",
    "# Exemple de transformation avec le PCA et le scaler\n",
    "X_pca = pca.transform(scaler.transform(X))"
   ]
  },
  {
   "cell_type": "code",
   "execution_count": 9,
   "id": "28b840a9-562d-449c-9b83-82160157eeff",
   "metadata": {},
   "outputs": [],
   "source": [
    "# # %%cudf.pandas.profile\n",
    "# from sklearn.decomposition import PCA\n",
    "# from sklearn.preprocessing import StandardScaler\n",
    "\n",
    "# X = df.drop(columns = [f'feature_{i}' for i in range(2433, 3201)], axis=1)\n",
    "# X = X.drop(columns=['Unnamed: 0', 'id', 'CODEINTE_NUMEPOLI_CODERISQ', 'COUTS_SINISTRES', 'cluster'], axis =1)  # Variables indépendantes\n",
    "\n",
    "# # Étape 1 : Normalisation des données\n",
    "# scaler = StandardScaler() \n",
    "# X_scaled = scaler.fit_transform(X)  # Normaliser tes données (X est ton jeu de données)\n",
    "\n",
    "# # Étape 2 : Application de l'ACP\n",
    "# pca = PCA(n_components = 0.8)  # Conserver 95% de la variance expliquée\n",
    "# X_pca = pca.fit_transform(X_scaled) \n",
    "\n",
    "# # Afficher la variance expliquée par chaque composante principale\n",
    "# print(\"Variance expliquée par chaque composante principale : \", sum(pca.explained_variance_ratio_))\n",
    "# print(\"Nombre de composantes principales sélectionnées : \", pca.n_components_)  "
   ]
  },
  {
   "cell_type": "code",
   "execution_count": 10,
   "id": "a9b4e62d-91c2-4280-8af0-7ee267c7f6ad",
   "metadata": {},
   "outputs": [],
   "source": [
    "# import pickle\n",
    "\n",
    "# # Enregistrer le modèle\n",
    "# with open('/opt/spark-apps/programs/Gohou/Data/Tabes/New_trans/ACP_SUP_2_CLASSES.pkl', 'wb') as acp:\n",
    "#     pickle.dump(pca, acp)  \n",
    "\n",
    "# with open('/opt/spark-apps/programs/Gohou/Data/Tabes/New_trans/scaler_SUP_2_CLASSES', 'wb') as scale:\n",
    "#     pickle.dump(scaler, scale)  "
   ]
  },
  {
   "cell_type": "code",
   "execution_count": 11,
   "id": "f248cf38-8d8b-4bb0-822d-ef9f9e17e527",
   "metadata": {},
   "outputs": [
    {
     "data": {
      "text/plain": [
       "(6497, 763)"
      ]
     },
     "execution_count": 11,
     "metadata": {},
     "output_type": "execute_result"
    }
   ],
   "source": [
    "X_pca_df = pd.DataFrame(X_pca, columns=[f\"PC{i+1}\" for i in range(X_pca.shape[1])])\n",
    "df1 = pd.concat([X_pca_df, df[['id', 'CODEINTE_NUMEPOLI_CODERISQ', 'COUTS_SINISTRES', 'cluster']]], axis=1) \n",
    "df1.shape"
   ]
  },
  {
   "cell_type": "code",
   "execution_count": 12,
   "id": "ab8c4f13-a633-4dd3-9935-4ba5df698a0c",
   "metadata": {},
   "outputs": [
    {
     "data": {
      "text/plain": [
       "cluster\n",
       "0    3408\n",
       "1    3089\n",
       "Name: count, dtype: int64"
      ]
     },
     "execution_count": 12,
     "metadata": {},
     "output_type": "execute_result"
    }
   ],
   "source": [
    "df['cluster'].value_counts()"
   ]
  },
  {
   "cell_type": "code",
   "execution_count": 13,
   "id": "cd64fabf-e0e7-45e2-b90b-b5b69a6fd314",
   "metadata": {},
   "outputs": [],
   "source": [
    "df1.to_csv('/opt/spark-apps/programs/Gohou/Data/Tabes/New_trans/Final_2_CLASSES.csv') "
   ]
  },
  {
   "cell_type": "code",
   "execution_count": 14,
   "id": "043c69e8-a6a1-49cd-887b-650e0ed8c583",
   "metadata": {},
   "outputs": [],
   "source": [
    "# df = pd.read_csv('/opt/spark-apps/programs/Gohou/Data/Tabes/New_trans/.csv') "
   ]
  },
  {
   "cell_type": "code",
   "execution_count": null,
   "id": "4cdc26a9-b844-4c9b-bb8c-7dadb0787dc0",
   "metadata": {},
   "outputs": [],
   "source": []
  },
  {
   "cell_type": "code",
   "execution_count": 15,
   "id": "e4c9eb45-2102-46b1-a327-2280368fec89",
   "metadata": {},
   "outputs": [],
   "source": [
    "from imblearn.under_sampling import RandomUnderSampler\n",
    "from sklearn.model_selection import train_test_split\n",
    "from sklearn.ensemble import RandomForestClassifier\n",
    "from sklearn.metrics import classification_report"
   ]
  },
  {
   "cell_type": "code",
   "execution_count": 16,
   "id": "1959c5a8-d386-4250-adf8-8902fcc5adb1",
   "metadata": {},
   "outputs": [
    {
     "name": "stdout",
     "output_type": "stream",
     "text": [
      "Distribution des classes avant suréchantillonnage : Counter({0: 2556, 1: 2316})\n"
     ]
    }
   ],
   "source": [
    "df = df1.copy()\n",
    "from imblearn.over_sampling import SMOTE\n",
    "from collections import Counter\n",
    "X = df.drop(columns='cluster')  # Variables indépendantes\n",
    "y = df['cluster'] \n",
    "\n",
    "# # Séparation des données en ensembles d'entraînement et de test\n",
    "X_train1, X_test1, y_train, y_test = train_test_split(X, y, test_size=0.25, random_state=42,stratify=y)\n",
    "X_train, X_test = X_train1.drop(columns=['id', 'CODEINTE_NUMEPOLI_CODERISQ', 'COUTS_SINISTRES']),  X_test1.drop(columns=['id', 'CODEINTE_NUMEPOLI_CODERISQ', 'COUTS_SINISTRES'])\n",
    "\n",
    "# # Application de SMOTE pour suréchantillonner la classe minoritaire\n",
    "# smote = SMOTE(random_state=42)\n",
    "# X_train_resampled, y_train_resampled = smote.fit_resample(X_train, y_train)\n",
    "\n",
    "# # Vérifier la distribution des classes après suréchantillonnage\n",
    "print(\"Distribution des classes avant suréchantillonnage :\", Counter(y_train))\n",
    "# print(\"Distribution des classes après suréchantillonnage :\", Counter(y_train_resampled)) "
   ]
  },
  {
   "cell_type": "code",
   "execution_count": 17,
   "id": "d308a6f1-07ad-4ee4-8446-b227bc71e53c",
   "metadata": {},
   "outputs": [],
   "source": [
    "import time\n",
    "import xgboost as xgb\n",
    "from sklearn.svm import SVC\n",
    "from lightgbm import LGBMClassifier\n",
    "from catboost import CatBoostClassifier\n",
    "from sklearn.neighbors import KNeighborsClassifier\n",
    "from sklearn.tree import DecisionTreeClassifier, DecisionTreeRegressor\n",
    "from sklearn.ensemble import RandomForestClassifier, GradientBoostingClassifier, AdaBoostClassifier, BaggingClassifier\n",
    "from sklearn.metrics import classification_report, accuracy_score, confusion_matrix, f1_score\n",
    "from sklearn.model_selection import cross_val_score, KFold,cross_val_predict, train_test_split,GridSearchCV\n",
    "from sklearn.linear_model import LinearRegression,LogisticRegression,ElasticNet, Ridge, Lasso\n",
    "from sklearn.discriminant_analysis import LinearDiscriminantAnalysis, QuadraticDiscriminantAnalysis"
   ]
  },
  {
   "cell_type": "code",
   "execution_count": 18,
   "id": "88f09afe-c995-43f0-840b-71ef011b593e",
   "metadata": {},
   "outputs": [],
   "source": [
    "a = int(np.sqrt(len(X_train.columns))) \n",
    "dico = {\n",
    "    'logistic': LogisticRegression(),\n",
    "    'elastic': LogisticRegression(penalty=\"elasticnet\", solver=\"saga\"),  #met beaucoup de temps \n",
    "    'ridge': LogisticRegression(penalty=\"l2\"),\n",
    "    'lasso': LogisticRegression(penalty=\"l1\"),\n",
    "    'Arbre': DecisionTreeClassifier(),\n",
    "    'Random': RandomForestClassifier(), \n",
    "    'xgb': xgb.XGBClassifier(),\n",
    "    'knn': KNeighborsClassifier(),\n",
    "    'Gradient_boosting': GradientBoostingClassifier(),\n",
    "    'adaboost_classifier': AdaBoostClassifier(),\n",
    "    'Bagging': BaggingClassifier(DecisionTreeClassifier(max_depth=7)), \n",
    "    'SVM': SVC(),\n",
    "    'LDA': LinearDiscriminantAnalysis(),\n",
    "    'QDA': QuadraticDiscriminantAnalysis(),\n",
    "    'lightgbm': LGBMClassifier(),  # Ajout de LightGBM\n",
    "    'catboost': CatBoostClassifier(verbose=0)  # Ajout de CatBoost\n",
    "}\n",
    "\n",
    "param = [ \n",
    "    {\"C\": [0.1], \"max_iter\": [10000]},\n",
    "    {\"C\": [0.1], \"l1_ratio\": [0.1, 0.5, 0.7], \"max_iter\": [10000]},\n",
    "    {\"C\": [0.1], \"solver\": [\"sag\", \"lbfgs\", \"liblinear\"], \"max_iter\": [10000]}, # C grand surapprentissage \n",
    "    {\"C\": [0.1], \"solver\": [\"liblinear\"], \"max_iter\": [10000]},\n",
    "    {\"max_depth\": [10], \"min_samples_split\": [10], \"min_samples_leaf\": [5]},\n",
    "    {\"n_estimators\": [100], \"min_samples_leaf\": [5], \"max_features\": [0.6], \"max_depth\": [10]},\n",
    "    {'colsample_bytree': [0.6], \"n_estimators\": [100], \"max_depth\": [2, 3], \"objective\":['binary:logistic'], \"subsample\": [0.7]}, \n",
    "    {'n_neighbors': [10, 15], \"algorithm\": [\"auto\",\"ball_tree\"]}, # k petit surapprentissage \n",
    "    {\"n_estimators\": [100], \"max_depth\": [3], \"learning_rate\": [0.1], \"min_samples_split\": [10], \"min_samples_leaf\": [7], \"subsample\": [0.6]},\n",
    "    {\"n_estimators\": [100], \"learning_rate\": [0.1], \"algorithm\": [\"SAMME\", \"SAMME.R\"]}, #learning_rate petit => sous (0.01) mais fusionner avec beaucpoup d'arbre, grand => surapp, apprend rapidment et mieux avec moins d'arbre \n",
    "    {\"n_estimators\": [100], \"max_features\": [0.6], \"max_samples\":[0.6]},\n",
    "    {\"kernel\": ['linear', 'rbf'], \"C\": [0.5], \"gamma\": [\"scale\", \"auto\"]}, #C grand => surapprentisage\n",
    "    {\"solver\": [\"eigen\", \"lsqr\"], \"shrinkage\": [\"auto\"]}, \n",
    "    {\"reg_param\": [1], \"tol\": [0.05]},\n",
    "    {\"n_estimators\": [100], \"learning_rate\": [0.1], \"max_depth\": [3], \"num_leaves\": [10, 15], \"colsample_bytree\": [0.6], \"force_row_wise\": [True], 'verbose': [-1], \"min_child_samples\": [10]},\n",
    "    {\"iterations\": [100], \"depth\": [3], \"learning_rate\": [0.1], \"l2_leaf_reg\": [3]} \n",
    "] "
   ]
  },
  {
   "cell_type": "code",
   "execution_count": 19,
   "id": "6dc4d799-fbc9-4957-abba-017009f69cd9",
   "metadata": {},
   "outputs": [],
   "source": [
    "def train_model(nom_model, dico, param, X_train, y_train, kf, out):\n",
    "    model = dico[nom_model]\n",
    "    model_cv = GridSearchCV(model, param_grid=param, cv=kf, scoring=\"accuracy\", error_score=\"raise\")  # Utiliser \"f1\" au lieu de \"f1_score\"\n",
    "    temps_debut = time.time() \n",
    "    model_cv.fit(X_train, y_train) \n",
    "    temps_fin = time.time() \n",
    "    # temps_execution = temps_fin - temps_debut\n",
    "    out[nom_model]={\"best_model\":model_cv.best_estimator_,\"meilleurs_parametres\":model_cv.best_params_, \"Accuracy\": model_cv.best_score_,\"temps\":[time.ctime(temps_debut), time.ctime(temps_fin)]}\n",
    "    print(f'-----------------  Entrainement de {nom_model} est terminé  -----------------') "
   ]
  },
  {
   "cell_type": "code",
   "execution_count": 20,
   "id": "9b8d5f52-ef15-4565-8b51-a764668ec09d",
   "metadata": {},
   "outputs": [],
   "source": [
    "# %%cudf.pandas.profile\n",
    "import threading\n",
    "kf = KFold(n_splits=5, shuffle=True, random_state=42)\n",
    "out = {}\n",
    "threads = []\n",
    "\n",
    "# Launch a thread for each model in the dictionary\n",
    "for i, nom_model in enumerate(dico):\n",
    "    param_v = param[i]\n",
    "    thread = threading.Thread(target=train_model, args=(nom_model, dico, param_v, X_train, y_train, kf, out))\n",
    "    threads.append(thread)\n",
    "    thread.start() "
   ]
  },
  {
   "cell_type": "code",
   "execution_count": 24,
   "id": "feb3450a-2c41-489e-bae1-ee04f3883683",
   "metadata": {},
   "outputs": [
    {
     "data": {
      "text/html": [
       "<div>\n",
       "<style scoped>\n",
       "    .dataframe tbody tr th:only-of-type {\n",
       "        vertical-align: middle;\n",
       "    }\n",
       "\n",
       "    .dataframe tbody tr th {\n",
       "        vertical-align: top;\n",
       "    }\n",
       "\n",
       "    .dataframe thead th {\n",
       "        text-align: right;\n",
       "    }\n",
       "</style>\n",
       "<table border=\"1\" class=\"dataframe\">\n",
       "  <thead>\n",
       "    <tr style=\"text-align: right;\">\n",
       "      <th></th>\n",
       "      <th>best_model</th>\n",
       "      <th>meilleurs_parametres</th>\n",
       "      <th>Accuracy</th>\n",
       "      <th>temps</th>\n",
       "    </tr>\n",
       "  </thead>\n",
       "  <tbody>\n",
       "    <tr>\n",
       "      <th>lasso</th>\n",
       "      <td>LogisticRegression(C=0.01, max_iter=10000, pen...</td>\n",
       "      <td>{'C': 0.01, 'max_iter': 10000, 'solver': 'libl...</td>\n",
       "      <td>0.636703</td>\n",
       "      <td>[Sat Nov 16 17:29:53 2024, Sat Nov 16 17:30:35...</td>\n",
       "    </tr>\n",
       "    <tr>\n",
       "      <th>Arbre</th>\n",
       "      <td>DecisionTreeClassifier(max_depth=10, min_sampl...</td>\n",
       "      <td>{'max_depth': 10, 'min_samples_leaf': 5, 'min_...</td>\n",
       "      <td>0.547003</td>\n",
       "      <td>[Sat Nov 16 17:29:53 2024, Sat Nov 16 17:33:58...</td>\n",
       "    </tr>\n",
       "    <tr>\n",
       "      <th>elastic</th>\n",
       "      <td>LogisticRegression(C=0.01, l1_ratio=0.5, max_i...</td>\n",
       "      <td>{'C': 0.01, 'l1_ratio': 0.5, 'max_iter': 10000}</td>\n",
       "      <td>0.638755</td>\n",
       "      <td>[Sat Nov 16 17:29:53 2024, Sat Nov 16 17:37:24...</td>\n",
       "    </tr>\n",
       "    <tr>\n",
       "      <th>knn</th>\n",
       "      <td>KNeighborsClassifier(n_neighbors=15)</td>\n",
       "      <td>{'algorithm': 'auto', 'n_neighbors': 15}</td>\n",
       "      <td>0.624384</td>\n",
       "      <td>[Sat Nov 16 17:29:54 2024, Sat Nov 16 17:42:25...</td>\n",
       "    </tr>\n",
       "    <tr>\n",
       "      <th>LDA</th>\n",
       "      <td>LinearDiscriminantAnalysis(shrinkage='auto', s...</td>\n",
       "      <td>{'shrinkage': 'auto', 'solver': 'eigen'}</td>\n",
       "      <td>0.606323</td>\n",
       "      <td>[Sat Nov 16 17:29:57 2024, Sat Nov 16 17:42:25...</td>\n",
       "    </tr>\n",
       "    <tr>\n",
       "      <th>logistic</th>\n",
       "      <td>LogisticRegression(C=0.01, max_iter=10000)</td>\n",
       "      <td>{'C': 0.01, 'max_iter': 10000}</td>\n",
       "      <td>0.612272</td>\n",
       "      <td>[Sat Nov 16 17:29:53 2024, Sat Nov 16 17:42:36...</td>\n",
       "    </tr>\n",
       "    <tr>\n",
       "      <th>ridge</th>\n",
       "      <td>LogisticRegression(C=0.01, max_iter=10000, sol...</td>\n",
       "      <td>{'C': 0.01, 'max_iter': 10000, 'solver': 'libl...</td>\n",
       "      <td>0.613503</td>\n",
       "      <td>[Sat Nov 16 17:29:53 2024, Sat Nov 16 17:42:39...</td>\n",
       "    </tr>\n",
       "    <tr>\n",
       "      <th>QDA</th>\n",
       "      <td>QuadraticDiscriminantAnalysis(reg_param=0.7, t...</td>\n",
       "      <td>{'reg_param': 0.7, 'tol': 0.1}</td>\n",
       "      <td>0.609399</td>\n",
       "      <td>[Sat Nov 16 17:29:57 2024, Sat Nov 16 18:01:30...</td>\n",
       "    </tr>\n",
       "    <tr>\n",
       "      <th>xgb</th>\n",
       "      <td>XGBClassifier(base_score=None, booster=None, c...</td>\n",
       "      <td>{'colsample_bytree': 0.7, 'max_depth': 2, 'n_e...</td>\n",
       "      <td>0.601396</td>\n",
       "      <td>[Sat Nov 16 17:29:54 2024, Sat Nov 16 18:01:57...</td>\n",
       "    </tr>\n",
       "    <tr>\n",
       "      <th>Bagging</th>\n",
       "      <td>(DecisionTreeClassifier(max_depth=7, random_st...</td>\n",
       "      <td>{'max_features': 0.7, 'max_samples': 0.7, 'n_e...</td>\n",
       "      <td>0.616175</td>\n",
       "      <td>[Sat Nov 16 17:29:55 2024, Sat Nov 16 18:08:16...</td>\n",
       "    </tr>\n",
       "    <tr>\n",
       "      <th>catboost</th>\n",
       "      <td>&lt;catboost.core.CatBoostClassifier object at 0x...</td>\n",
       "      <td>{'depth': 3, 'iterations': 1000, 'l2_leaf_reg'...</td>\n",
       "      <td>0.616377</td>\n",
       "      <td>[Sat Nov 16 17:29:59 2024, Sat Nov 16 18:09:35...</td>\n",
       "    </tr>\n",
       "    <tr>\n",
       "      <th>Random</th>\n",
       "      <td>(DecisionTreeClassifier(max_depth=10, max_feat...</td>\n",
       "      <td>{'max_depth': 10, 'max_features': 0.6, 'min_sa...</td>\n",
       "      <td>0.619459</td>\n",
       "      <td>[Sat Nov 16 17:29:54 2024, Sat Nov 16 18:48:57...</td>\n",
       "    </tr>\n",
       "    <tr>\n",
       "      <th>SVM</th>\n",
       "      <td>SVC(C=0.5)</td>\n",
       "      <td>{'C': 0.5, 'gamma': 'scale', 'kernel': 'rbf'}</td>\n",
       "      <td>0.646761</td>\n",
       "      <td>[Sat Nov 16 17:29:55 2024, Sat Nov 16 19:30:34...</td>\n",
       "    </tr>\n",
       "    <tr>\n",
       "      <th>adaboost_classifier</th>\n",
       "      <td>(DecisionTreeClassifier(max_depth=1, random_st...</td>\n",
       "      <td>{'algorithm': 'SAMME', 'learning_rate': 0.3, '...</td>\n",
       "      <td>0.611864</td>\n",
       "      <td>[Sat Nov 16 17:29:55 2024, Sat Nov 16 20:45:39...</td>\n",
       "    </tr>\n",
       "    <tr>\n",
       "      <th>Gradient_boosting</th>\n",
       "      <td>([DecisionTreeRegressor(criterion='friedman_ms...</td>\n",
       "      <td>{'learning_rate': 0.1, 'max_depth': 3, 'min_sa...</td>\n",
       "      <td>0.617404</td>\n",
       "      <td>[Sat Nov 16 17:29:54 2024, Sat Nov 16 22:10:28...</td>\n",
       "    </tr>\n",
       "    <tr>\n",
       "      <th>lightgbm</th>\n",
       "      <td>LGBMClassifier(colsample_bytree=0.5, force_row...</td>\n",
       "      <td>{'colsample_bytree': 0.5, 'force_row_wise': Tr...</td>\n",
       "      <td>0.621300</td>\n",
       "      <td>[Sat Nov 16 17:29:58 2024, Mon Nov 18 01:03:50...</td>\n",
       "    </tr>\n",
       "  </tbody>\n",
       "</table>\n",
       "</div>"
      ],
      "text/plain": [
       "                                                            best_model  \\\n",
       "lasso                LogisticRegression(C=0.01, max_iter=10000, pen...   \n",
       "Arbre                DecisionTreeClassifier(max_depth=10, min_sampl...   \n",
       "elastic              LogisticRegression(C=0.01, l1_ratio=0.5, max_i...   \n",
       "knn                               KNeighborsClassifier(n_neighbors=15)   \n",
       "LDA                  LinearDiscriminantAnalysis(shrinkage='auto', s...   \n",
       "logistic                    LogisticRegression(C=0.01, max_iter=10000)   \n",
       "ridge                LogisticRegression(C=0.01, max_iter=10000, sol...   \n",
       "QDA                  QuadraticDiscriminantAnalysis(reg_param=0.7, t...   \n",
       "xgb                  XGBClassifier(base_score=None, booster=None, c...   \n",
       "Bagging              (DecisionTreeClassifier(max_depth=7, random_st...   \n",
       "catboost             <catboost.core.CatBoostClassifier object at 0x...   \n",
       "Random               (DecisionTreeClassifier(max_depth=10, max_feat...   \n",
       "SVM                                                         SVC(C=0.5)   \n",
       "adaboost_classifier  (DecisionTreeClassifier(max_depth=1, random_st...   \n",
       "Gradient_boosting    ([DecisionTreeRegressor(criterion='friedman_ms...   \n",
       "lightgbm             LGBMClassifier(colsample_bytree=0.5, force_row...   \n",
       "\n",
       "                                                  meilleurs_parametres  \\\n",
       "lasso                {'C': 0.01, 'max_iter': 10000, 'solver': 'libl...   \n",
       "Arbre                {'max_depth': 10, 'min_samples_leaf': 5, 'min_...   \n",
       "elastic                {'C': 0.01, 'l1_ratio': 0.5, 'max_iter': 10000}   \n",
       "knn                           {'algorithm': 'auto', 'n_neighbors': 15}   \n",
       "LDA                           {'shrinkage': 'auto', 'solver': 'eigen'}   \n",
       "logistic                                {'C': 0.01, 'max_iter': 10000}   \n",
       "ridge                {'C': 0.01, 'max_iter': 10000, 'solver': 'libl...   \n",
       "QDA                                     {'reg_param': 0.7, 'tol': 0.1}   \n",
       "xgb                  {'colsample_bytree': 0.7, 'max_depth': 2, 'n_e...   \n",
       "Bagging              {'max_features': 0.7, 'max_samples': 0.7, 'n_e...   \n",
       "catboost             {'depth': 3, 'iterations': 1000, 'l2_leaf_reg'...   \n",
       "Random               {'max_depth': 10, 'max_features': 0.6, 'min_sa...   \n",
       "SVM                      {'C': 0.5, 'gamma': 'scale', 'kernel': 'rbf'}   \n",
       "adaboost_classifier  {'algorithm': 'SAMME', 'learning_rate': 0.3, '...   \n",
       "Gradient_boosting    {'learning_rate': 0.1, 'max_depth': 3, 'min_sa...   \n",
       "lightgbm             {'colsample_bytree': 0.5, 'force_row_wise': Tr...   \n",
       "\n",
       "                     Accuracy  \\\n",
       "lasso                0.636703   \n",
       "Arbre                0.547003   \n",
       "elastic              0.638755   \n",
       "knn                  0.624384   \n",
       "LDA                  0.606323   \n",
       "logistic             0.612272   \n",
       "ridge                0.613503   \n",
       "QDA                  0.609399   \n",
       "xgb                  0.601396   \n",
       "Bagging              0.616175   \n",
       "catboost             0.616377   \n",
       "Random               0.619459   \n",
       "SVM                  0.646761   \n",
       "adaboost_classifier  0.611864   \n",
       "Gradient_boosting    0.617404   \n",
       "lightgbm             0.621300   \n",
       "\n",
       "                                                                 temps  \n",
       "lasso                [Sat Nov 16 17:29:53 2024, Sat Nov 16 17:30:35...  \n",
       "Arbre                [Sat Nov 16 17:29:53 2024, Sat Nov 16 17:33:58...  \n",
       "elastic              [Sat Nov 16 17:29:53 2024, Sat Nov 16 17:37:24...  \n",
       "knn                  [Sat Nov 16 17:29:54 2024, Sat Nov 16 17:42:25...  \n",
       "LDA                  [Sat Nov 16 17:29:57 2024, Sat Nov 16 17:42:25...  \n",
       "logistic             [Sat Nov 16 17:29:53 2024, Sat Nov 16 17:42:36...  \n",
       "ridge                [Sat Nov 16 17:29:53 2024, Sat Nov 16 17:42:39...  \n",
       "QDA                  [Sat Nov 16 17:29:57 2024, Sat Nov 16 18:01:30...  \n",
       "xgb                  [Sat Nov 16 17:29:54 2024, Sat Nov 16 18:01:57...  \n",
       "Bagging              [Sat Nov 16 17:29:55 2024, Sat Nov 16 18:08:16...  \n",
       "catboost             [Sat Nov 16 17:29:59 2024, Sat Nov 16 18:09:35...  \n",
       "Random               [Sat Nov 16 17:29:54 2024, Sat Nov 16 18:48:57...  \n",
       "SVM                  [Sat Nov 16 17:29:55 2024, Sat Nov 16 19:30:34...  \n",
       "adaboost_classifier  [Sat Nov 16 17:29:55 2024, Sat Nov 16 20:45:39...  \n",
       "Gradient_boosting    [Sat Nov 16 17:29:54 2024, Sat Nov 16 22:10:28...  \n",
       "lightgbm             [Sat Nov 16 17:29:58 2024, Mon Nov 18 01:03:50...  "
      ]
     },
     "execution_count": 24,
     "metadata": {},
     "output_type": "execute_result"
    }
   ],
   "source": [
    "out_1  = pd.DataFrame.from_dict(out, orient='index')\n",
    "out_1\n",
    "# out_1.loc[['lasso','knn'],:].head() "
   ]
  },
  {
   "cell_type": "code",
   "execution_count": 77,
   "id": "2b62ab79-ad1c-418f-9f8a-06bce9edf2cc",
   "metadata": {},
   "outputs": [
    {
     "data": {
      "text/plain": [
       "{'colsample_bytree': 0.5,\n",
       " 'force_row_wise': True,\n",
       " 'learning_rate': 0.3,\n",
       " 'max_depth': 5,\n",
       " 'n_estimators': 1000,\n",
       " 'num_leaves': 40,\n",
       " 'verbose': -1}"
      ]
     },
     "execution_count": 77,
     "metadata": {},
     "output_type": "execute_result"
    }
   ],
   "source": [
    "out_1.loc['lightgbm','meilleurs_parametres']"
   ]
  },
  {
   "cell_type": "code",
   "execution_count": null,
   "id": "64af62d4-98b3-4664-a874-07164e47e039",
   "metadata": {},
   "outputs": [],
   "source": [
    "# Pour s'assurer que tous les threads individuelles soient terminés avant que le thread principal prenne le relai. \n",
    "# On en pas besoin si on sait à quel moment tous nos threads vont tous se stopper \n",
    "\n",
    "for thread in threads:\n",
    "    thread.join() \n",
    "print(out) "
   ]
  },
  {
   "cell_type": "markdown",
   "id": "ce334976-6f1f-4cde-8d3c-7019dda512d3",
   "metadata": {},
   "source": [
    "### CHOIX DU MEILLEUR MODELE "
   ]
  },
  {
   "cell_type": "code",
   "execution_count": 21,
   "id": "a92037ed-8aba-4b6a-8a71-b4ffcaa47dff",
   "metadata": {},
   "outputs": [],
   "source": [
    "def train_best(out, result, position): \n",
    "    kf = KFold(n_splits=10, shuffle=True, random_state=42) \n",
    "    model = list(out.values())[position][\"best_model\"] \n",
    "    nom = list(out.keys())[position]  \n",
    "    predictions = cross_val_predict(model, X_train, y_train, cv = kf)\n",
    "    result[nom] = {\"Modele\":model, \"Accuracy_Score\": accuracy_score(y_train, predictions)} \n",
    "    print(f'----------------- Entrainement de {nom} est terminé --------------------') "
   ]
  },
  {
   "cell_type": "code",
   "execution_count": null,
   "id": "a852dcb4-0c31-4ff5-b39c-5273e7908090",
   "metadata": {},
   "outputs": [],
   "source": []
  },
  {
   "cell_type": "code",
   "execution_count": 22,
   "id": "9633c935-e3a0-4e64-9422-4dff3112a7f0",
   "metadata": {},
   "outputs": [],
   "source": [
    "result = {}\n",
    "threads_best = [] \n",
    "\n",
    "# Launch a thread for each model in the dictionary\n",
    "for i, nom_model in enumerate(out):\n",
    "    position = i\n",
    "    thread1 = threading.Thread(target=train_best, args=(out, result, position))\n",
    "    threads_best.append(thread1)\n",
    "    thread1.start()   "
   ]
  },
  {
   "cell_type": "code",
   "execution_count": null,
   "id": "02493a13-198b-400e-a248-2696bb2bc0a3",
   "metadata": {},
   "outputs": [],
   "source": []
  },
  {
   "cell_type": "code",
   "execution_count": 25,
   "id": "41cd51b9-f849-4fbd-805d-f81fe62082d0",
   "metadata": {},
   "outputs": [
    {
     "data": {
      "text/html": [
       "<div>\n",
       "<style scoped>\n",
       "    .dataframe tbody tr th:only-of-type {\n",
       "        vertical-align: middle;\n",
       "    }\n",
       "\n",
       "    .dataframe tbody tr th {\n",
       "        vertical-align: top;\n",
       "    }\n",
       "\n",
       "    .dataframe thead th {\n",
       "        text-align: right;\n",
       "    }\n",
       "</style>\n",
       "<table border=\"1\" class=\"dataframe\">\n",
       "  <thead>\n",
       "    <tr style=\"text-align: right;\">\n",
       "      <th></th>\n",
       "    </tr>\n",
       "  </thead>\n",
       "  <tbody>\n",
       "  </tbody>\n",
       "</table>\n",
       "</div>"
      ],
      "text/plain": [
       "Empty DataFrame\n",
       "Columns: []\n",
       "Index: []"
      ]
     },
     "execution_count": 25,
     "metadata": {},
     "output_type": "execute_result"
    }
   ],
   "source": [
    "df_result = pd.DataFrame.from_dict(result, orient='index') \n",
    "df_result "
   ]
  },
  {
   "cell_type": "code",
   "execution_count": 89,
   "id": "01fe318c-f8be-43f1-a877-321846b93d5b",
   "metadata": {},
   "outputs": [
    {
     "name": "stdout",
     "output_type": "stream",
     "text": [
      "0.6892084588695716\n",
      "0.6896551724137931\n"
     ]
    }
   ],
   "source": [
    "# y_pred = out_1.loc[\"elastic\",\"best_model\"].predict(X_test)\n",
    "# f1_test = f1_score(y_test, y_pred, average='weighted')\n",
    "# acc_test = accuracy_score(y_test, y_pred)\n",
    "# X_train_resampled, y_train_resampled\n",
    "y_pred1 = out_1.loc[\"elastic\",\"best_model\"].predict(X_train)\n",
    "f1_test = f1_score(y_train, y_pred1, average='weighted')\n",
    "acc_test = accuracy_score(y_train, y_pred1)\n",
    "print(f1_test) \n",
    "print(acc_test) "
   ]
  },
  {
   "cell_type": "code",
   "execution_count": 90,
   "id": "ff18db00-9e2c-4cb8-9698-529e2b905d85",
   "metadata": {},
   "outputs": [
    {
     "name": "stdout",
     "output_type": "stream",
     "text": [
      "              precision    recall  f1-score   support\n",
      "\n",
      "           0       0.67      0.69      0.68       852\n",
      "           1       0.64      0.62      0.63       773\n",
      "\n",
      "    accuracy                           0.66      1625\n",
      "   macro avg       0.66      0.65      0.65      1625\n",
      "weighted avg       0.66      0.66      0.66      1625\n",
      "\n"
     ]
    },
    {
     "data": {
      "image/png": "[encoded data removed]",
      "text/plain": [
       "<Figure size 800x600 with 1 Axes>"
      ]
     },
     "metadata": {},
     "output_type": "display_data"
    }
   ],
   "source": [
    "import seaborn as sns \n",
    "print(classification_report(y_test, y_pred)) \n",
    "cm = confusion_matrix(y_test, y_pred)\n",
    "# print(classification_report(y_train_resampled, y_pred1)) \n",
    "# cm = confusion_matrix(y_train_resampled, y_pred1)\n",
    "cm_percent = cm.astype('float') / cm.sum(axis=1)[:, np.newaxis] * 100  # Convertir en pourcentages\n",
    "# Affichage de la matrice de confusion avec les pourcentages\n",
    "plt.figure(figsize=(8, 6))\n",
    "sns.heatmap(cm_percent, annot=True, fmt=\".2f\", cmap=\"Blues\", cbar=False)\n",
    "plt.xlabel('Predicted Label')\n",
    "plt.ylabel('True Label')\n",
    "plt.title('Confusion Matrix (in %)')\n",
    "plt.show() "
   ]
  },
  {
   "cell_type": "code",
   "execution_count": 246,
   "id": "8a701f16-9c53-4004-8607-d01c94ce522d",
   "metadata": {},
   "outputs": [],
   "source": [
    "out_1.loc[\"Bagging\",\"meilleurs_parametres\"]\n",
    "with open('/opt/spark-apps/programs/Gohou/Data/Tabes/New_trans/Bagging.pkl', 'wb') as bagging:\n",
    "    pickle.dump(out_1.loc[\"Bagging\",\"best_model\"], bagging)"
   ]
  },
  {
   "cell_type": "code",
   "execution_count": 247,
   "id": "7788fc0d-2b6e-4590-b88f-c35c7140e232",
   "metadata": {},
   "outputs": [
    {
     "data": {
      "text/plain": [
       "array([2, 3, 2, ..., 0, 0, 0])"
      ]
     },
     "execution_count": 247,
     "metadata": {},
     "output_type": "execute_result"
    }
   ],
   "source": [
    "y_pred"
   ]
  },
  {
   "cell_type": "code",
   "execution_count": 91,
   "id": "f11410c5-0ef2-498e-991f-1bc0af4c4cf9",
   "metadata": {},
   "outputs": [
    {
     "data": {
      "text/html": [
       "<div>\n",
       "<style scoped>\n",
       "    .dataframe tbody tr th:only-of-type {\n",
       "        vertical-align: middle;\n",
       "    }\n",
       "\n",
       "    .dataframe tbody tr th {\n",
       "        vertical-align: top;\n",
       "    }\n",
       "\n",
       "    .dataframe thead th {\n",
       "        text-align: right;\n",
       "    }\n",
       "</style>\n",
       "<table border=\"1\" class=\"dataframe\">\n",
       "  <thead>\n",
       "    <tr style=\"text-align: right;\">\n",
       "      <th></th>\n",
       "      <th>id</th>\n",
       "      <th>CODEINTE_NUMEPOLI_CODERISQ</th>\n",
       "      <th>COUTS_SINISTRES</th>\n",
       "      <th>y_test</th>\n",
       "      <th>y_pred</th>\n",
       "    </tr>\n",
       "  </thead>\n",
       "  <tbody>\n",
       "    <tr>\n",
       "      <th>4483</th>\n",
       "      <td>12361</td>\n",
       "      <td>2530 4010004097 1</td>\n",
       "      <td>594030.0</td>\n",
       "      <td>1</td>\n",
       "      <td>0</td>\n",
       "    </tr>\n",
       "    <tr>\n",
       "      <th>1907</th>\n",
       "      <td>2574</td>\n",
       "      <td>4181 4010000005 1</td>\n",
       "      <td>860823.0</td>\n",
       "      <td>1</td>\n",
       "      <td>1</td>\n",
       "    </tr>\n",
       "    <tr>\n",
       "      <th>1778</th>\n",
       "      <td>222</td>\n",
       "      <td>4578 4000000005 55</td>\n",
       "      <td>298283.0</td>\n",
       "      <td>0</td>\n",
       "      <td>0</td>\n",
       "    </tr>\n",
       "    <tr>\n",
       "      <th>6437</th>\n",
       "      <td>8042</td>\n",
       "      <td>3023 4000000007 420</td>\n",
       "      <td>300166.0</td>\n",
       "      <td>0</td>\n",
       "      <td>0</td>\n",
       "    </tr>\n",
       "    <tr>\n",
       "      <th>4291</th>\n",
       "      <td>8554</td>\n",
       "      <td>2545 4010003511 1</td>\n",
       "      <td>125000.0</td>\n",
       "      <td>0</td>\n",
       "      <td>0</td>\n",
       "    </tr>\n",
       "  </tbody>\n",
       "</table>\n",
       "</div>"
      ],
      "text/plain": [
       "         id CODEINTE_NUMEPOLI_CODERISQ  COUTS_SINISTRES  y_test  y_pred\n",
       "4483  12361          2530 4010004097 1         594030.0       1       0\n",
       "1907   2574          4181 4010000005 1         860823.0       1       1\n",
       "1778    222         4578 4000000005 55         298283.0       0       0\n",
       "6437   8042        3023 4000000007 420         300166.0       0       0\n",
       "4291   8554          2545 4010003511 1         125000.0       0       0"
      ]
     },
     "execution_count": 91,
     "metadata": {},
     "output_type": "execute_result"
    }
   ],
   "source": [
    "y_pred_series = pd.Series(y_pred, index= X_test1.index, name='y_pred')\n",
    "y_test_series = pd.Series(y_test, index=X_test1.index, name='y_test')\n",
    "a = pd.concat([X_test1[['id','CODEINTE_NUMEPOLI_CODERISQ','COUTS_SINISTRES']], y_test_series, y_pred_series], axis=1)\n",
    "a.head() "
   ]
  },
  {
   "cell_type": "code",
   "execution_count": 92,
   "id": "6c2a0691-0238-425c-8e9c-94b7521017dc",
   "metadata": {},
   "outputs": [
    {
     "name": "stdout",
     "output_type": "stream",
     "text": [
      "0.6913145539906104\n"
     ]
    }
   ],
   "source": [
    "zero = a[a['y_test']==0]\n",
    "liste = [1 if pred == lab else 0 for (pred, lab) in zip(list(zero['y_pred']),list(zero['y_test']))]\n",
    "perf = sum(liste)/len(liste)\n",
    "print(perf)"
   ]
  },
  {
   "cell_type": "code",
   "execution_count": 93,
   "id": "45155525-4d3d-443b-8d19-1626b193bf0c",
   "metadata": {},
   "outputs": [
    {
     "name": "stdout",
     "output_type": "stream",
     "text": [
      "Précision: -------------- 0.6655367231638418\n",
      "Recall: ------------- 0.6913145539906104\n",
      "F1_score: ----------- 0.6781807714450202\n"
     ]
    }
   ],
   "source": [
    "TP_zero = len(a[(a['y_test']==0) & (a['y_pred']==0)])\n",
    "FP_zero = len(a[(a['y_pred']==0) & (a['y_test'] != 0)])\n",
    "FN_zero = len(a[(a['y_pred'] != 0) & (a['y_test'] == 0)])\n",
    "precision = TP_zero / (TP_zero + FP_zero) \n",
    "recall = TP_zero / (TP_zero + FN_zero) \n",
    "F1_score = 2*(precision*recall)/(precision+recall)\n",
    "print(f'Précision: -------------- {precision}') \n",
    "print(f'Recall: ------------- {recall}')\n",
    "print(f'F1_score: ----------- {F1_score}') "
   ]
  },
  {
   "cell_type": "code",
   "execution_count": 94,
   "id": "0bcdc33a-553b-40ad-8959-39ba4f8af27e",
   "metadata": {},
   "outputs": [],
   "source": [
    "# a['y_pred'].value_counts() "
   ]
  },
  {
   "cell_type": "code",
   "execution_count": 95,
   "id": "455b5b31-8d46-4af6-a796-4ef5523d0220",
   "metadata": {},
   "outputs": [],
   "source": [
    "b = pd.DataFrame({'True_label': y_test}, index=X_test.index)\n",
    "c = pd.DataFrame({'Predict_label': list(y_pred)}, index=X_test.index)\n",
    "d = pd.concat([X_test1[[\"id\",\"CODEINTE_NUMEPOLI_CODERISQ\",\"COUTS_SINISTRES\"]], b, c], axis=1)"
   ]
  },
  {
   "cell_type": "code",
   "execution_count": 97,
   "id": "846445db-a1fd-4784-b247-0a8f702c7449",
   "metadata": {},
   "outputs": [
    {
     "data": {
      "text/html": [
       "<div>\n",
       "<style scoped>\n",
       "    .dataframe tbody tr th:only-of-type {\n",
       "        vertical-align: middle;\n",
       "    }\n",
       "\n",
       "    .dataframe tbody tr th {\n",
       "        vertical-align: top;\n",
       "    }\n",
       "\n",
       "    .dataframe thead th {\n",
       "        text-align: right;\n",
       "    }\n",
       "</style>\n",
       "<table border=\"1\" class=\"dataframe\">\n",
       "  <thead>\n",
       "    <tr style=\"text-align: right;\">\n",
       "      <th></th>\n",
       "      <th>id</th>\n",
       "      <th>CODEINTE_NUMEPOLI_CODERISQ</th>\n",
       "      <th>COUTS_SINISTRES</th>\n",
       "      <th>True_label</th>\n",
       "      <th>Predict_label</th>\n",
       "    </tr>\n",
       "  </thead>\n",
       "  <tbody>\n",
       "    <tr>\n",
       "      <th>4483</th>\n",
       "      <td>12361</td>\n",
       "      <td>2530 4010004097 1</td>\n",
       "      <td>594030.0</td>\n",
       "      <td>1</td>\n",
       "      <td>0</td>\n",
       "    </tr>\n",
       "    <tr>\n",
       "      <th>1907</th>\n",
       "      <td>2574</td>\n",
       "      <td>4181 4010000005 1</td>\n",
       "      <td>860823.0</td>\n",
       "      <td>1</td>\n",
       "      <td>1</td>\n",
       "    </tr>\n",
       "    <tr>\n",
       "      <th>1778</th>\n",
       "      <td>222</td>\n",
       "      <td>4578 4000000005 55</td>\n",
       "      <td>298283.0</td>\n",
       "      <td>0</td>\n",
       "      <td>0</td>\n",
       "    </tr>\n",
       "    <tr>\n",
       "      <th>6437</th>\n",
       "      <td>8042</td>\n",
       "      <td>3023 4000000007 420</td>\n",
       "      <td>300166.0</td>\n",
       "      <td>0</td>\n",
       "      <td>0</td>\n",
       "    </tr>\n",
       "    <tr>\n",
       "      <th>4291</th>\n",
       "      <td>8554</td>\n",
       "      <td>2545 4010003511 1</td>\n",
       "      <td>125000.0</td>\n",
       "      <td>0</td>\n",
       "      <td>0</td>\n",
       "    </tr>\n",
       "  </tbody>\n",
       "</table>\n",
       "</div>"
      ],
      "text/plain": [
       "         id CODEINTE_NUMEPOLI_CODERISQ  COUTS_SINISTRES  True_label  \\\n",
       "4483  12361          2530 4010004097 1         594030.0           1   \n",
       "1907   2574          4181 4010000005 1         860823.0           1   \n",
       "1778    222         4578 4000000005 55         298283.0           0   \n",
       "6437   8042        3023 4000000007 420         300166.0           0   \n",
       "4291   8554          2545 4010003511 1         125000.0           0   \n",
       "\n",
       "      Predict_label  \n",
       "4483              0  \n",
       "1907              1  \n",
       "1778              0  \n",
       "6437              0  \n",
       "4291              0  "
      ]
     },
     "execution_count": 97,
     "metadata": {},
     "output_type": "execute_result"
    }
   ],
   "source": [
    "d.head() "
   ]
  },
  {
   "cell_type": "code",
   "execution_count": 98,
   "id": "a4fe3bb5-76bf-4586-8383-15fd628f866e",
   "metadata": {},
   "outputs": [],
   "source": [
    "df = d.copy() \n",
    "df = df.reset_index(drop=True)\n",
    "df['Borne_inf'] = 500\n",
    "df['Borne_sup'] = 333903\n",
    "df['Moyenne'] = (500 + 333903)/2\n",
    "for i in range(len(df)):\n",
    "    if df.loc[i,'Predict_label'] == 1:\n",
    "        df.loc[i, 'Borne_inf'] = 334000  \n",
    "        df.loc[i, 'Moyenne'] = (334000 + 725650)/2\n",
    "        df.loc[i, 'Borne_sup'] = 725650\n",
    "    if df.loc[i,'Predict_label'] == 2:\n",
    "        df.loc[i, 'Borne_inf'] = 726000\n",
    "        df.loc[i, 'Moyenne'] = (726000 + 1236650)/2\n",
    "        df.loc[i, 'Borne_sup'] = 1236650\n",
    "    if df.loc[i,'Predict_label'] == 3:\n",
    "        df.loc[i, 'Borne_inf'] = 1236650\n",
    "        df.loc[i, 'Moyenne'] = (1236650 + 1883000)/2\n",
    "        df.loc[i, 'Borne_sup'] = 1883000 \n",
    "\n",
    "new_row = {col: '' for col in df.columns.difference(['Borne_inf', 'Borne_sup', 'Moyenne'])}\n",
    "new_row['Borne_inf'] = df['Borne_inf'].sum()\n",
    "new_row['Borne_sup'] = df['Borne_sup'].sum()\n",
    "new_row['Moyenne'] = df['Moyenne'].sum()\n",
    "new_row['COUTS_SINISTRES'] = df['COUTS_SINISTRES'].sum()\n",
    "\n",
    "# # Ajouter la nouvelle ligne au DataFrame\n",
    "df.loc['Total'] = new_row"
   ]
  },
  {
   "cell_type": "code",
   "execution_count": 99,
   "id": "09479482-1958-4488-9d93-595a362d6107",
   "metadata": {},
   "outputs": [
    {
     "data": {
      "text/html": [
       "<div>\n",
       "<style scoped>\n",
       "    .dataframe tbody tr th:only-of-type {\n",
       "        vertical-align: middle;\n",
       "    }\n",
       "\n",
       "    .dataframe tbody tr th {\n",
       "        vertical-align: top;\n",
       "    }\n",
       "\n",
       "    .dataframe thead th {\n",
       "        text-align: right;\n",
       "    }\n",
       "</style>\n",
       "<table border=\"1\" class=\"dataframe\">\n",
       "  <thead>\n",
       "    <tr style=\"text-align: right;\">\n",
       "      <th></th>\n",
       "      <th>id</th>\n",
       "      <th>CODEINTE_NUMEPOLI_CODERISQ</th>\n",
       "      <th>COUTS_SINISTRES</th>\n",
       "      <th>True_label</th>\n",
       "      <th>Predict_label</th>\n",
       "      <th>Borne_inf</th>\n",
       "      <th>Borne_sup</th>\n",
       "      <th>Moyenne</th>\n",
       "    </tr>\n",
       "  </thead>\n",
       "  <tbody>\n",
       "    <tr>\n",
       "      <th>1621</th>\n",
       "      <td>10652</td>\n",
       "      <td>2519 4010001622 1</td>\n",
       "      <td>281141.0</td>\n",
       "      <td>0</td>\n",
       "      <td>0</td>\n",
       "      <td>500</td>\n",
       "      <td>333903</td>\n",
       "      <td>167201.5</td>\n",
       "    </tr>\n",
       "    <tr>\n",
       "      <th>1622</th>\n",
       "      <td>5069</td>\n",
       "      <td>4600 4000000005 1</td>\n",
       "      <td>250000.0</td>\n",
       "      <td>0</td>\n",
       "      <td>0</td>\n",
       "      <td>500</td>\n",
       "      <td>333903</td>\n",
       "      <td>167201.5</td>\n",
       "    </tr>\n",
       "    <tr>\n",
       "      <th>1623</th>\n",
       "      <td>11211</td>\n",
       "      <td>2560 4000000025 24</td>\n",
       "      <td>125000.0</td>\n",
       "      <td>0</td>\n",
       "      <td>1</td>\n",
       "      <td>334000</td>\n",
       "      <td>725650</td>\n",
       "      <td>529825.0</td>\n",
       "    </tr>\n",
       "    <tr>\n",
       "      <th>1624</th>\n",
       "      <td>9845</td>\n",
       "      <td>2566 4020000019 1</td>\n",
       "      <td>185000.0</td>\n",
       "      <td>0</td>\n",
       "      <td>0</td>\n",
       "      <td>500</td>\n",
       "      <td>333903</td>\n",
       "      <td>167201.5</td>\n",
       "    </tr>\n",
       "    <tr>\n",
       "      <th>Total</th>\n",
       "      <td></td>\n",
       "      <td></td>\n",
       "      <td>760043975.0</td>\n",
       "      <td></td>\n",
       "      <td></td>\n",
       "      <td>247602500</td>\n",
       "      <td>832485155</td>\n",
       "      <td>540043827.5</td>\n",
       "    </tr>\n",
       "  </tbody>\n",
       "</table>\n",
       "</div>"
      ],
      "text/plain": [
       "          id CODEINTE_NUMEPOLI_CODERISQ  COUTS_SINISTRES True_label  \\\n",
       "1621   10652          2519 4010001622 1         281141.0          0   \n",
       "1622    5069          4600 4000000005 1         250000.0          0   \n",
       "1623   11211         2560 4000000025 24         125000.0          0   \n",
       "1624    9845          2566 4020000019 1         185000.0          0   \n",
       "Total                                        760043975.0              \n",
       "\n",
       "      Predict_label  Borne_inf  Borne_sup      Moyenne  \n",
       "1621              0        500     333903     167201.5  \n",
       "1622              0        500     333903     167201.5  \n",
       "1623              1     334000     725650     529825.0  \n",
       "1624              0        500     333903     167201.5  \n",
       "Total                247602500  832485155  540043827.5  "
      ]
     },
     "execution_count": 99,
     "metadata": {},
     "output_type": "execute_result"
    }
   ],
   "source": [
    "df.tail() "
   ]
  },
  {
   "cell_type": "code",
   "execution_count": 241,
   "id": "45c46643-f405-4eee-a13a-e03f5a3f3a39",
   "metadata": {},
   "outputs": [],
   "source": [
    "df.to_csv('/opt/spark-apps/programs/Gohou/Data/Tabes/New_trans/pred.csv')"
   ]
  },
  {
   "cell_type": "code",
   "execution_count": 102,
   "id": "52d7c2a2-76b4-41ca-b7ce-88cc2f088310",
   "metadata": {},
   "outputs": [],
   "source": [
    "a = df[(df['Predict_label']==0) & (df['True_label']==0)] "
   ]
  },
  {
   "cell_type": "code",
   "execution_count": 103,
   "id": "9ca522a8-cce8-4391-8967-f6e328ed57b7",
   "metadata": {},
   "outputs": [
    {
     "name": "stdout",
     "output_type": "stream",
     "text": [
      "104273082.0\n",
      "294500\n",
      "196668867\n",
      "98481683.5\n",
      "1.8860943133914465\n"
     ]
    }
   ],
   "source": [
    "print(a['COUTS_SINISTRES'].sum())\n",
    "print(a['Borne_inf'].sum())\n",
    "print(a['Borne_sup'].sum())\n",
    "print(a['Moyenne'].sum())\n",
    "\n",
    "print(a['Borne_sup'].sum() / a['COUTS_SINISTRES'].sum())\n",
    "# print(a['Moyenne'].sum()*0.75) "
   ]
  },
  {
   "cell_type": "code",
   "execution_count": 104,
   "id": "33d113d3-46f7-44f4-9a72-0fcb5a29d329",
   "metadata": {},
   "outputs": [
    {
     "data": {
      "text/plain": [
       "array([1, 0, ''], dtype=object)"
      ]
     },
     "execution_count": 104,
     "metadata": {},
     "output_type": "execute_result"
    }
   ],
   "source": [
    "df['True_label'].unique()"
   ]
  },
  {
   "cell_type": "code",
   "execution_count": 105,
   "id": "eb0ee1e0-a60e-4be3-8ce3-df8bbe10547e",
   "metadata": {},
   "outputs": [
    {
     "data": {
      "text/plain": [
       "True_label\n",
       "0    852\n",
       "1    773\n",
       "       1\n",
       "Name: count, dtype: int64"
      ]
     },
     "execution_count": 105,
     "metadata": {},
     "output_type": "execute_result"
    }
   ],
   "source": [
    "df['True_label'].value_counts()"
   ]
  },
  {
   "cell_type": "code",
   "execution_count": 223,
   "id": "a4b49b9b-4480-4fb9-81bc-9b37722065d5",
   "metadata": {},
   "outputs": [
    {
     "name": "stdout",
     "output_type": "stream",
     "text": [
      "93378321.0\n",
      "101834031.0\n",
      "75828606.0\n",
      "59536989.0\n",
      "330577947.0\n",
      "426500\n",
      "284819259\n",
      "142622879.5\n"
     ]
    }
   ],
   "source": [
    "print(a[a['True_label']==0][\"COUTS_SINISTRES\"].sum())\n",
    "print(a[a['True_label']==1][\"COUTS_SINISTRES\"].sum())\n",
    "print(a[a['True_label']==2][\"COUTS_SINISTRES\"].sum())\n",
    "print(a[a['True_label']==3][\"COUTS_SINISTRES\"].sum())\n",
    "\n",
    "\n",
    "\n",
    "print(a['COUTS_SINISTRES'].sum())\n",
    "print(a['Borne_inf'].sum())\n",
    "print(a['Borne_sup'].sum())\n",
    "print(a['Moyenne'].sum())\n"
   ]
  },
  {
   "cell_type": "code",
   "execution_count": 260,
   "id": "1f54326c-e6ed-4170-96ee-40eefa296e9d",
   "metadata": {},
   "outputs": [],
   "source": [
    "importances = out_1.loc['Random','best_model'].feature_importances_\n",
    "indices = np.argsort(importances)[::-1]  # Trier par importance décroissante\n",
    "top_features = indices[:10]"
   ]
  },
  {
   "cell_type": "code",
   "execution_count": 261,
   "id": "42d8591b-9142-4b9a-8eac-b1b3e6655f7f",
   "metadata": {},
   "outputs": [
    {
     "data": {
      "text/plain": [
       "array([  0,   1, 190,  47,   6,  11,   2, 580, 478, 599])"
      ]
     },
     "execution_count": 261,
     "metadata": {},
     "output_type": "execute_result"
    }
   ],
   "source": [
    "top_features"
   ]
  },
  {
   "cell_type": "code",
   "execution_count": 111,
   "id": "a4d471a3-7dbe-447c-b562-98cfed690a91",
   "metadata": {},
   "outputs": [
    {
     "data": {
      "text/plain": [
       "0.6798529411764707"
      ]
     },
     "execution_count": 111,
     "metadata": {},
     "output_type": "execute_result"
    }
   ],
   "source": [
    "2*(0.67*0.69)/(0.67+0.69)"
   ]
  },
  {
   "cell_type": "code",
   "execution_count": null,
   "id": "e94fca5e-7df5-4c92-934b-71f38526caae",
   "metadata": {},
   "outputs": [],
   "source": []
  }
 ],
 "metadata": {
  "kernelspec": {
   "display_name": "Python 3 (ipykernel)",
   "language": "python",
   "name": "python3"
  },
  "language_info": {
   "codemirror_mode": {
    "name": "ipython",
    "version": 3
   },
   "file_extension": ".py",
   "mimetype": "text/x-python",
   "name": "python",
   "nbconvert_exporter": "python",
   "pygments_lexer": "ipython3",
   "version": "3.9.18"
  }
 },
 "nbformat": 4,
 "nbformat_minor": 5
}
