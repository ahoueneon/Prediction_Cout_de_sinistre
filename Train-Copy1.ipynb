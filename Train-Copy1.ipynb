{
 "cells": [
  {
   "cell_type": "code",
   "execution_count": 1,
   "id": "669ed756-fe21-4f65-af50-1746cadf0ee2",
   "metadata": {},
   "outputs": [],
   "source": [
    "import pandas as pd\n",
    "pd.set_option('display.max_columns', None)  \n",
    "import numpy as np \n",
    "import matplotlib.pyplot as plt\n",
    "from PIL import Image, ImageFile, UnidentifiedImageError\n",
    "import os\n",
    "import pycaret \n",
    "ImageFile.LOAD_TRUNCATED_IMAGES = True \n",
    "import torch \n",
    "import torch.nn as nn\n",
    "import torch.optim as optim\n",
    "import torch.backends.cudnn as cudnn\n",
    "import torchvision \n",
    "from torchvision import datasets, models, transforms \n",
    "from tempfile import TemporaryDirectory \n",
    "from torch.utils.data import DataLoader \n",
    "from torch.utils.data import Dataset\n",
    "from torchvision.models import resnet18, resnet50, VGG19_Weights\n",
    "import warnings\n",
    "warnings.filterwarnings(\"ignore\") \n",
    "# from sklearn.model_selection import train_test_split\n",
    "# import mlflow                                   \n",
    "# import mlflow.pytorch\n",
    "# Ignorer tous les avertissements\n",
    "# from torchmetrics.classification import Accuracy\n",
    "# from efficientnet_pytorch import EfficientNet\n",
    "# import pretrainedmodels\n",
    "# import seaborn as sns\n",
    "# from sklearn.metrics import accuracy_score, precision_score, recall_score, f1_score"
   ]
  },
  {
   "cell_type": "markdown",
   "id": "6489cc01-9508-44c7-a90d-1820e99dd990",
   "metadata": {},
   "source": [
    "### CONCATENATION DES FICHIERS "
   ]
  },
  {
   "cell_type": "code",
   "execution_count": 2,
   "id": "579ca7f7-b96e-4332-b1ca-bfd8d4583953",
   "metadata": {},
   "outputs": [
    {
     "name": "stdout",
     "output_type": "stream",
     "text": [
      "11\n"
     ]
    }
   ],
   "source": [
    "n_files = 11 # Remplace ceci par le nombre exact de fichiers CSV que tu as\n",
    "\n",
    "# Crée une liste des chemins des fichiers CSV\n",
    "file_paths = [f'/opt/spark-apps/programs/Gohou/Data/Tabes/New_trans/df{i}.csv' for i in range(n_files)]\n",
    "\n",
    "# Lire les fichiers CSV et stocker les DataFrames dans une liste\n",
    "list_df = [pd.read_csv(file_path) for file_path in file_paths] \n",
    "print(len(list_df))\n",
    "df_final = pd.concat(list_df, ignore_index=True) "
   ]
  },
  {
   "cell_type": "code",
   "execution_count": 3,
   "id": "ea53c564-e6ce-4397-8b31-4e1c3ecb2a06",
   "metadata": {},
   "outputs": [
    {
     "data": {
      "text/plain": [
       "(1076, 4363)"
      ]
     },
     "execution_count": 3,
     "metadata": {},
     "output_type": "execute_result"
    }
   ],
   "source": [
    "df_final.shape"
   ]
  },
  {
   "cell_type": "markdown",
   "id": "a37da52f-7edb-4e92-8723-2f8697481e22",
   "metadata": {},
   "source": [
    "### ANALYSE EN COMPOSANTE PRINCIPALE"
   ]
  },
  {
   "cell_type": "code",
   "execution_count": 4,
   "id": "06566582-f219-4311-9662-a3c7c994097d",
   "metadata": {},
   "outputs": [
    {
     "name": "stdout",
     "output_type": "stream",
     "text": [
      "Variance expliquée par chaque composante principale :  0.8002580570676402\n",
      "Nombre de composantes principales sélectionnées :  445\n"
     ]
    }
   ],
   "source": [
    "from sklearn.decomposition import PCA\n",
    "from sklearn.preprocessing import StandardScaler\n",
    "\n",
    "X = df_final.drop(columns=['cluster','Unnamed: 0'])  # Variables indépendantes\n",
    "# Étape 1 : Normalisation des données\n",
    "scaler = StandardScaler() \n",
    "X_scaled = scaler.fit_transform(X)  # Normaliser tes données (X est ton jeu de données)\n",
    "\n",
    "# Étape 2 : Application de l'ACP\n",
    "pca = PCA(n_components = 0.8)  # Conserver 95% de la variance expliquée\n",
    "X_pca = pca.fit_transform(X_scaled) \n",
    "\n",
    "# Afficher la variance expliquée par chaque composante principale\n",
    "print(\"Variance expliquée par chaque composante principale : \", sum(pca.explained_variance_ratio_))\n",
    "print(\"Nombre de composantes principales sélectionnées : \", pca.n_components_)  "
   ]
  },
  {
   "cell_type": "code",
   "execution_count": null,
   "id": "370e318a-02d2-412f-859e-10aae45269bf",
   "metadata": {},
   "outputs": [],
   "source": []
  },
  {
   "cell_type": "code",
   "execution_count": 5,
   "id": "08949515-ab2e-45a2-9157-294413a0c3ff",
   "metadata": {},
   "outputs": [],
   "source": [
    "import pickle\n",
    "\n",
    "# Enregistrer le modèle\n",
    "with open('/opt/spark-apps/programs/Gohou/Data/Tabes/ACP_SUP.pkl', 'wb') as acp:\n",
    "    pickle.dump(pca, acp)  \n",
    "\n",
    "with open('/opt/spark-apps/programs/Gohou/Data/Tabes/scaler_SUP.pkl', 'wb') as scale:\n",
    "    pickle.dump(scaler, scale)  \n",
    "\n"
   ]
  },
  {
   "cell_type": "code",
   "execution_count": 12,
   "id": "b9a5e0a9-a609-4b30-b9f5-80152c64168a",
   "metadata": {},
   "outputs": [
    {
     "data": {
      "text/plain": [
       "(493, 254)"
      ]
     },
     "execution_count": 12,
     "metadata": {},
     "output_type": "execute_result"
    }
   ],
   "source": [
    "X_pca_df = pd.DataFrame(X_pca, columns=[f\"PC{i+1}\" for i in range(X_pca.shape[1])])\n",
    "df = pd.concat([X_pca_df, df_final['cluster']], axis=1) \n",
    "df.shape"
   ]
  },
  {
   "cell_type": "code",
   "execution_count": 13,
   "id": "d26ffe07-ee14-4f2e-a8dd-4f4dabc585a2",
   "metadata": {},
   "outputs": [],
   "source": [
    "df.dropna(inplace=True)\n",
    "df.reset_index(drop=True, inplace=True)"
   ]
  },
  {
   "cell_type": "code",
   "execution_count": 14,
   "id": "1cfd7d63-b3bc-4a07-a0d2-4e7d2d2aee50",
   "metadata": {},
   "outputs": [
    {
     "data": {
      "text/plain": [
       "(493, 254)"
      ]
     },
     "execution_count": 14,
     "metadata": {},
     "output_type": "execute_result"
    }
   ],
   "source": [
    "df.shape"
   ]
  },
  {
   "cell_type": "markdown",
   "id": "4ad38b68-fa83-4e55-af6a-5add8859ef9a",
   "metadata": {},
   "source": [
    "### CHARGEMENT DES MODULES NECESSAIRE AU MACHINE LEARNING "
   ]
  },
  {
   "cell_type": "code",
   "execution_count": 15,
   "id": "3ff4fccc-229c-4125-9b44-afe9dad7f026",
   "metadata": {},
   "outputs": [],
   "source": [
    "import time\n",
    "import xgboost as xgb\n",
    "from sklearn.svm import SVC\n",
    "from lightgbm import LGBMClassifier\n",
    "from catboost import CatBoostClassifier\n",
    "from sklearn.neighbors import KNeighborsClassifier\n",
    "from sklearn.tree import DecisionTreeClassifier, DecisionTreeRegressor\n",
    "from sklearn.ensemble import RandomForestClassifier, GradientBoostingClassifier, AdaBoostClassifier, BaggingClassifier\n",
    "from sklearn.metrics import classification_report, accuracy_score, confusion_matrix, f1_score\n",
    "from sklearn.model_selection import cross_val_score, KFold,cross_val_predict, train_test_split,GridSearchCV\n",
    "from sklearn.linear_model import LinearRegression,LogisticRegression,ElasticNet, Ridge, Lasso\n",
    "from sklearn.discriminant_analysis import LinearDiscriminantAnalysis, QuadraticDiscriminantAnalysis"
   ]
  },
  {
   "cell_type": "markdown",
   "id": "d9eada49-2ef5-43e1-84e6-89b6ab166131",
   "metadata": {},
   "source": [
    "### REECHANTILLONNAGE DES DONNEES "
   ]
  },
  {
   "cell_type": "code",
   "execution_count": 7,
   "id": "473cb0dd-8f59-448f-bec0-aa34a22baab4",
   "metadata": {},
   "outputs": [
    {
     "ename": "NameError",
     "evalue": "name 'df' is not defined",
     "output_type": "error",
     "traceback": [
      "\u001b[0;31m---------------------------------------------------------------------------\u001b[0m",
      "\u001b[0;31mNameError\u001b[0m                                 Traceback (most recent call last)",
      "Cell \u001b[0;32mIn[7], line 3\u001b[0m\n\u001b[1;32m      1\u001b[0m \u001b[38;5;28;01mfrom\u001b[39;00m \u001b[38;5;21;01mimblearn\u001b[39;00m\u001b[38;5;21;01m.\u001b[39;00m\u001b[38;5;21;01mover_sampling\u001b[39;00m \u001b[38;5;28;01mimport\u001b[39;00m SMOTE\n\u001b[1;32m      2\u001b[0m \u001b[38;5;28;01mfrom\u001b[39;00m \u001b[38;5;21;01mcollections\u001b[39;00m \u001b[38;5;28;01mimport\u001b[39;00m Counter\n\u001b[0;32m----> 3\u001b[0m X \u001b[38;5;241m=\u001b[39m \u001b[43mdf\u001b[49m\u001b[38;5;241m.\u001b[39mdrop(columns\u001b[38;5;241m=\u001b[39m\u001b[38;5;124m'\u001b[39m\u001b[38;5;124mcluster\u001b[39m\u001b[38;5;124m'\u001b[39m)  \u001b[38;5;66;03m# Variables indépendantes\u001b[39;00m\n\u001b[1;32m      4\u001b[0m y \u001b[38;5;241m=\u001b[39m df[\u001b[38;5;124m'\u001b[39m\u001b[38;5;124mcluster\u001b[39m\u001b[38;5;124m'\u001b[39m] \n\u001b[1;32m      6\u001b[0m \u001b[38;5;66;03m# # Séparation des données en ensembles d'entraînement et de test\u001b[39;00m\n",
      "\u001b[0;31mNameError\u001b[0m: name 'df' is not defined"
     ]
    }
   ],
   "source": [
    "from imblearn.over_sampling import SMOTE\n",
    "from collections import Counter\n",
    "X = df.drop(columns='cluster')  # Variables indépendantes\n",
    "y = df['cluster'] \n",
    "\n",
    "# # Séparation des données en ensembles d'entraînement et de test\n",
    "X_train, X_test, y_train, y_test = train_test_split(X, y, test_size=0.25, random_state=42,stratify=y)\n",
    "\n",
    "# Application de SMOTE pour suréchantillonner la classe minoritaire\n",
    "smote = SMOTE(random_state=42)\n",
    "X_train_resampled, y_train_resampled = smote.fit_resample(X_train, y_train)\n",
    "\n",
    "# Vérifier la distribution des classes après suréchantillonnage\n",
    "print(\"Distribution des classes avant suréchantillonnage :\", Counter(y_train))\n",
    "print(\"Distribution des classes après suréchantillonnage :\", Counter(y_train_resampled))"
   ]
  },
  {
   "cell_type": "markdown",
   "id": "34ca6664-57d8-4557-b756-232fa2962a04",
   "metadata": {},
   "source": [
    "### CHOIX DES MEILLEURS HYPERPARAMETRES PAR MODELES "
   ]
  },
  {
   "cell_type": "code",
   "execution_count": 34,
   "id": "062b8ce3-456e-40c1-abdb-189f74ae4992",
   "metadata": {},
   "outputs": [],
   "source": [
    "a = int(np.sqrt(len(X_train_resampled.columns))) \n",
    "dico = {\n",
    "    'logistic': LogisticRegression(),\n",
    "    'elastic': LogisticRegression(penalty=\"elasticnet\", solver=\"saga\"),  #met beaucoup de temps \n",
    "    'ridge': LogisticRegression(penalty=\"l2\"),\n",
    "    'lasso': LogisticRegression(penalty=\"l1\"),\n",
    "    'Arbre': DecisionTreeClassifier(),\n",
    "    'Random': RandomForestClassifier(),\n",
    "    'xgb': xgb.XGBClassifier(),\n",
    "    'knn': KNeighborsClassifier(),\n",
    "    'Gradient_boosting': GradientBoostingClassifier(),\n",
    "    'adaboost_classifier': AdaBoostClassifier(),\n",
    "    'Bagging': BaggingClassifier(DecisionTreeClassifier()),\n",
    "    'SVM': SVC(),\n",
    "    'LDA': LinearDiscriminantAnalysis(),\n",
    "    'QDA': QuadraticDiscriminantAnalysis(),\n",
    "    'lightgbm': LGBMClassifier(),  # Ajout de LightGBM\n",
    "    'catboost': CatBoostClassifier(verbose=0)  # Ajout de CatBoost\n",
    "}\n",
    "\n",
    "# 0.001, 0.01, 0.1, 1, 10\n",
    "param = [\n",
    "    {\"C\": [0.001, 0.1, 1, 10], \"max_iter\": [10000]},\n",
    "    {\"C\": [0.001, 0.1, 1, 10], \"l1_ratio\": [0.1, 0.5, 0.7], \"max_iter\": [10000]},\n",
    "    {\"C\": [0.001, 0.1, 1, 10], \"solver\": [\"sag\", \"lbfgs\", \"liblinear\"], \"max_iter\": [10000]},\n",
    "    {\"C\": [0.001, 0.1, 1, 10], \"solver\": [\"liblinear\"], \"max_iter\": [10000]},\n",
    "    {\"max_depth\": [5, 10, 20], \"min_samples_split\": [10, 15], \"min_samples_leaf\": [5, 7]},\n",
    "    {\"n_estimators\": [100, 200, 150], \"min_samples_leaf\": [3, 5, 7], \"max_features\": [0.7, 0.8], \"max_depth\": [3, 4, 5]},\n",
    "    {'colsample_bytree': [0.5, 0.7], \"n_estimators\": [100, 200, 150], \"max_depth\": [4, 5, 7], \"objective\": [\"multi:softmax\"], \"num_class\": [4], \"subsample\": [0.7, 0.8]},\n",
    "    {'n_neighbors': [3, 5, 7], \"algorithm\": [\"auto\", \"ball_tree\", \"kd_tree\"]},\n",
    "    {\"n_estimators\": [100, 200, 150], \"max_depth\": [5, 6, 7], \"learning_rate\": [0.01, 0.1], \"min_samples_split\": [10, 15], \"min_samples_leaf\": [5, 7], \"subsample\": [0.7, 0.8]},\n",
    "    {\"n_estimators\": [70, 100], \"learning_rate\": [0.01, 0.1], \"algorithm\": [\"SAMME\", \"SAMME.R\"]},\n",
    "    {\"n_estimators\": [100, 80], \"max_features\": [0.7, 0.8], \"max_samples\":[0.7, 0.8]},\n",
    "    {\"kernel\": ['linear', 'rbf'], \"C\": [0.01, 0.1, 1], \"gamma\": [\"scale\", \"auto\"]},\n",
    "    {\"solver\": [\"eigen\", \"lsqr\"], \"shrinkage\": [\"auto\"]}, \n",
    "    {\"reg_param\": [0.0, 0.1, 0.2, 0.3], \"tol\": [1e-4, 1e-3, 1e-2]},\n",
    "    {\"n_estimators\": [100, 200], \"learning_rate\": [0.01, 0.1], \"max_depth\": [5, 10], \"num_leaves\": [20, 30, 40], \"colsample_bytree\": [0.5, 0.7], \"force_row_wise\": [True], 'verbose': [-1]},\n",
    "    {\"iterations\": [100, 200], \"depth\": [6, 8, 10], \"learning_rate\": [0.01, 0.1], \"l2_leaf_reg\": [1, 3, 5]}\n",
    "] "
   ]
  },
  {
   "cell_type": "code",
   "execution_count": null,
   "id": "bd05af20-530e-49a1-a430-54613f5f004c",
   "metadata": {},
   "outputs": [],
   "source": []
  },
  {
   "cell_type": "code",
   "execution_count": 35,
   "id": "54810382-c1ac-40e9-9762-dbf1cda59be1",
   "metadata": {},
   "outputs": [],
   "source": [
    "def train_model(nom_model, dico, param, X_train_resampled, y_train_resampled, kf, out):\n",
    "    model = dico[nom_model]\n",
    "    model_cv = GridSearchCV(model, param_grid=param, cv=kf, scoring=\"f1_weighted\", error_score=\"raise\")  # Utiliser \"f1\" au lieu de \"f1_score\"\n",
    "    temps_debut = time.time() \n",
    "    model_cv.fit(X_train_resampled, y_train_resampled) \n",
    "    temps_fin = time.time()\n",
    "    # temps_execution = temps_fin - temps_debut\n",
    "    out[nom_model]={\"best_model\":model_cv.best_estimator_,\"meilleurs_parametres\":model_cv.best_params_, \"f1_score\": model_cv.best_score_,\"temps\":[time.ctime(temps_debut), time.ctime(temps_fin)]}\n",
    "    print(f'-----------------  Entrainement de {nom_model} est terminé  -----------------')"
   ]
  },
  {
   "cell_type": "code",
   "execution_count": 36,
   "id": "e33196b3-7da5-4e96-89d5-e2fe2408f1dc",
   "metadata": {
    "scrolled": true
   },
   "outputs": [
    {
     "name": "stdout",
     "output_type": "stream",
     "text": [
      "-----------------  Entrainement de lasso est terminé  -----------------\n",
      "-----------------  Entrainement de LDA est terminé  -----------------\n",
      "-----------------  Entrainement de SVM est terminé  -----------------\n",
      "-----------------  Entrainement de knn est terminé  -----------------\n",
      "-----------------  Entrainement de Arbre est terminé  -----------------\n",
      "-----------------  Entrainement de elastic est terminé  -----------------\n"
     ]
    }
   ],
   "source": [
    "import threading\n",
    "kf = KFold(n_splits=4, shuffle=True, random_state=42)\n",
    "out = {}\n",
    "threads = []\n",
    "\n",
    "# Launch a thread for each model in the dictionary\n",
    "for i, nom_model in enumerate(dico):\n",
    "    param_v = param[i]\n",
    "    thread = threading.Thread(target=train_model, args=(nom_model, dico, param_v, X_train_resampled, y_train_resampled, kf, out))\n",
    "    threads.append(thread)\n",
    "    thread.start() "
   ]
  },
  {
   "cell_type": "code",
   "execution_count": null,
   "id": "507a21a6-11bc-4907-8643-6a20760665c9",
   "metadata": {},
   "outputs": [],
   "source": []
  },
  {
   "cell_type": "code",
   "execution_count": 5,
   "id": "2debfd4e-482a-4070-b2a9-39d49ecda42d",
   "metadata": {},
   "outputs": [
    {
     "ename": "NameError",
     "evalue": "name 'out' is not defined",
     "output_type": "error",
     "traceback": [
      "\u001b[0;31m---------------------------------------------------------------------------\u001b[0m",
      "\u001b[0;31mNameError\u001b[0m                                 Traceback (most recent call last)",
      "Cell \u001b[0;32mIn[5], line 1\u001b[0m\n\u001b[0;32m----> 1\u001b[0m out_1  \u001b[38;5;241m=\u001b[39m pd\u001b[38;5;241m.\u001b[39mDataFrame\u001b[38;5;241m.\u001b[39mfrom_dict(\u001b[43mout\u001b[49m, orient\u001b[38;5;241m=\u001b[39m\u001b[38;5;124m'\u001b[39m\u001b[38;5;124mindex\u001b[39m\u001b[38;5;124m'\u001b[39m)\n\u001b[1;32m      2\u001b[0m out_1\n",
      "\u001b[0;31mNameError\u001b[0m: name 'out' is not defined"
     ]
    }
   ],
   "source": [
    "out_1  = pd.DataFrame.from_dict(out, orient='index')\n",
    "out_1"
   ]
  },
  {
   "cell_type": "code",
   "execution_count": 62,
   "id": "11835385-9c7e-4852-b9c3-ba91f76bb442",
   "metadata": {},
   "outputs": [
    {
     "data": {
      "text/plain": [
       "{'max_depth': 5,\n",
       " 'max_features': 0.7,\n",
       " 'min_samples_leaf': 3,\n",
       " 'n_estimators': 200}"
      ]
     },
     "execution_count": 62,
     "metadata": {},
     "output_type": "execute_result"
    }
   ],
   "source": [
    "out_1.loc[\"Random\",\"meilleurs_parametres\"] "
   ]
  },
  {
   "cell_type": "code",
   "execution_count": 19,
   "id": "a52bd060-a59f-4f3e-b8cf-7f15a87b009f",
   "metadata": {},
   "outputs": [],
   "source": [
    "# X_train_resampled.columns[0:3] "
   ]
  },
  {
   "cell_type": "code",
   "execution_count": 20,
   "id": "a6731ed3-68fb-4689-abd2-216558ec3c9c",
   "metadata": {},
   "outputs": [],
   "source": [
    "# print(out_1.loc[\"lasso\",\"best_model\"].coef_.shape)"
   ]
  },
  {
   "cell_type": "code",
   "execution_count": null,
   "id": "bafac699-075e-4452-a92a-0e57034933ad",
   "metadata": {},
   "outputs": [],
   "source": [
    "# Pour s'assurer que tous les threads individuelles soient terminés avant que le thread principal prenne le relai. \n",
    "# On en pas besoin si on sait à quel moment tous nos threads vont tous se stopper \n",
    "\n",
    "for thread in threads:\n",
    "    thread.join() \n",
    "print(out) "
   ]
  },
  {
   "cell_type": "markdown",
   "id": "99066220-173f-429e-87c2-6551f066da54",
   "metadata": {},
   "source": [
    "### CHOIX DU MEILLEUR MODELE "
   ]
  },
  {
   "cell_type": "code",
   "execution_count": 14,
   "id": "5de372f2-9012-4b33-85d0-8435216ec40a",
   "metadata": {},
   "outputs": [],
   "source": [
    "def train_best(out, result, position): \n",
    "    kf = KFold(n_splits=10, shuffle=True, random_state=42) \n",
    "    model = list(out.values())[position][\"best_model\"] \n",
    "    nom = list(out.keys())[position]  \n",
    "    predictions = cross_val_predict(model, X_train_resampled, y_train_resampled, cv = kf)\n",
    "    result[nom] = {\"Modele\":model, \"F1_Score\": f1_score(y_train_resampled, predictions, average='weighted')} \n",
    "    print(f'----------------- Entrainement de {nom} est terminé --------------------') "
   ]
  },
  {
   "cell_type": "markdown",
   "id": "c1198e2b-c384-459f-bddd-595ebc41bb2c",
   "metadata": {},
   "source": [
    "#### **On fait Ici des entrainement des modèles de façon paralleles en utilisant des threads**"
   ]
  },
  {
   "cell_type": "code",
   "execution_count": 15,
   "id": "e0326f55-e29a-4018-91ad-607f738d35c3",
   "metadata": {},
   "outputs": [
    {
     "name": "stdout",
     "output_type": "stream",
     "text": [
      "----------------- Entrainement de knn est terminé --------------------\n",
      "----------------- Entrainement de Arbre est terminé --------------------\n",
      "----------------- Entrainement de lasso est terminé --------------------\n",
      "----------------- Entrainement de LDA est terminé --------------------\n"
     ]
    }
   ],
   "source": [
    "result = {}\n",
    "threads_best = [] \n",
    "\n",
    "# Launch a thread for each model in the dictionary\n",
    "for i, nom_model in enumerate(out):\n",
    "    position = i\n",
    "    thread1 = threading.Thread(target=train_best, args=(out, result, position))\n",
    "    threads_best.append(thread1)\n",
    "    thread1.start()   "
   ]
  },
  {
   "cell_type": "code",
   "execution_count": 169,
   "id": "bbd39fe7-8bcb-4810-a0c6-23aff6dca71b",
   "metadata": {},
   "outputs": [
    {
     "data": {
      "text/html": [
       "<div>\n",
       "<style scoped>\n",
       "    .dataframe tbody tr th:only-of-type {\n",
       "        vertical-align: middle;\n",
       "    }\n",
       "\n",
       "    .dataframe tbody tr th {\n",
       "        vertical-align: top;\n",
       "    }\n",
       "\n",
       "    .dataframe thead th {\n",
       "        text-align: right;\n",
       "    }\n",
       "</style>\n",
       "<table border=\"1\" class=\"dataframe\">\n",
       "  <thead>\n",
       "    <tr style=\"text-align: right;\">\n",
       "      <th></th>\n",
       "      <th>Modele</th>\n",
       "      <th>F1_Score</th>\n",
       "    </tr>\n",
       "  </thead>\n",
       "  <tbody>\n",
       "    <tr>\n",
       "      <th>knn</th>\n",
       "      <td>KNeighborsClassifier(n_neighbors=3)</td>\n",
       "      <td>0.636423</td>\n",
       "    </tr>\n",
       "    <tr>\n",
       "      <th>Arbre</th>\n",
       "      <td>DecisionTreeClassifier(max_depth=20, min_sampl...</td>\n",
       "      <td>0.571530</td>\n",
       "    </tr>\n",
       "    <tr>\n",
       "      <th>lasso</th>\n",
       "      <td>LogisticRegression(C=1, max_iter=9000, penalty...</td>\n",
       "      <td>0.712651</td>\n",
       "    </tr>\n",
       "    <tr>\n",
       "      <th>LDA</th>\n",
       "      <td>LinearDiscriminantAnalysis(shrinkage='auto', s...</td>\n",
       "      <td>0.679374</td>\n",
       "    </tr>\n",
       "    <tr>\n",
       "      <th>Bagging</th>\n",
       "      <td>(DecisionTreeClassifier(random_state=136928537...</td>\n",
       "      <td>0.869069</td>\n",
       "    </tr>\n",
       "    <tr>\n",
       "      <th>Random</th>\n",
       "      <td>(DecisionTreeClassifier(max_features=28, min_s...</td>\n",
       "      <td>0.882121</td>\n",
       "    </tr>\n",
       "    <tr>\n",
       "      <th>catboost</th>\n",
       "      <td>&lt;catboost.core.CatBoostClassifier object at 0x...</td>\n",
       "      <td>0.827834</td>\n",
       "    </tr>\n",
       "    <tr>\n",
       "      <th>xgb</th>\n",
       "      <td>XGBClassifier(base_score=None, booster=None, c...</td>\n",
       "      <td>0.867115</td>\n",
       "    </tr>\n",
       "    <tr>\n",
       "      <th>lightgbm</th>\n",
       "      <td>LGBMClassifier(force_row_wise=True, learning_r...</td>\n",
       "      <td>0.873806</td>\n",
       "    </tr>\n",
       "    <tr>\n",
       "      <th>adaboost_classifier</th>\n",
       "      <td>(DecisionTreeClassifier(max_depth=1, random_st...</td>\n",
       "      <td>0.543241</td>\n",
       "    </tr>\n",
       "    <tr>\n",
       "      <th>logistic</th>\n",
       "      <td>LogisticRegression(C=0.1, max_iter=10000)</td>\n",
       "      <td>0.718429</td>\n",
       "    </tr>\n",
       "  </tbody>\n",
       "</table>\n",
       "</div>"
      ],
      "text/plain": [
       "                                                                Modele  \\\n",
       "knn                                KNeighborsClassifier(n_neighbors=3)   \n",
       "Arbre                DecisionTreeClassifier(max_depth=20, min_sampl...   \n",
       "lasso                LogisticRegression(C=1, max_iter=9000, penalty...   \n",
       "LDA                  LinearDiscriminantAnalysis(shrinkage='auto', s...   \n",
       "Bagging              (DecisionTreeClassifier(random_state=136928537...   \n",
       "Random               (DecisionTreeClassifier(max_features=28, min_s...   \n",
       "catboost             <catboost.core.CatBoostClassifier object at 0x...   \n",
       "xgb                  XGBClassifier(base_score=None, booster=None, c...   \n",
       "lightgbm             LGBMClassifier(force_row_wise=True, learning_r...   \n",
       "adaboost_classifier  (DecisionTreeClassifier(max_depth=1, random_st...   \n",
       "logistic                     LogisticRegression(C=0.1, max_iter=10000)   \n",
       "\n",
       "                     F1_Score  \n",
       "knn                  0.636423  \n",
       "Arbre                0.571530  \n",
       "lasso                0.712651  \n",
       "LDA                  0.679374  \n",
       "Bagging              0.869069  \n",
       "Random               0.882121  \n",
       "catboost             0.827834  \n",
       "xgb                  0.867115  \n",
       "lightgbm             0.873806  \n",
       "adaboost_classifier  0.543241  \n",
       "logistic             0.718429  "
      ]
     },
     "execution_count": 169,
     "metadata": {},
     "output_type": "execute_result"
    }
   ],
   "source": [
    "df_result = pd.DataFrame.from_dict(result, orient='index') \n",
    "df_result "
   ]
  },
  {
   "cell_type": "code",
   "execution_count": 44,
   "id": "64844fb3-9362-4588-a6aa-33a24c83948e",
   "metadata": {},
   "outputs": [
    {
     "data": {
      "text/html": [
       "<div>\n",
       "<style scoped>\n",
       "    .dataframe tbody tr th:only-of-type {\n",
       "        vertical-align: middle;\n",
       "    }\n",
       "\n",
       "    .dataframe tbody tr th {\n",
       "        vertical-align: top;\n",
       "    }\n",
       "\n",
       "    .dataframe thead th {\n",
       "        text-align: right;\n",
       "    }\n",
       "</style>\n",
       "<table border=\"1\" class=\"dataframe\">\n",
       "  <thead>\n",
       "    <tr style=\"text-align: right;\">\n",
       "      <th></th>\n",
       "      <th>Modele</th>\n",
       "      <th>F1_Score</th>\n",
       "    </tr>\n",
       "  </thead>\n",
       "  <tbody>\n",
       "    <tr>\n",
       "      <th>knn</th>\n",
       "      <td>KNeighborsClassifier(n_neighbors=3)</td>\n",
       "      <td>0.624529</td>\n",
       "    </tr>\n",
       "    <tr>\n",
       "      <th>Arbre</th>\n",
       "      <td>DecisionTreeClassifier(max_depth=20, min_sampl...</td>\n",
       "      <td>0.555693</td>\n",
       "    </tr>\n",
       "    <tr>\n",
       "      <th>lasso</th>\n",
       "      <td>LogisticRegression(C=1, max_iter=10000, penalt...</td>\n",
       "      <td>0.739199</td>\n",
       "    </tr>\n",
       "    <tr>\n",
       "      <th>LDA</th>\n",
       "      <td>LinearDiscriminantAnalysis(shrinkage='auto', s...</td>\n",
       "      <td>0.701014</td>\n",
       "    </tr>\n",
       "  </tbody>\n",
       "</table>\n",
       "</div>"
      ],
      "text/plain": [
       "                                                  Modele  F1_Score\n",
       "knn                  KNeighborsClassifier(n_neighbors=3)  0.624529\n",
       "Arbre  DecisionTreeClassifier(max_depth=20, min_sampl...  0.555693\n",
       "lasso  LogisticRegression(C=1, max_iter=10000, penalt...  0.739199\n",
       "LDA    LinearDiscriminantAnalysis(shrinkage='auto', s...  0.701014"
      ]
     },
     "execution_count": 44,
     "metadata": {},
     "output_type": "execute_result"
    }
   ],
   "source": [
    "df_result_new = pd.DataFrame.from_dict(result, orient='index') \n",
    "df_result_new "
   ]
  },
  {
   "cell_type": "code",
   "execution_count": 132,
   "id": "6e19c5d7-9a5a-4a7e-8643-a37e8a04cc9e",
   "metadata": {},
   "outputs": [],
   "source": [
    "import pickle\n",
    "\n",
    "# Enregistrer le modèle\n",
    "with open('/opt/spark-apps/programs/Gohou/Data/Tabes/Random.pkl', 'wb') as file:\n",
    "    pickle.dump(result['catboost'][\"Modele\"], file)  "
   ]
  },
  {
   "cell_type": "code",
   "execution_count": 177,
   "id": "7686bf75-4751-4655-b57e-b5425027f1c3",
   "metadata": {},
   "outputs": [
    {
     "data": {
      "text/plain": [
       "<catboost.core.CatBoostClassifier at 0x7f15d1a929d0>"
      ]
     },
     "execution_count": 177,
     "metadata": {},
     "output_type": "execute_result"
    }
   ],
   "source": [
    "# result['catboost'][\"Modele\"].save_model('/opt/spark-apps/programs/Gohou/Data/Tabes/catboost.cbm')\n",
    "cat = CatBoostClassifier()\n",
    "cat.load_model('/opt/spark-apps/programs/Gohou/Data/Tabes/catboost.cbm') "
   ]
  },
  {
   "cell_type": "code",
   "execution_count": 28,
   "id": "69c0e974-450f-4fe4-a7dd-f8c07bda3d67",
   "metadata": {},
   "outputs": [
    {
     "data": {
      "text/plain": [
       "{'shrinkage': 'auto', 'solver': 'eigen'}"
      ]
     },
     "execution_count": 28,
     "metadata": {},
     "output_type": "execute_result"
    }
   ],
   "source": [
    "out_1.loc[\"LDA\",\"meilleurs_parametres\"] "
   ]
  },
  {
   "cell_type": "code",
   "execution_count": 50,
   "id": "b064b890-c61e-4591-8514-d9ef91908eb8",
   "metadata": {},
   "outputs": [
    {
     "name": "stdout",
     "output_type": "stream",
     "text": [
      "0.38988589815202723\n"
     ]
    }
   ],
   "source": [
    "pred = out_1.loc[\"Bagging\",\"best_model\"].predict(X_test)\n",
    "f1_test = f1_score(y_test, pred, average='weighted')\n",
    "# X_train_resampled, y_train_resampled\n",
    "# f1_test = f1_score(y_train_resampled, pred, average='weighted')\n",
    "# f1_test = accuracy_score(y_test, pred)\n",
    "print(f1_test)  "
   ]
  },
  {
   "cell_type": "code",
   "execution_count": 54,
   "id": "e14e4603-b3c6-4382-9cb7-5a4708afce4a",
   "metadata": {},
   "outputs": [
    {
     "data": {
      "image/png": "[encoded data removed]",
      "text/plain": [
       "<Figure size 800x600 with 2 Axes>"
      ]
     },
     "metadata": {},
     "output_type": "display_data"
    }
   ],
   "source": [
    "import matplotlib.pyplot as plt\n",
    "import seaborn as sns\n",
    "from sklearn.metrics import confusion_matrix, f1_score\n",
    "cm = confusion_matrix(y_train_resampled, pred)\n",
    "cm_percent = cm.astype('float') / cm.sum(axis=1)[:, np.newaxis] * 100\n",
    "# Affichage de la matrice de confusion\n",
    "plt.figure(figsize=(8, 6))\n",
    "# sns.heatmap(cm_percent, annot=True, fmt='.2f', cmap='Blues', cbar=False) \n",
    "sns.heatmap(cm_percent, annot=True, fmt='.2f', cmap='Blues', cbar=True)\n",
    "plt.title('Confusion Matrix')\n",
    "plt.xlabel('Pred Labels')\n",
    "plt.ylabel('True Labels')\n",
    "plt.show()"
   ]
  },
  {
   "cell_type": "code",
   "execution_count": 124,
   "id": "44c83bcc-2daf-4711-a6d3-bf97e6b9f3fb",
   "metadata": {},
   "outputs": [],
   "source": [
    "# Charger le modèle plus tard\n",
    "with open('/opt/spark-apps/programs/Gohou/Data/Tabes/Random.pkl', 'rb') as file:\n",
    "    loaded_model = pickle.load(file) "
   ]
  },
  {
   "cell_type": "code",
   "execution_count": 120,
   "id": "d9f6e139-f4ee-46a1-8687-97d20182c79b",
   "metadata": {},
   "outputs": [
    {
     "data": {
      "text/plain": [
       "PC1    -3.870732\n",
       "PC2     8.968597\n",
       "PC3    -8.871503\n",
       "PC4    -9.112597\n",
       "PC5   -10.086656\n",
       "Name: 0, dtype: float64"
      ]
     },
     "execution_count": 120,
     "metadata": {},
     "output_type": "execute_result"
    }
   ],
   "source": [
    "a = X_test.reset_index(drop=True)\n",
    "x = a.loc[0,:]"
   ]
  },
  {
   "cell_type": "code",
   "execution_count": 164,
   "id": "84e7ad14-0886-43c1-80d7-2ff9afff663a",
   "metadata": {},
   "outputs": [],
   "source": [
    "# X_test.head()"
   ]
  },
  {
   "cell_type": "code",
   "execution_count": 130,
   "id": "6ff99186-487c-4c2c-a4de-62c7739c0928",
   "metadata": {},
   "outputs": [
    {
     "name": "stdout",
     "output_type": "stream",
     "text": [
      "[2]\n"
     ]
    }
   ],
   "source": [
    "pr = loaded_model.predict(a.loc[7,:].values.reshape(1, -1))\n",
    "print(pr)"
   ]
  },
  {
   "cell_type": "code",
   "execution_count": null,
   "id": "12f844bf-9fe1-4b18-bddf-abccccc6e350",
   "metadata": {},
   "outputs": [],
   "source": [
    "# Join all threads (wait for them to finish)\n",
    "for thread1 in threads_best:\n",
    "    thread1.join()\n",
    "print(result) "
   ]
  },
  {
   "cell_type": "markdown",
   "id": "f66907af-3ea2-46b1-aeb5-66083e190f34",
   "metadata": {},
   "source": [
    "### AFFICHER LE MEILLEUR DES MEILLEURS PUIS ENTRAINEMENT SUR TOUTE LA DONNEES"
   ]
  },
  {
   "cell_type": "code",
   "execution_count": 89,
   "id": "a74d7dcb-e8bb-4178-a598-2d28c39060d3",
   "metadata": {},
   "outputs": [
    {
     "data": {
      "text/plain": [
       "Modele      LogisticRegression(C=1, max_iter=9000, penalty...\n",
       "F1_Score                                             0.712651\n",
       "Name: lasso, dtype: object"
      ]
     },
     "execution_count": 89,
     "metadata": {},
     "output_type": "execute_result"
    }
   ],
   "source": [
    "meilleur_modele = df_result.loc[df_result[\"F1_Score\"].idxmax()] \n",
    "meilleur_modele"
   ]
  },
  {
   "cell_type": "markdown",
   "id": "90d1c470-050b-4911-b32d-1ed8146f9fed",
   "metadata": {},
   "source": [
    "### Tester Le meilleur modele "
   ]
  },
  {
   "cell_type": "code",
   "execution_count": null,
   "id": "2b65fc66-6978-464b-a87f-8275da6eb73a",
   "metadata": {},
   "outputs": [],
   "source": []
  },
  {
   "cell_type": "markdown",
   "id": "5a66e7d0-b7c5-49e4-8df0-fa197cbd0ae2",
   "metadata": {},
   "source": [
    "### Courbe d'apprentissage "
   ]
  },
  {
   "cell_type": "code",
   "execution_count": 106,
   "id": "f6e6bf8f-fa3a-47d4-b196-5ebb9a95c5d2",
   "metadata": {},
   "outputs": [],
   "source": [
    "# param1 = {\"n_estimators\": [100, 80], \"max_features\": [0.7, 0.8], \"max_samples\":[0.7, 0.8]}\n",
    "# kf1 = KFold(n_splits= 4, shuffle=True, random_state=42) \n",
    "# mo = GridSearchCV( BaggingClassifier(DecisionTreeClassifier()), param_grid=param1, cv=kf1, scoring=\"f1_weighted\", error_score=\"raise\")\n",
    "# mo.fit(X_train_resampled, y_train_resampled)\n",
    "\n",
    "# predictions = cross_val_predict(mo, X_train_resampled, y_train_resampled, cv = kf1) \n",
    "# f1_train = f1_score(y_train_resampled, predictions, average='weighted')\n",
    "# print(f\"F1 Score d'entraînement : {f1_train}\")\n",
    "\n",
    "# pred_test = mo.best_estimator_.predict(X_test)\n",
    "# f1_test = f1_score(y_test, pred_test, average='weighted')\n",
    "# print(f\"F1 Score de test : {f1_test}\")\n",
    "\n",
    "# print(f\"Meilleurs paramètres : {mo.best_params_}\") "
   ]
  },
  {
   "cell_type": "code",
   "execution_count": null,
   "id": "41c0d554-d76a-4eb8-bf49-050ed2222c0c",
   "metadata": {},
   "outputs": [],
   "source": []
  }
 ],
 "metadata": {
  "kernelspec": {
   "display_name": "Python 3 (ipykernel)",
   "language": "python",
   "name": "python3"
  },
  "language_info": {
   "codemirror_mode": {
    "name": "ipython",
    "version": 3
   },
   "file_extension": ".py",
   "mimetype": "text/x-python",
   "name": "python",
   "nbconvert_exporter": "python",
   "pygments_lexer": "ipython3",
   "version": "3.9.18"
  }
 },
 "nbformat": 4,
 "nbformat_minor": 5
}
